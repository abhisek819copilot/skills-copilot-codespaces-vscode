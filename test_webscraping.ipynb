{
 "cells": [
  {
   "cell_type": "code",
   "execution_count": 0,
   "metadata": {
    "application/vnd.databricks.v1+cell": {
     "cellMetadata": {
      "byteLimit": 2048000,
      "rowLimit": 10000
     },
     "inputWidgets": {},
     "nuid": "c68cb98b-d703-49da-b35f-4cc680b8cb1c",
     "showTitle": false,
     "tableResultSettingsMap": {},
     "title": ""
    }
   },
   "outputs": [
    {
     "output_type": "stream",
     "name": "stdout",
     "output_type": "stream",
     "text": [
      "<!DOCTYPE html>\n\n<html class=\"client-nojs vector-feature-language-in-header-enabled vector-feature-language-in-main-page-header-disabled vector-feature-page-tools-pinned-disabled vector-feature-toc-pinned-clientpref-1 vector-feature-main-menu-pinned-disabled vector-feature-limited-width-clientpref-1 vector-feature-limited-width-content-enabled vector-feature-custom-font-size-clientpref-1 vector-feature-appearance-pinned-clientpref-1 vector-feature-night-mode-enabled skin-theme-clientpref-day vector-sticky-header-enabled vector-toc-available\" dir=\"ltr\" lang=\"en\">\n<head>\n<meta charset=\"utf-8\"/>\n<title>List of largest companies in the United States by revenue - Wikipedia</title>\n<script>(function(){var className=\"client-js vector-feature-language-in-header-enabled vector-feature-language-in-main-page-header-disabled vector-feature-page-tools-pinned-disabled vector-feature-toc-pinned-clientpref-1 vector-feature-main-menu-pinned-disabled vector-feature-limited-width-clientpref-1 vector-feature-limited-width-content-enabled vector-feature-custom-font-size-clientpref-1 vector-feature-appearance-pinned-clientpref-1 vector-feature-night-mode-enabled skin-theme-clientpref-day vector-sticky-header-enabled vector-toc-available\";var cookie=document.cookie.match(/(?:^|; )enwikimwclientpreferences=([^;]+)/);if(cookie){cookie[1].split('%2C').forEach(function(pref){className=className.replace(new RegExp('(^| )'+pref.replace(/-clientpref-\\w+$|[^\\w-]+/g,'')+'-clientpref-\\\\w+( |$)'),'$1'+pref+'$2');});}document.documentElement.className=className;}());RLCONF={\"wgBreakFrames\":false,\"wgSeparatorTransformTable\":[\"\",\"\"],\"wgDigitTransformTable\":[\"\",\"\"],\"wgDefaultDateFormat\":\"dmy\",\n\"wgMonthNames\":[\"\",\"January\",\"February\",\"March\",\"April\",\"May\",\"June\",\"July\",\"August\",\"September\",\"October\",\"November\",\"December\"],\"wgRequestId\":\"fbe50aef-328d-4bb2-9827-563584afdd57\",\"wgCanonicalNamespace\":\"\",\"wgCanonicalSpecialPageName\":false,\"wgNamespaceNumber\":0,\"wgPageName\":\"List_of_largest_companies_in_the_United_States_by_revenue\",\"wgTitle\":\"List of largest companies in the United States by revenue\",\"wgCurRevisionId\":1273798372,\"wgRevisionId\":1273798372,\"wgArticleId\":61181662,\"wgIsArticle\":true,\"wgIsRedirect\":false,\"wgAction\":\"view\",\"wgUserName\":null,\"wgUserGroups\":[\"*\"],\"wgCategories\":[\"Articles with short description\",\"Short description is different from Wikidata\",\"Economy of the United States-related lists\",\"Lists of companies by revenue\",\"Lists of largest private companies by country\",\"Lists of companies of the United States\"],\"wgPageViewLanguage\":\"en\",\"wgPageContentLanguage\":\"en\",\"wgPageContentModel\":\"wikitext\",\"wgRelevantPageName\":\n\"List_of_largest_companies_in_the_United_States_by_revenue\",\"wgRelevantArticleId\":61181662,\"wgIsProbablyEditable\":true,\"wgRelevantPageIsProbablyEditable\":true,\"wgRestrictionEdit\":[],\"wgRestrictionMove\":[],\"wgNoticeProject\":\"wikipedia\",\"wgCiteReferencePreviewsActive\":false,\"wgFlaggedRevsParams\":{\"tags\":{\"status\":{\"levels\":1}}},\"wgMediaViewerOnClick\":true,\"wgMediaViewerEnabledByDefault\":true,\"wgPopupsFlags\":0,\"wgVisualEditor\":{\"pageLanguageCode\":\"en\",\"pageLanguageDir\":\"ltr\",\"pageVariantFallbacks\":\"en\"},\"wgMFDisplayWikibaseDescriptions\":{\"search\":true,\"watchlist\":true,\"tagline\":false,\"nearby\":true},\"wgWMESchemaEditAttemptStepOversample\":false,\"wgWMEPageLength\":30000,\"wgEditSubmitButtonLabelPublish\":true,\"wgULSPosition\":\"interlanguage\",\"wgULSisCompactLinksEnabled\":false,\"wgVector2022LanguageInHeader\":true,\"wgULSisLanguageSelectorEmpty\":false,\"wgWikibaseItemId\":\"Q1860802\",\"wgCheckUserClientHintsHeadersJsApi\":[\"brands\",\"architecture\",\"bitness\",\"fullVersionList\",\"mobile\",\"model\",\"platform\",\n\"platformVersion\"],\"GEHomepageSuggestedEditsEnableTopics\":true,\"wgGETopicsMatchModeEnabled\":false,\"wgGEStructuredTaskRejectionReasonTextInputEnabled\":false,\"wgGELevelingUpEnabledForUser\":false};RLSTATE={\"ext.globalCssJs.user.styles\":\"ready\",\"site.styles\":\"ready\",\"user.styles\":\"ready\",\"ext.globalCssJs.user\":\"ready\",\"user\":\"ready\",\"user.options\":\"loading\",\"ext.cite.styles\":\"ready\",\"skins.vector.search.codex.styles\":\"ready\",\"skins.vector.styles\":\"ready\",\"skins.vector.icons\":\"ready\",\"jquery.tablesorter.styles\":\"ready\",\"ext.wikimediamessages.styles\":\"ready\",\"ext.visualEditor.desktopArticleTarget.noscript\":\"ready\",\"ext.uls.interlanguage\":\"ready\",\"wikibase.client.init\":\"ready\",\"ext.wikimediaBadges\":\"ready\"};RLPAGEMODULES=[\"ext.cite.ux-enhancements\",\"site\",\"mediawiki.page.ready\",\"jquery.tablesorter\",\"mediawiki.toc\",\"skins.vector.js\",\"ext.centralNotice.geoIP\",\"ext.centralNotice.startUp\",\"ext.gadget.ReferenceTooltips\",\"ext.gadget.switcher\",\"ext.urlShortener.toolbar\",\n\"ext.centralauth.centralautologin\",\"mmv.bootstrap\",\"ext.popups\",\"ext.visualEditor.desktopArticleTarget.init\",\"ext.visualEditor.targetLoader\",\"ext.echo.centralauth\",\"ext.eventLogging\",\"ext.wikimediaEvents\",\"ext.navigationTiming\",\"ext.uls.interface\",\"ext.cx.eventlogging.campaigns\",\"ext.cx.uls.quick.actions\",\"wikibase.client.vector-2022\",\"ext.checkUser.clientHints\",\"ext.growthExperiments.SuggestedEditSession\"];</script>\n<script>(RLQ=window.RLQ||[]).push(function(){mw.loader.impl(function(){return[\"user.options@12s5i\",function($,jQuery,require,module){mw.user.tokens.set({\"patrolToken\":\"+\\\\\",\"watchToken\":\"+\\\\\",\"csrfToken\":\"+\\\\\"});\n}];});});</script>\n<link href=\"/w/load.php?lang=en&amp;modules=ext.cite.styles%7Cext.uls.interlanguage%7Cext.visualEditor.desktopArticleTarget.noscript%7Cext.wikimediaBadges%7Cext.wikimediamessages.styles%7Cjquery.tablesorter.styles%7Cskins.vector.icons%2Cstyles%7Cskins.vector.search.codex.styles%7Cwikibase.client.init&amp;only=styles&amp;skin=vector-2022\" rel=\"stylesheet\"/>\n<script async=\"\" src=\"/w/load.php?lang=en&amp;modules=startup&amp;only=scripts&amp;raw=1&amp;skin=vector-2022\"></script>\n<meta content=\"\" name=\"ResourceLoaderDynamicStyles\"/>\n<link href=\"/w/load.php?lang=en&amp;modules=site.styles&amp;only=styles&amp;skin=vector-2022\" rel=\"stylesheet\"/>\n<meta content=\"MediaWiki 1.44.0-wmf.17\" name=\"generator\"/>\n<meta content=\"origin\" name=\"referrer\"/>\n<meta content=\"origin-when-cross-origin\" name=\"referrer\"/>\n<meta content=\"max-image-preview:standard\" name=\"robots\"/>\n<meta content=\"telephone=no\" name=\"format-detection\"/>\n<meta content=\"width=1120\" name=\"viewport\"/>\n<meta content=\"List of largest companies in the United States by revenue - Wikipedia\" property=\"og:title\"/>\n<meta content=\"website\" property=\"og:type\"/>\n<link href=\"//upload.wikimedia.org\" rel=\"preconnect\"/>\n<link href=\"//en.m.wikipedia.org/wiki/List_of_largest_companies_in_the_United_States_by_revenue\" media=\"only screen and (max-width: 640px)\" rel=\"alternate\"/>\n<link href=\"/w/index.php?title=List_of_largest_companies_in_the_United_States_by_revenue&amp;action=edit\" rel=\"alternate\" title=\"Edit this page\" type=\"application/x-wiki\"/>\n<link href=\"/static/apple-touch/wikipedia.png\" rel=\"apple-touch-icon\"/>\n<link href=\"/static/favicon/wikipedia.ico\" rel=\"icon\"/>\n<link href=\"/w/rest.php/v1/search\" rel=\"search\" title=\"Wikipedia (en)\" type=\"application/opensearchdescription+xml\"/>\n<link href=\"//en.wikipedia.org/w/api.php?action=rsd\" rel=\"EditURI\" type=\"application/rsd+xml\"/>\n<link href=\"https://en.wikipedia.org/wiki/List_of_largest_companies_in_the_United_States_by_revenue\" rel=\"canonical\"/>\n<link href=\"https://creativecommons.org/licenses/by-sa/4.0/deed.en\" rel=\"license\"/>\n<link href=\"/w/index.php?title=Special:RecentChanges&amp;feed=atom\" rel=\"alternate\" title=\"Wikipedia Atom feed\" type=\"application/atom+xml\"/>\n<link href=\"//meta.wikimedia.org\" rel=\"dns-prefetch\">\n<link href=\"login.wikimedia.org\" rel=\"dns-prefetch\"/>\n</link></head>\n<body class=\"skin--responsive skin-vector skin-vector-search-vue mediawiki ltr sitedir-ltr mw-hide-empty-elt ns-0 ns-subject mw-editable page-List_of_largest_companies_in_the_United_States_by_revenue rootpage-List_of_largest_companies_in_the_United_States_by_revenue skin-vector-2022 action-view\"><a class=\"mw-jump-link\" href=\"#bodyContent\">Jump to content</a>\n<div class=\"vector-header-container\">\n<header class=\"vector-header mw-header\">\n<div class=\"vector-header-start\">\n<nav aria-label=\"Site\" class=\"vector-main-menu-landmark\">\n<div class=\"vector-dropdown vector-main-menu-dropdown vector-button-flush-left vector-button-flush-right\" id=\"vector-main-menu-dropdown\" title=\"Main menu\">\n<input aria-haspopup=\"true\" aria-label=\"Main menu\" class=\"vector-dropdown-checkbox\" data-event-name=\"ui.dropdown-vector-main-menu-dropdown\" id=\"vector-main-menu-dropdown-checkbox\" role=\"button\" type=\"checkbox\"/>\n<label aria-hidden=\"true\" class=\"vector-dropdown-label cdx-button cdx-button--fake-button cdx-button--fake-button--enabled cdx-button--weight-quiet cdx-button--icon-only\" for=\"vector-main-menu-dropdown-checkbox\" id=\"vector-main-menu-dropdown-label\"><span class=\"vector-icon mw-ui-icon-menu mw-ui-icon-wikimedia-menu\"></span>\n<span class=\"vector-dropdown-label-text\">Main menu</span>\n</label>\n<div class=\"vector-dropdown-content\">\n<div class=\"vector-unpinned-container\" id=\"vector-main-menu-unpinned-container\">\n<div class=\"vector-main-menu vector-pinnable-element\" id=\"vector-main-menu\">\n<div class=\"vector-pinnable-header vector-main-menu-pinnable-header vector-pinnable-header-unpinned\" data-feature-name=\"main-menu-pinned\" data-pinnable-element-id=\"vector-main-menu\" data-pinned-container-id=\"vector-main-menu-pinned-container\" data-unpinned-container-id=\"vector-main-menu-unpinned-container\">\n<div class=\"vector-pinnable-header-label\">Main menu</div>\n<button class=\"vector-pinnable-header-toggle-button vector-pinnable-header-pin-button\" data-event-name=\"pinnable-header.vector-main-menu.pin\">move to sidebar</button>\n<button class=\"vector-pinnable-header-toggle-button vector-pinnable-header-unpin-button\" data-event-name=\"pinnable-header.vector-main-menu.unpin\">hide</button>\n</div>\n<div class=\"vector-menu mw-portlet mw-portlet-navigation\" id=\"p-navigation\">\n<div class=\"vector-menu-heading\">\n\t\tNavigation\n\t</div>\n<div class=\"vector-menu-content\">\n<ul class=\"vector-menu-content-list\">\n<li class=\"mw-list-item\" id=\"n-mainpage-description\"><a accesskey=\"z\" href=\"/wiki/Main_Page\" title=\"Visit the main page [z]\"><span>Main page</span></a></li><li class=\"mw-list-item\" id=\"n-contents\"><a href=\"/wiki/Wikipedia:Contents\" title=\"Guides to browsing Wikipedia\"><span>Contents</span></a></li><li class=\"mw-list-item\" id=\"n-currentevents\"><a href=\"/wiki/Portal:Current_events\" title=\"Articles related to current events\"><span>Current events</span></a></li><li class=\"mw-list-item\" id=\"n-randompage\"><a accesskey=\"x\" href=\"/wiki/Special:Random\" title=\"Visit a randomly selected article [x]\"><span>Random article</span></a></li><li class=\"mw-list-item\" id=\"n-aboutsite\"><a href=\"/wiki/Wikipedia:About\" title=\"Learn about Wikipedia and how it works\"><span>About Wikipedia</span></a></li><li class=\"mw-list-item\" id=\"n-contactpage\"><a href=\"//en.wikipedia.org/wiki/Wikipedia:Contact_us\" title=\"How to contact Wikipedia\"><span>Contact us</span></a></li>\n</ul>\n</div>\n</div>\n<div class=\"vector-menu mw-portlet mw-portlet-interaction\" id=\"p-interaction\">\n<div class=\"vector-menu-heading\">\n\t\tContribute\n\t</div>\n<div class=\"vector-menu-content\">\n<ul class=\"vector-menu-content-list\">\n<li class=\"mw-list-item\" id=\"n-help\"><a href=\"/wiki/Help:Contents\" title=\"Guidance on how to use and edit Wikipedia\"><span>Help</span></a></li><li class=\"mw-list-item\" id=\"n-introduction\"><a href=\"/wiki/Help:Introduction\" title=\"Learn how to edit Wikipedia\"><span>Learn to edit</span></a></li><li class=\"mw-list-item\" id=\"n-portal\"><a href=\"/wiki/Wikipedia:Community_portal\" title=\"The hub for editors\"><span>Community portal</span></a></li><li class=\"mw-list-item\" id=\"n-recentchanges\"><a accesskey=\"r\" href=\"/wiki/Special:RecentChanges\" title=\"A list of recent changes to Wikipedia [r]\"><span>Recent changes</span></a></li><li class=\"mw-list-item\" id=\"n-upload\"><a href=\"/wiki/Wikipedia:File_upload_wizard\" title=\"Add images or other media for use on Wikipedia\"><span>Upload file</span></a></li><li class=\"mw-list-item\" id=\"n-specialpages\"><a href=\"/wiki/Special:SpecialPages\"><span>Special pages</span></a></li>\n</ul>\n</div>\n</div>\n</div>\n</div>\n</div>\n</div>\n</nav>\n<a class=\"mw-logo\" href=\"/wiki/Main_Page\">\n<img alt=\"\" aria-hidden=\"true\" class=\"mw-logo-icon\" height=\"50\" src=\"/static/images/icons/wikipedia.png\" width=\"50\"/>\n<span class=\"mw-logo-container skin-invert\">\n<img alt=\"Wikipedia\" class=\"mw-logo-wordmark\" src=\"/static/images/mobile/copyright/wikipedia-wordmark-en.svg\" style=\"width: 7.5em; height: 1.125em;\"/>\n<img alt=\"The Free Encyclopedia\" class=\"mw-logo-tagline\" height=\"13\" src=\"/static/images/mobile/copyright/wikipedia-tagline-en.svg\" style=\"width: 7.3125em; height: 0.8125em;\" width=\"117\"/>\n</span>\n</a>\n</div>\n<div class=\"vector-header-end\">\n<div class=\"vector-search-box-vue vector-search-box-collapses vector-search-box-show-thumbnail vector-search-box-auto-expand-width vector-search-box\" id=\"p-search\" role=\"search\">\n<a accesskey=\"f\" class=\"cdx-button cdx-button--fake-button cdx-button--fake-button--enabled cdx-button--weight-quiet cdx-button--icon-only search-toggle\" href=\"/wiki/Special:Search\" title=\"Search Wikipedia [f]\"><span class=\"vector-icon mw-ui-icon-search mw-ui-icon-wikimedia-search\"></span>\n<span>Search</span>\n</a>\n<div class=\"vector-typeahead-search-container\">\n<div class=\"cdx-typeahead-search cdx-typeahead-search--show-thumbnail cdx-typeahead-search--auto-expand-width\">\n<form action=\"/w/index.php\" class=\"cdx-search-input cdx-search-input--has-end-button\" id=\"searchform\">\n<div class=\"cdx-search-input__input-wrapper\" data-search-loc=\"header-moved\" id=\"simpleSearch\">\n<div class=\"cdx-text-input cdx-text-input--has-start-icon\">\n<input accesskey=\"f\" aria-label=\"Search Wikipedia\" autocapitalize=\"sentences\" class=\"cdx-text-input__input\" id=\"searchInput\" name=\"search\" placeholder=\"Search Wikipedia\" title=\"Search Wikipedia [f]\" type=\"search\"/>\n<span class=\"cdx-text-input__icon cdx-text-input__start-icon\"></span>\n</div>\n<input name=\"title\" type=\"hidden\" value=\"Special:Search\"/>\n</div>\n<button class=\"cdx-button cdx-search-input__end-button\">Search</button>\n</form>\n</div>\n</div>\n</div>\n<nav aria-label=\"Personal tools\" class=\"vector-user-links vector-user-links-wide\">\n<div class=\"vector-user-links-main\">\n<div class=\"vector-menu mw-portlet emptyPortlet\" id=\"p-vector-user-menu-preferences\">\n<div class=\"vector-menu-content\">\n<ul class=\"vector-menu-content-list\">\n</ul>\n</div>\n</div>\n<div class=\"vector-menu mw-portlet emptyPortlet\" id=\"p-vector-user-menu-userpage\">\n<div class=\"vector-menu-content\">\n<ul class=\"vector-menu-content-list\">\n</ul>\n</div>\n</div>\n<nav aria-label=\"Appearance\" class=\"vector-appearance-landmark\">\n<div class=\"vector-dropdown\" id=\"vector-appearance-dropdown\" title=\"Change the appearance of the page's font size, width, and color\">\n<input aria-haspopup=\"true\" aria-label=\"Appearance\" class=\"vector-dropdown-checkbox\" data-event-name=\"ui.dropdown-vector-appearance-dropdown\" id=\"vector-appearance-dropdown-checkbox\" role=\"button\" type=\"checkbox\"/>\n<label aria-hidden=\"true\" class=\"vector-dropdown-label cdx-button cdx-button--fake-button cdx-button--fake-button--enabled cdx-button--weight-quiet cdx-button--icon-only\" for=\"vector-appearance-dropdown-checkbox\" id=\"vector-appearance-dropdown-label\"><span class=\"vector-icon mw-ui-icon-appearance mw-ui-icon-wikimedia-appearance\"></span>\n<span class=\"vector-dropdown-label-text\">Appearance</span>\n</label>\n<div class=\"vector-dropdown-content\">\n<div class=\"vector-unpinned-container\" id=\"vector-appearance-unpinned-container\">\n</div>\n</div>\n</div>\n</nav>\n<div class=\"vector-menu mw-portlet emptyPortlet\" id=\"p-vector-user-menu-notifications\">\n<div class=\"vector-menu-content\">\n<ul class=\"vector-menu-content-list\">\n</ul>\n</div>\n</div>\n<div class=\"vector-menu mw-portlet\" id=\"p-vector-user-menu-overflow\">\n<div class=\"vector-menu-content\">\n<ul class=\"vector-menu-content-list\">\n<li class=\"user-links-collapsible-item mw-list-item user-links-collapsible-item\" id=\"pt-sitesupport-2\"><a class=\"\" data-mw=\"interface\" href=\"https://donate.wikimedia.org/?wmf_source=donate&amp;wmf_medium=sidebar&amp;wmf_campaign=en.wikipedia.org&amp;uselang=en\"><span>Donate</span></a>\n</li>\n<li class=\"user-links-collapsible-item mw-list-item user-links-collapsible-item\" id=\"pt-createaccount-2\"><a class=\"\" data-mw=\"interface\" href=\"/w/index.php?title=Special:CreateAccount&amp;returnto=List+of+largest+companies+in+the+United+States+by+revenue\" title=\"You are encouraged to create an account and log in; however, it is not mandatory\"><span>Create account</span></a>\n</li>\n<li class=\"user-links-collapsible-item mw-list-item user-links-collapsible-item\" id=\"pt-login-2\"><a accesskey=\"o\" class=\"\" data-mw=\"interface\" href=\"/w/index.php?title=Special:UserLogin&amp;returnto=List+of+largest+companies+in+the+United+States+by+revenue\" title=\"You're encouraged to log in; however, it's not mandatory. [o]\"><span>Log in</span></a>\n</li>\n</ul>\n</div>\n</div>\n</div>\n<div class=\"vector-dropdown vector-user-menu vector-button-flush-right vector-user-menu-logged-out\" id=\"vector-user-links-dropdown\" title=\"Log in and more options\">\n<input aria-haspopup=\"true\" aria-label=\"Personal tools\" class=\"vector-dropdown-checkbox\" data-event-name=\"ui.dropdown-vector-user-links-dropdown\" id=\"vector-user-links-dropdown-checkbox\" role=\"button\" type=\"checkbox\"/>\n<label aria-hidden=\"true\" class=\"vector-dropdown-label cdx-button cdx-button--fake-button cdx-button--fake-button--enabled cdx-button--weight-quiet cdx-button--icon-only\" for=\"vector-user-links-dropdown-checkbox\" id=\"vector-user-links-dropdown-label\"><span class=\"vector-icon mw-ui-icon-ellipsis mw-ui-icon-wikimedia-ellipsis\"></span>\n<span class=\"vector-dropdown-label-text\">Personal tools</span>\n</label>\n<div class=\"vector-dropdown-content\">\n<div class=\"vector-menu mw-portlet mw-portlet-personal user-links-collapsible-item\" id=\"p-personal\" title=\"User menu\">\n<div class=\"vector-menu-content\">\n<ul class=\"vector-menu-content-list\">\n<li class=\"user-links-collapsible-item mw-list-item\" id=\"pt-sitesupport\"><a href=\"https://donate.wikimedia.org/?wmf_source=donate&amp;wmf_medium=sidebar&amp;wmf_campaign=en.wikipedia.org&amp;uselang=en\"><span>Donate</span></a></li><li class=\"user-links-collapsible-item mw-list-item\" id=\"pt-createaccount\"><a href=\"/w/index.php?title=Special:CreateAccount&amp;returnto=List+of+largest+companies+in+the+United+States+by+revenue\" title=\"You are encouraged to create an account and log in; however, it is not mandatory\"><span class=\"vector-icon mw-ui-icon-userAdd mw-ui-icon-wikimedia-userAdd\"></span> <span>Create account</span></a></li><li class=\"user-links-collapsible-item mw-list-item\" id=\"pt-login\"><a accesskey=\"o\" href=\"/w/index.php?title=Special:UserLogin&amp;returnto=List+of+largest+companies+in+the+United+States+by+revenue\" title=\"You're encouraged to log in; however, it's not mandatory. [o]\"><span class=\"vector-icon mw-ui-icon-logIn mw-ui-icon-wikimedia-logIn\"></span> <span>Log in</span></a></li>\n</ul>\n</div>\n</div>\n<div class=\"vector-menu mw-portlet mw-portlet-user-menu-anon-editor\" id=\"p-user-menu-anon-editor\">\n<div class=\"vector-menu-heading\">\n\t\tPages for logged out editors <a aria-label=\"Learn more about editing\" href=\"/wiki/Help:Introduction\"><span>learn more</span></a>\n</div>\n<div class=\"vector-menu-content\">\n<ul class=\"vector-menu-content-list\">\n<li class=\"mw-list-item\" id=\"pt-anoncontribs\"><a accesskey=\"y\" href=\"/wiki/Special:MyContributions\" title=\"A list of edits made from this IP address [y]\"><span>Contributions</span></a></li><li class=\"mw-list-item\" id=\"pt-anontalk\"><a accesskey=\"n\" href=\"/wiki/Special:MyTalk\" title=\"Discussion about edits from this IP address [n]\"><span>Talk</span></a></li>\n</ul>\n</div>\n</div>\n</div>\n</div>\n</nav>\n</div>\n</header>\n</div>\n<div class=\"mw-page-container\">\n<div class=\"mw-page-container-inner\">\n<div class=\"vector-sitenotice-container\">\n<div id=\"siteNotice\"><!-- CentralNotice --></div>\n</div>\n<div class=\"vector-column-start\">\n<div class=\"vector-main-menu-container\">\n<div id=\"mw-navigation\">\n<nav aria-label=\"Site\" class=\"vector-main-menu-landmark\" id=\"mw-panel\">\n<div class=\"vector-pinned-container\" id=\"vector-main-menu-pinned-container\">\n</div>\n</nav>\n</div>\n</div>\n<div class=\"vector-sticky-pinned-container\">\n<nav aria-label=\"Contents\" class=\"mw-table-of-contents-container vector-toc-landmark\" data-event-name=\"ui.sidebar-toc\" id=\"mw-panel-toc\">\n<div class=\"vector-pinned-container\" id=\"vector-toc-pinned-container\">\n<div class=\"vector-toc vector-pinnable-element\" id=\"vector-toc\">\n<div class=\"vector-pinnable-header vector-toc-pinnable-header vector-pinnable-header-pinned\" data-feature-name=\"toc-pinned\" data-pinnable-element-id=\"vector-toc\">\n<h2 class=\"vector-pinnable-header-label\">Contents</h2>\n<button class=\"vector-pinnable-header-toggle-button vector-pinnable-header-pin-button\" data-event-name=\"pinnable-header.vector-toc.pin\">move to sidebar</button>\n<button class=\"vector-pinnable-header-toggle-button vector-pinnable-header-unpin-button\" data-event-name=\"pinnable-header.vector-toc.unpin\">hide</button>\n</div>\n<ul class=\"vector-toc-contents\" id=\"mw-panel-toc-list\">\n<li class=\"vector-toc-list-item vector-toc-level-1\" id=\"toc-mw-content-text\">\n<a class=\"vector-toc-link\" href=\"#\">\n<div class=\"vector-toc-text\">(Top)</div>\n</a>\n</li>\n<li class=\"vector-toc-list-item vector-toc-level-1 vector-toc-list-item-expanded\" id=\"toc-List_of_the_largest_public_/_publicly_traded_companies\">\n<a class=\"vector-toc-link\" href=\"#List_of_the_largest_public_/_publicly_traded_companies\">\n<div class=\"vector-toc-text\">\n<span class=\"vector-toc-numb\">1</span>\n<span>List of the largest public / publicly traded companies</span>\n</div>\n</a>\n<ul class=\"vector-toc-list\" id=\"toc-List_of_the_largest_public_/_publicly_traded_companies-sublist\">\n</ul>\n</li>\n<li class=\"vector-toc-list-item vector-toc-level-1 vector-toc-list-item-expanded\" id=\"toc-List_of_largest_private_companies\">\n<a class=\"vector-toc-link\" href=\"#List_of_largest_private_companies\">\n<div class=\"vector-toc-text\">\n<span class=\"vector-toc-numb\">2</span>\n<span>List of largest private companies</span>\n</div>\n</a>\n<ul class=\"vector-toc-list\" id=\"toc-List_of_largest_private_companies-sublist\">\n</ul>\n</li>\n<li class=\"vector-toc-list-item vector-toc-level-1 vector-toc-list-item-expanded\" id=\"toc-List_of_companies_by_profit\">\n<a class=\"vector-toc-link\" href=\"#List_of_companies_by_profit\">\n<div class=\"vector-toc-text\">\n<span class=\"vector-toc-numb\">3</span>\n<span>List of companies by profit</span>\n</div>\n</a>\n<ul class=\"vector-toc-list\" id=\"toc-List_of_companies_by_profit-sublist\">\n</ul>\n</li>\n<li class=\"vector-toc-list-item vector-toc-level-1 vector-toc-list-item-expanded\" id=\"toc-See_also\">\n<a class=\"vector-toc-link\" href=\"#See_also\">\n<div class=\"vector-toc-text\">\n<span class=\"vector-toc-numb\">4</span>\n<span>See also</span>\n</div>\n</a>\n<ul class=\"vector-toc-list\" id=\"toc-See_also-sublist\">\n</ul>\n</li>\n<li class=\"vector-toc-list-item vector-toc-level-1 vector-toc-list-item-expanded\" id=\"toc-References\">\n<a class=\"vector-toc-link\" href=\"#References\">\n<div class=\"vector-toc-text\">\n<span class=\"vector-toc-numb\">5</span>\n<span>References</span>\n</div>\n</a>\n<ul class=\"vector-toc-list\" id=\"toc-References-sublist\">\n</ul>\n</li>\n</ul>\n</div>\n</div>\n</nav>\n</div>\n</div>\n<div class=\"mw-content-container\">\n<main class=\"mw-body\" id=\"content\">\n<header class=\"mw-body-header vector-page-titlebar\">\n<nav aria-label=\"Contents\" class=\"vector-toc-landmark\">\n<div class=\"vector-dropdown vector-page-titlebar-toc vector-button-flush-left\" id=\"vector-page-titlebar-toc\" title=\"Table of Contents\">\n<input aria-haspopup=\"true\" aria-label=\"Toggle the table of contents\" class=\"vector-dropdown-checkbox\" data-event-name=\"ui.dropdown-vector-page-titlebar-toc\" id=\"vector-page-titlebar-toc-checkbox\" role=\"button\" type=\"checkbox\"/>\n<label aria-hidden=\"true\" class=\"vector-dropdown-label cdx-button cdx-button--fake-button cdx-button--fake-button--enabled cdx-button--weight-quiet cdx-button--icon-only\" for=\"vector-page-titlebar-toc-checkbox\" id=\"vector-page-titlebar-toc-label\"><span class=\"vector-icon mw-ui-icon-listBullet mw-ui-icon-wikimedia-listBullet\"></span>\n<span class=\"vector-dropdown-label-text\">Toggle the table of contents</span>\n</label>\n<div class=\"vector-dropdown-content\">\n<div class=\"vector-unpinned-container\" id=\"vector-page-titlebar-toc-unpinned-container\">\n</div>\n</div>\n</div>\n</nav>\n<h1 class=\"firstHeading mw-first-heading\" id=\"firstHeading\"><span class=\"mw-page-title-main\">List of largest companies in the United States by revenue</span></h1>\n<div class=\"vector-dropdown mw-portlet mw-portlet-lang\" id=\"p-lang-btn\">\n<input aria-haspopup=\"true\" aria-label=\"Go to an article in another language. Available in 9 languages\" class=\"vector-dropdown-checkbox mw-interlanguage-selector\" data-event-name=\"ui.dropdown-p-lang-btn\" id=\"p-lang-btn-checkbox\" role=\"button\" type=\"checkbox\"/>\n<label aria-hidden=\"true\" class=\"vector-dropdown-label cdx-button cdx-button--fake-button cdx-button--fake-button--enabled cdx-b\n\n*** WARNING: max output size exceeded, skipping output. ***\n\ne\">Keene, New Hampshire</a>\n</td></tr>\n<tr>\n<td>9\n</td>\n<td><a href=\"/wiki/Love%27s\" title=\"Love's\">Love's</a>\n</td>\n<td>Petroleum industry and Retail\n</td>\n<td style=\"text-align:center;\">26.5\n</td>\n<td style=\"text-align:center;\">40,000\n</td>\n<td><a class=\"mw-redirect\" href=\"/wiki/Oklahoma_City,_Oklahoma\" title=\"Oklahoma City, Oklahoma\">Oklahoma City, Oklahoma</a>\n</td></tr>\n<tr>\n<td>10\n</td>\n<td><a href=\"/wiki/Southern_Glazer%27s_Wine_and_Spirits\" title=\"Southern Glazer's Wine and Spirits\">Southern Glazer's Wine and Spirits</a>\n</td>\n<td>Food industry\n</td>\n<td style=\"text-align:center;\">26.0\n</td>\n<td style=\"text-align:center;\">24,000\n</td>\n<td><a href=\"/wiki/Miramar,_Florida\" title=\"Miramar, Florida\">Miramar, Florida</a>\n</td></tr></tbody></table>\n<div class=\"mw-heading mw-heading2\"><h2 id=\"List_of_companies_by_profit\">List of companies by profit</h2><span class=\"mw-editsection\"><span class=\"mw-editsection-bracket\">[</span><a href=\"/w/index.php?title=List_of_largest_companies_in_the_United_States_by_revenue&amp;action=edit&amp;section=3\" title=\"Edit section: List of companies by profit\"><span>edit</span></a><span class=\"mw-editsection-bracket\">]</span></span></div>\n<p>The 10 most profitable companies in 2024 according to the Fortune 500.<sup class=\"reference\" id=\"cite_ref-3\"><a href=\"#cite_note-3\"><span class=\"cite-bracket\">[</span>3<span class=\"cite-bracket\">]</span></a></sup>\n</p>\n<table class=\"wikitable sortable\">\n<caption>\n</caption>\n<tbody><tr>\n<th>Rank\n</th>\n<th>Name\n</th>\n<th>Industry\n</th>\n<th>Profits<br/>(USD millions)\n</th></tr>\n<tr>\n<td>1\n</td>\n<td><a href=\"/wiki/Apple_Inc.\" title=\"Apple Inc.\">Apple</a>\n</td>\n<td>Electronics\n</td>\n<td style=\"text-align:center;\">96,995\n</td></tr>\n<tr>\n<td>2\n</td>\n<td><a href=\"/wiki/Berkshire_Hathaway\" title=\"Berkshire Hathaway\">Berkshire Hathaway</a>\n</td>\n<td>Conglomerate\n</td>\n<td style=\"text-align:center;\">96,223\n</td></tr>\n<tr>\n<td>3\n</td>\n<td><a href=\"/wiki/Alphabet_Inc.\" title=\"Alphabet Inc.\">Alphabet</a>\n</td>\n<td>Technology\n</td>\n<td style=\"text-align:center;\">73,795\n</td></tr>\n<tr>\n<td>4\n</td>\n<td><a href=\"/wiki/Microsoft\" title=\"Microsoft\">Microsoft</a>\n</td>\n<td>Technology\n</td>\n<td style=\"text-align:center;\">72,361\n</td></tr>\n<tr>\n<td>5\n</td>\n<td><a href=\"/wiki/JPMorgan_Chase\" title=\"JPMorgan Chase\">JPMorgan Chase</a>\n</td>\n<td>Financials\n</td>\n<td style=\"text-align:center;\">49,552\n</td></tr>\n<tr>\n<td>6\n</td>\n<td><a href=\"/wiki/Meta_Platforms\" title=\"Meta Platforms\">Meta Platforms</a>\n</td>\n<td>Technology\n</td>\n<td style=\"text-align:center;\">39,098\n</td></tr>\n<tr>\n<td>7\n</td>\n<td><a href=\"/wiki/ExxonMobil\" title=\"ExxonMobil\">ExxonMobil</a>\n</td>\n<td>Petroleum industry\n</td>\n<td style=\"text-align:center;\">36,010\n</td></tr>\n<tr>\n<td>8\n</td>\n<td><a href=\"/wiki/Johnson_%26_Johnson\" title=\"Johnson &amp; Johnson\">Johnson &amp; Johnson</a>\n</td>\n<td>Pharmaceutical industry\n</td>\n<td style=\"text-align:center;\">35,153\n</td></tr>\n<tr>\n<td>9\n</td>\n<td><a href=\"/wiki/Amazon_(company)\" title=\"Amazon (company)\">Amazon</a>\n</td>\n<td>Retail/Technology\n</td>\n<td style=\"text-align:center;\">30,425\n</td></tr>\n<tr>\n<td>10\n</td>\n<td><a href=\"/wiki/Nvidia\" title=\"Nvidia\">Nvidia</a>\n</td>\n<td>Technology\n</td>\n<td style=\"text-align:center;\">29,760\n</td></tr></tbody></table>\n<div class=\"mw-heading mw-heading2\"><h2 id=\"See_also\">See also</h2><span class=\"mw-editsection\"><span class=\"mw-editsection-bracket\">[</span><a href=\"/w/index.php?title=List_of_largest_companies_in_the_United_States_by_revenue&amp;action=edit&amp;section=4\" title=\"Edit section: See also\"><span>edit</span></a><span class=\"mw-editsection-bracket\">]</span></span></div>\n<ul><li><a href=\"/wiki/List_of_companies_of_the_United_States_by_state\" title=\"List of companies of the United States by state\">List of companies of the United States by state</a></li>\n<li><a href=\"/wiki/List_of_largest_companies_by_revenue\" title=\"List of largest companies by revenue\">List of largest companies by revenue</a></li></ul>\n<div class=\"mw-heading mw-heading2\"><h2 id=\"References\">References</h2><span class=\"mw-editsection\"><span class=\"mw-editsection-bracket\">[</span><a href=\"/w/index.php?title=List_of_largest_companies_in_the_United_States_by_revenue&amp;action=edit&amp;section=5\" title=\"Edit section: References\"><span>edit</span></a><span class=\"mw-editsection-bracket\">]</span></span></div>\n<style data-mw-deduplicate=\"TemplateStyles:r1239543626\">.mw-parser-output .reflist{margin-bottom:0.5em;list-style-type:decimal}@media screen{.mw-parser-output .reflist{font-size:90%}}.mw-parser-output .reflist .references{font-size:100%;margin-bottom:0;list-style-type:inherit}.mw-parser-output .reflist-columns-2{column-width:30em}.mw-parser-output .reflist-columns-3{column-width:25em}.mw-parser-output .reflist-columns{margin-top:0.3em}.mw-parser-output .reflist-columns ol{margin-top:0}.mw-parser-output .reflist-columns li{page-break-inside:avoid;break-inside:avoid-column}.mw-parser-output .reflist-upper-alpha{list-style-type:upper-alpha}.mw-parser-output .reflist-upper-roman{list-style-type:upper-roman}.mw-parser-output .reflist-lower-alpha{list-style-type:lower-alpha}.mw-parser-output .reflist-lower-greek{list-style-type:lower-greek}.mw-parser-output .reflist-lower-roman{list-style-type:lower-roman}</style><div class=\"reflist\">\n<div class=\"mw-references-wrap\"><ol class=\"references\">\n<li id=\"cite_note-1\"><span class=\"mw-cite-backlink\"><b><a href=\"#cite_ref-1\">^</a></b></span> <span class=\"reference-text\"><style data-mw-deduplicate=\"TemplateStyles:r1238218222\">.mw-parser-output cite.citation{font-style:inherit;word-wrap:break-word}.mw-parser-output .citation q{quotes:\"\\\"\"\"\\\"\"\"'\"\"'\"}.mw-parser-output .citation:target{background-color:rgba(0,127,255,0.133)}.mw-parser-output .id-lock-free.id-lock-free a{background:url(\"//upload.wikimedia.org/wikipedia/commons/6/65/Lock-green.svg\")right 0.1em center/9px no-repeat}.mw-parser-output .id-lock-limited.id-lock-limited a,.mw-parser-output .id-lock-registration.id-lock-registration a{background:url(\"//upload.wikimedia.org/wikipedia/commons/d/d6/Lock-gray-alt-2.svg\")right 0.1em center/9px no-repeat}.mw-parser-output .id-lock-subscription.id-lock-subscription a{background:url(\"//upload.wikimedia.org/wikipedia/commons/a/aa/Lock-red-alt-2.svg\")right 0.1em center/9px no-repeat}.mw-parser-output .cs1-ws-icon a{background:url(\"//upload.wikimedia.org/wikipedia/commons/4/4c/Wikisource-logo.svg\")right 0.1em center/12px no-repeat}body:not(.skin-timeless):not(.skin-minerva) .mw-parser-output .id-lock-free a,body:not(.skin-timeless):not(.skin-minerva) .mw-parser-output .id-lock-limited a,body:not(.skin-timeless):not(.skin-minerva) .mw-parser-output .id-lock-registration a,body:not(.skin-timeless):not(.skin-minerva) .mw-parser-output .id-lock-subscription a,body:not(.skin-timeless):not(.skin-minerva) .mw-parser-output .cs1-ws-icon a{background-size:contain;padding:0 1em 0 0}.mw-parser-output .cs1-code{color:inherit;background:inherit;border:none;padding:inherit}.mw-parser-output .cs1-hidden-error{display:none;color:var(--color-error,#d33)}.mw-parser-output .cs1-visible-error{color:var(--color-error,#d33)}.mw-parser-output .cs1-maint{display:none;color:#085;margin-left:0.3em}.mw-parser-output .cs1-kern-left{padding-left:0.2em}.mw-parser-output .cs1-kern-right{padding-right:0.2em}.mw-parser-output .citation .mw-selflink{font-weight:inherit}@media screen{.mw-parser-output .cs1-format{font-size:95%}html.skin-theme-clientpref-night .mw-parser-output .cs1-maint{color:#18911f}}@media screen and (prefers-color-scheme:dark){html.skin-theme-clientpref-os .mw-parser-output .cs1-maint{color:#18911f}}</style><cite class=\"citation web cs1\"><a class=\"external text\" href=\"https://fortune.com/ranking/fortune500/search/\" rel=\"nofollow\">\"Fortune 500 – The largest companies in the U.S. by revenue\"</a>. <i>Fortune</i><span class=\"reference-accessdate\">. Retrieved <span class=\"nowrap\">2024-08-19</span></span>.</cite><span class=\"Z3988\" title=\"ctx_ver=Z39.88-2004&amp;rft_val_fmt=info%3Aofi%2Ffmt%3Akev%3Amtx%3Ajournal&amp;rft.genre=unknown&amp;rft.jtitle=Fortune&amp;rft.atitle=Fortune+500+%E2%80%93+The+largest+companies+in+the+U.S.+by+revenue&amp;rft_id=https%3A%2F%2Ffortune.com%2Franking%2Ffortune500%2Fsearch%2F&amp;rfr_id=info%3Asid%2Fen.wikipedia.org%3AList+of+largest+companies+in+the+United+States+by+revenue\"></span></span>\n</li>\n<li id=\"cite_note-2\"><span class=\"mw-cite-backlink\"><b><a href=\"#cite_ref-2\">^</a></b></span> <span class=\"reference-text\"><link href=\"mw-data:TemplateStyles:r1238218222\" rel=\"mw-deduplicated-inline-style\"/><cite class=\"citation web cs1\" id='CITEREFMURPHY\"'>MURPHY\", \"ANDREA. <a class=\"external text\" href=\"https://www.forbes.com/lists/largest-private-companies/\" rel=\"nofollow\">\"America's Largest Private Companies 2023\"</a>. <i>Forbes</i><span class=\"reference-accessdate\">. Retrieved <span class=\"nowrap\">2024-08-19</span></span>.</cite><span class=\"Z3988\" title=\"ctx_ver=Z39.88-2004&amp;rft_val_fmt=info%3Aofi%2Ffmt%3Akev%3Amtx%3Ajournal&amp;rft.genre=unknown&amp;rft.jtitle=Forbes&amp;rft.atitle=America%27s+Largest+Private+Companies+2023&amp;rft.aulast=MURPHY%22&amp;rft.aufirst=%22ANDREA&amp;rft_id=https%3A%2F%2Fwww.forbes.com%2Flists%2Flargest-private-companies%2F&amp;rfr_id=info%3Asid%2Fen.wikipedia.org%3AList+of+largest+companies+in+the+United+States+by+revenue\"></span></span>\n</li>\n<li id=\"cite_note-3\"><span class=\"mw-cite-backlink\"><b><a href=\"#cite_ref-3\">^</a></b></span> <span class=\"reference-text\"><link href=\"mw-data:TemplateStyles:r1238218222\" rel=\"mw-deduplicated-inline-style\"/><cite class=\"citation web cs1\"><a class=\"external text\" href=\"https://fortune.com/ranking/global500/2023/search/?fg500_country=U.S.\" rel=\"nofollow\">\"Most profitable\"</a>. <i>Fortune</i><span class=\"reference-accessdate\">. Retrieved <span class=\"nowrap\">2019-06-30</span></span>.</cite><span class=\"Z3988\" title=\"ctx_ver=Z39.88-2004&amp;rft_val_fmt=info%3Aofi%2Ffmt%3Akev%3Amtx%3Ajournal&amp;rft.genre=unknown&amp;rft.jtitle=Fortune&amp;rft.atitle=Most+profitable&amp;rft_id=https%3A%2F%2Ffortune.com%2Franking%2Fglobal500%2F2023%2Fsearch%2F%3Ffg500_country%3DU.S.&amp;rfr_id=info%3Asid%2Fen.wikipedia.org%3AList+of+largest+companies+in+the+United+States+by+revenue\"></span></span>\n</li>\n</ol></div></div>\n<!-- \nNewPP limit report\nParsed by mw‐web.codfw.main‐84b999ff94‐57cvm\nCached time: 20250204113022\nCache expiry: 2592000\nReduced expiry: false\nComplications: [vary‐revision‐sha1, show‐toc]\nCPU time usage: 0.290 seconds\nReal time usage: 0.362 seconds\nPreprocessor visited node count: 2404/1000000\nPost‐expand include size: 26194/2097152 bytes\nTemplate argument size: 894/2097152 bytes\nHighest expansion depth: 8/100\nExpensive parser function count: 1/500\nUnstrip recursion depth: 1/20\nUnstrip post‐expand size: 10791/5000000 bytes\nLua time usage: 0.125/10.000 seconds\nLua memory usage: 3509190/52428800 bytes\nNumber of Wikibase entities loaded: 0/400\n-->\n<!--\nTransclusion expansion time report (%,ms,calls,template)\n100.00%  245.085      1 -total\n 34.30%   84.055      1 Template:Reflist\n 30.04%   73.617    100 Template:Ntsh\n 29.40%   72.059      3 Template:Cite_web\n 28.15%   68.985      1 Template:Short_description\n 19.07%   46.728      2 Template:Pagetype\n  5.09%   12.464      3 Template:Main_other\n  4.37%   10.706      1 Template:SDcat\n  1.52%    3.735     64 Template:Profit\n  1.24%    3.045     36 Template:Loss\n-->\n<!-- Saved in parser cache with key enwiki:pcache:61181662:|#|:idhash:canonical and timestamp 20250204113022 and revision id 1273798372. Rendering was triggered because: page-view\n -->\n</meta></div><!--esi <esi:include src=\"/esitest-fa8a495983347898/content\" /> --><noscript><img alt=\"\" height=\"1\" src=\"https://login.wikimedia.org/wiki/Special:CentralAutoLogin/start?useformat=desktop&amp;type=1x1&amp;usesul3=0\" style=\"border: none; position: absolute;\" width=\"1\"/></noscript>\n<div class=\"printfooter\" data-nosnippet=\"\">Retrieved from \"<a dir=\"ltr\" href=\"https://en.wikipedia.org/w/index.php?title=List_of_largest_companies_in_the_United_States_by_revenue&amp;oldid=1273798372\">https://en.wikipedia.org/w/index.php?title=List_of_largest_companies_in_the_United_States_by_revenue&amp;oldid=1273798372</a>\"</div></div>\n<div class=\"catlinks\" data-mw=\"interface\" id=\"catlinks\"><div class=\"mw-normal-catlinks\" id=\"mw-normal-catlinks\"><a href=\"/wiki/Help:Category\" title=\"Help:Category\">Categories</a>: <ul><li><a href=\"/wiki/Category:Economy_of_the_United_States-related_lists\" title=\"Category:Economy of the United States-related lists\">Economy of the United States-related lists</a></li><li><a href=\"/wiki/Category:Lists_of_companies_by_revenue\" title=\"Category:Lists of companies by revenue\">Lists of companies by revenue</a></li><li><a href=\"/wiki/Category:Lists_of_largest_private_companies_by_country\" title=\"Category:Lists of largest private companies by country\">Lists of largest private companies by country</a></li><li><a href=\"/wiki/Category:Lists_of_companies_of_the_United_States\" title=\"Category:Lists of companies of the United States\">Lists of companies of the United States</a></li></ul></div><div class=\"mw-hidden-catlinks mw-hidden-cats-hidden\" id=\"mw-hidden-catlinks\">Hidden categories: <ul><li><a href=\"/wiki/Category:Articles_with_short_description\" title=\"Category:Articles with short description\">Articles with short description</a></li><li><a href=\"/wiki/Category:Short_description_is_different_from_Wikidata\" title=\"Category:Short description is different from Wikidata\">Short description is different from Wikidata</a></li></ul></div></div>\n</div>\n</main>\n</div>\n<div class=\"mw-footer-container\">\n<footer class=\"mw-footer\" id=\"footer\">\n<ul id=\"footer-info\">\n<li id=\"footer-info-lastmod\"> This page was last edited on 4 February 2025, at 02:18<span class=\"anonymous-show\"> (UTC)</span>.</li>\n<li id=\"footer-info-copyright\">Text is available under the <a href=\"/wiki/Wikipedia:Text_of_the_Creative_Commons_Attribution-ShareAlike_4.0_International_License\" title=\"Wikipedia:Text of the Creative Commons Attribution-ShareAlike 4.0 International License\">Creative Commons Attribution-ShareAlike 4.0 License</a>;\nadditional terms may apply. By using this site, you agree to the <a class=\"extiw\" href=\"https://foundation.wikimedia.org/wiki/Special:MyLanguage/Policy:Terms_of_Use\" title=\"foundation:Special:MyLanguage/Policy:Terms of Use\">Terms of Use</a> and <a class=\"extiw\" href=\"https://foundation.wikimedia.org/wiki/Special:MyLanguage/Policy:Privacy_policy\" title=\"foundation:Special:MyLanguage/Policy:Privacy policy\">Privacy Policy</a>. Wikipedia® is a registered trademark of the <a class=\"external text\" href=\"https://wikimediafoundation.org/\" rel=\"nofollow\">Wikimedia Foundation, Inc.</a>, a non-profit organization.</li>\n</ul>\n<ul id=\"footer-places\">\n<li id=\"footer-places-privacy\"><a href=\"https://foundation.wikimedia.org/wiki/Special:MyLanguage/Policy:Privacy_policy\">Privacy policy</a></li>\n<li id=\"footer-places-about\"><a href=\"/wiki/Wikipedia:About\">About Wikipedia</a></li>\n<li id=\"footer-places-disclaimers\"><a href=\"/wiki/Wikipedia:General_disclaimer\">Disclaimers</a></li>\n<li id=\"footer-places-contact\"><a href=\"//en.wikipedia.org/wiki/Wikipedia:Contact_us\">Contact Wikipedia</a></li>\n<li id=\"footer-places-wm-codeofconduct\"><a href=\"https://foundation.wikimedia.org/wiki/Special:MyLanguage/Policy:Universal_Code_of_Conduct\">Code of Conduct</a></li>\n<li id=\"footer-places-developers\"><a href=\"https://developer.wikimedia.org\">Developers</a></li>\n<li id=\"footer-places-statslink\"><a href=\"https://stats.wikimedia.org/#/en.wikipedia.org\">Statistics</a></li>\n<li id=\"footer-places-cookiestatement\"><a href=\"https://foundation.wikimedia.org/wiki/Special:MyLanguage/Policy:Cookie_statement\">Cookie statement</a></li>\n<li id=\"footer-places-mobileview\"><a class=\"noprint stopMobileRedirectToggle\" href=\"//en.m.wikipedia.org/w/index.php?title=List_of_largest_companies_in_the_United_States_by_revenue&amp;mobileaction=toggle_view_mobile\">Mobile view</a></li>\n</ul>\n<ul class=\"noprint\" id=\"footer-icons\">\n<li id=\"footer-copyrightico\"><a class=\"cdx-button cdx-button--fake-button cdx-button--size-large cdx-button--fake-button--enabled\" href=\"https://wikimediafoundation.org/\"><picture><source height=\"29\" media=\"(min-width: 500px)\" srcset=\"/static/images/footer/wikimedia-button.svg\" width=\"84\"/><img alt=\"Wikimedia Foundation\" height=\"25\" lang=\"en\" loading=\"lazy\" src=\"/static/images/footer/wikimedia.svg\" width=\"25\"/></picture></a></li>\n<li id=\"footer-poweredbyico\"><a class=\"cdx-button cdx-button--fake-button cdx-button--size-large cdx-button--fake-button--enabled\" href=\"https://www.mediawiki.org/\"><picture><source height=\"31\" media=\"(min-width: 500px)\" srcset=\"/w/resources/assets/poweredby_mediawiki.svg\" width=\"88\"/><img alt=\"Powered by MediaWiki\" height=\"25\" loading=\"lazy\" src=\"/w/resources/assets/mediawiki_compact.svg\" width=\"25\"/></picture></a></li>\n</ul>\n</footer>\n</div>\n</div>\n</div>\n<div class=\"vector-header-container vector-sticky-header-container\">\n<div class=\"vector-sticky-header\" id=\"vector-sticky-header\">\n<div class=\"vector-sticky-header-start\">\n<div aria-hidden=\"true\" class=\"vector-sticky-header-icon-start vector-button-flush-left vector-button-flush-right\">\n<button class=\"cdx-button cdx-button--weight-quiet cdx-button--icon-only vector-sticky-header-search-toggle\" data-event-name=\"ui.vector-sticky-search-form.icon\" tabindex=\"-1\"><span class=\"vector-icon mw-ui-icon-search mw-ui-icon-wikimedia-search\"></span>\n<span>Search</span>\n</button>\n</div>\n<div class=\"vector-search-box-vue vector-search-box-show-thumbnail vector-search-box\" role=\"search\">\n<div class=\"vector-typeahead-search-container\">\n<div class=\"cdx-typeahead-search cdx-typeahead-search--show-thumbnail\">\n<form action=\"/w/index.php\" class=\"cdx-search-input cdx-search-input--has-end-button\" id=\"vector-sticky-search-form\">\n<div class=\"cdx-search-input__input-wrapper\" data-search-loc=\"header-moved\">\n<div class=\"cdx-text-input cdx-text-input--has-start-icon\">\n<input class=\"cdx-text-input__input\" name=\"search\" placeholder=\"Search Wikipedia\" type=\"search\"/>\n<span class=\"cdx-text-input__icon cdx-text-input__start-icon\"></span>\n</div>\n<input name=\"title\" type=\"hidden\" value=\"Special:Search\"/>\n</div>\n<button class=\"cdx-button cdx-search-input__end-button\">Search</button>\n</form>\n</div>\n</div>\n</div>\n<div class=\"vector-sticky-header-context-bar\">\n<nav aria-label=\"Contents\" class=\"vector-toc-landmark\">\n<div class=\"vector-dropdown mw-portlet mw-portlet-sticky-header-toc vector-sticky-header-toc vector-button-flush-left\" id=\"vector-sticky-header-toc\">\n<input aria-haspopup=\"true\" aria-label=\"Toggle the table of contents\" class=\"vector-dropdown-checkbox\" data-event-name=\"ui.dropdown-vector-sticky-header-toc\" id=\"vector-sticky-header-toc-checkbox\" role=\"button\" type=\"checkbox\"/>\n<label aria-hidden=\"true\" class=\"vector-dropdown-label cdx-button cdx-button--fake-button cdx-button--fake-button--enabled cdx-button--weight-quiet cdx-button--icon-only\" for=\"vector-sticky-header-toc-checkbox\" id=\"vector-sticky-header-toc-label\"><span class=\"vector-icon mw-ui-icon-listBullet mw-ui-icon-wikimedia-listBullet\"></span>\n<span class=\"vector-dropdown-label-text\">Toggle the table of contents</span>\n</label>\n<div class=\"vector-dropdown-content\">\n<div class=\"vector-unpinned-container\" id=\"vector-sticky-header-toc-unpinned-container\">\n</div>\n</div>\n</div>\n</nav>\n<div aria-hidden=\"true\" class=\"vector-sticky-header-context-bar-primary\"><span class=\"mw-page-title-main\">List of largest companies in the United States by revenue</span></div>\n</div>\n</div>\n<div aria-hidden=\"true\" class=\"vector-sticky-header-end\">\n<div class=\"vector-sticky-header-icons\">\n<a class=\"cdx-button cdx-button--fake-button cdx-button--fake-button--enabled cdx-button--weight-quiet cdx-button--icon-only\" data-event-name=\"talk-sticky-header\" href=\"#\" id=\"ca-talk-sticky-header\" tabindex=\"-1\"><span class=\"vector-icon mw-ui-icon-speechBubbles mw-ui-icon-wikimedia-speechBubbles\"></span>\n<span></span>\n</a>\n<a class=\"cdx-button cdx-button--fake-button cdx-button--fake-button--enabled cdx-button--weight-quiet cdx-button--icon-only\" data-event-name=\"subject-sticky-header\" href=\"#\" id=\"ca-subject-sticky-header\" tabindex=\"-1\"><span class=\"vector-icon mw-ui-icon-article mw-ui-icon-wikimedia-article\"></span>\n<span></span>\n</a>\n<a class=\"cdx-button cdx-button--fake-button cdx-button--fake-button--enabled cdx-button--weight-quiet cdx-button--icon-only\" data-event-name=\"history-sticky-header\" href=\"#\" id=\"ca-history-sticky-header\" tabindex=\"-1\"><span class=\"vector-icon mw-ui-icon-wikimedia-history mw-ui-icon-wikimedia-wikimedia-history\"></span>\n<span></span>\n</a>\n<a class=\"cdx-button cdx-button--fake-button cdx-button--fake-button--enabled cdx-button--weight-quiet cdx-button--icon-only mw-watchlink\" data-event-name=\"watch-sticky-header\" href=\"#\" id=\"ca-watchstar-sticky-header\" tabindex=\"-1\"><span class=\"vector-icon mw-ui-icon-wikimedia-star mw-ui-icon-wikimedia-wikimedia-star\"></span>\n<span></span>\n</a>\n<a class=\"cdx-button cdx-button--fake-button cdx-button--fake-button--enabled cdx-button--weight-quiet cdx-button--icon-only\" data-event-name=\"wikitext-edit-sticky-header\" href=\"#\" id=\"ca-edit-sticky-header\" tabindex=\"-1\"><span class=\"vector-icon mw-ui-icon-wikimedia-wikiText mw-ui-icon-wikimedia-wikimedia-wikiText\"></span>\n<span></span>\n</a>\n<a class=\"cdx-button cdx-button--fake-button cdx-button--fake-button--enabled cdx-button--weight-quiet cdx-button--icon-only\" data-event-name=\"ve-edit-sticky-header\" href=\"#\" id=\"ca-ve-edit-sticky-header\" tabindex=\"-1\"><span class=\"vector-icon mw-ui-icon-wikimedia-edit mw-ui-icon-wikimedia-wikimedia-edit\"></span>\n<span></span>\n</a>\n<a class=\"cdx-button cdx-button--fake-button cdx-button--fake-button--enabled cdx-button--weight-quiet cdx-button--icon-only\" data-event-name=\"ve-edit-protected-sticky-header\" href=\"#\" id=\"ca-viewsource-sticky-header\" tabindex=\"-1\"><span class=\"vector-icon mw-ui-icon-wikimedia-editLock mw-ui-icon-wikimedia-wikimedia-editLock\"></span>\n<span></span>\n</a>\n</div>\n<div class=\"vector-sticky-header-buttons\">\n<button class=\"cdx-button cdx-button--weight-quiet mw-interlanguage-selector\" data-event-name=\"ui.dropdown-p-lang-btn-sticky-header\" id=\"p-lang-btn-sticky-header\" tabindex=\"-1\"><span class=\"vector-icon mw-ui-icon-wikimedia-language mw-ui-icon-wikimedia-wikimedia-language\"></span>\n<span>9 languages</span>\n</button>\n<a class=\"cdx-button cdx-button--fake-button cdx-button--fake-button--enabled cdx-button--weight-quiet cdx-button--action-progressive\" data-event-name=\"addsection-sticky-header\" href=\"#\" id=\"ca-addsection-sticky-header\" tabindex=\"-1\"><span class=\"vector-icon mw-ui-icon-speechBubbleAdd-progressive mw-ui-icon-wikimedia-speechBubbleAdd-progressive\"></span>\n<span>Add topic</span>\n</a>\n</div>\n<div class=\"vector-sticky-header-icon-end\">\n<div class=\"vector-user-links\">\n</div>\n</div>\n</div>\n</div>\n</div>\n<div class=\"vector-settings\" id=\"p-dock-bottom\">\n<ul></ul>\n</div><script>(RLQ=window.RLQ||[]).push(function(){mw.config.set({\"wgHostname\":\"mw-web.codfw.main-6cc877bdc-77v2j\",\"wgBackendResponseTime\":128,\"wgPageParseReport\":{\"limitreport\":{\"cputime\":\"0.290\",\"walltime\":\"0.362\",\"ppvisitednodes\":{\"value\":2404,\"limit\":1000000},\"postexpandincludesize\":{\"value\":26194,\"limit\":2097152},\"templateargumentsize\":{\"value\":894,\"limit\":2097152},\"expansiondepth\":{\"value\":8,\"limit\":100},\"expensivefunctioncount\":{\"value\":1,\"limit\":500},\"unstrip-depth\":{\"value\":1,\"limit\":20},\"unstrip-size\":{\"value\":10791,\"limit\":5000000},\"entityaccesscount\":{\"value\":0,\"limit\":400},\"timingprofile\":[\"100.00%  245.085      1 -total\",\" 34.30%   84.055      1 Template:Reflist\",\" 30.04%   73.617    100 Template:Ntsh\",\" 29.40%   72.059      3 Template:Cite_web\",\" 28.15%   68.985      1 Template:Short_description\",\" 19.07%   46.728      2 Template:Pagetype\",\"  5.09%   12.464      3 Template:Main_other\",\"  4.37%   10.706      1 Template:SDcat\",\"  1.52%    3.735     64 Template:Profit\",\"  1.24%    3.045     36 Template:Loss\"]},\"scribunto\":{\"limitreport-timeusage\":{\"value\":\"0.125\",\"limit\":\"10.000\"},\"limitreport-memusage\":{\"value\":3509190,\"limit\":52428800}},\"cachereport\":{\"origin\":\"mw-web.codfw.main-84b999ff94-57cvm\",\"timestamp\":\"20250204113022\",\"ttl\":2592000,\"transientcontent\":false}}});});</script>\n<script type=\"application/ld+json\">{\"@context\":\"https:\\/\\/schema.org\",\"@type\":\"Article\",\"name\":\"List of largest companies in the United States by revenue\",\"url\":\"https:\\/\\/en.wikipedia.org\\/wiki\\/List_of_largest_companies_in_the_United_States_by_revenue\",\"sameAs\":\"http:\\/\\/www.wikidata.org\\/entity\\/Q1860802\",\"mainEntity\":\"http:\\/\\/www.wikidata.org\\/entity\\/Q1860802\",\"author\":{\"@type\":\"Organization\",\"name\":\"Contributors to Wikimedia projects\"},\"publisher\":{\"@type\":\"Organization\",\"name\":\"Wikimedia Foundation, Inc.\",\"logo\":{\"@type\":\"ImageObject\",\"url\":\"https:\\/\\/www.wikimedia.org\\/static\\/images\\/wmf-hor-googpub.png\"}},\"datePublished\":\"2019-06-30T17:36:41Z\",\"dateModified\":\"2025-02-04T02:18:38Z\"}</script>\n</body>\n</html>\n"
     ]
    }
   ],
   "source": [
    "from bs4 import BeautifulSoup\n",
    "import requests\n",
    "\n",
    "url = \"https://en.wikipedia.org/wiki/List_of_largest_companies_in_the_United_States_by_revenue\"\n",
    "page = requests.get(url)\n",
    "\n",
    "soup = BeautifulSoup(page.text, \"html\")\n",
    "print(soup)"
   ]
  },
  {
   "cell_type": "code",
   "execution_count": 0,
   "metadata": {
    "application/vnd.databricks.v1+cell": {
     "cellMetadata": {
      "byteLimit": 2048000,
      "rowLimit": 10000
     },
     "inputWidgets": {},
     "nuid": "8fbb16e3-bed4-40a8-9ce1-08e2a5b65d47",
     "showTitle": false,
     "tableResultSettingsMap": {},
     "title": ""
    }
   },
   "outputs": [
    {
     "output_type": "stream",
     "name": "stdout",
     "output_type": "stream",
     "text": [
      "Out[3]: <table class=\"wikitable sortable\">\n<caption>\n</caption>\n<tbody><tr>\n<th>Rank\n</th>\n<th>Name\n</th>\n<th>Industry\n</th>\n<th>Revenue <br/>(USD millions)\n</th>\n<th>Revenue growth\n</th>\n<th>Employees\n</th>\n<th>Headquarters\n</th></tr>\n<tr>\n<td>1\n</td>\n<td><a href=\"/wiki/Walmart\" title=\"Walmart\">Walmart</a>\n</td>\n<td><a href=\"/wiki/Retail\" title=\"Retail\">Retail</a>\n</td>\n<td style=\"text-align:center;\">648,125\n</td>\n<td style=\"text-align:center;\"><span typeof=\"mw:File\"><span title=\"Increase\"><img alt=\"Increase\" class=\"mw-file-element\" data-file-height=\"300\" data-file-width=\"300\" decoding=\"async\" height=\"11\" src=\"//upload.wikimedia.org/wikipedia/commons/thumb/b/b0/Increase2.svg/11px-Increase2.svg.png\" srcset=\"//upload.wikimedia.org/wikipedia/commons/thumb/b/b0/Increase2.svg/17px-Increase2.svg.png 1.5x, //upload.wikimedia.org/wikipedia/commons/thumb/b/b0/Increase2.svg/22px-Increase2.svg.png 2x\" width=\"11\"/></span></span> <span data-sort-value=\"7000300000000000000♠\" style=\"display:none\"></span> 6.0%\n</td>\n<td style=\"text-align:center;\">2,100,000\n</td>\n<td><a href=\"/wiki/Bentonville,_Arkansas\" title=\"Bentonville, Arkansas\">Bentonville, Arkansas</a>\n</td></tr>\n<tr>\n<td>2\n</td>\n<td><a href=\"/wiki/Amazon_(company)\" title=\"Amazon (company)\">Amazon</a>\n</td>\n<td>Retail and <a href=\"/wiki/Cloud_computing\" title=\"Cloud computing\">cloud computing</a>\n</td>\n<td style=\"text-align:center;\">574,785\n</td>\n<td style=\"text-align:center;\"><span typeof=\"mw:File\"><span title=\"Increase\"><img alt=\"Increase\" class=\"mw-file-element\" data-file-height=\"300\" data-file-width=\"300\" decoding=\"async\" height=\"11\" src=\"//upload.wikimedia.org/wikipedia/commons/thumb/b/b0/Increase2.svg/11px-Increase2.svg.png\" srcset=\"//upload.wikimedia.org/wikipedia/commons/thumb/b/b0/Increase2.svg/17px-Increase2.svg.png 1.5x, //upload.wikimedia.org/wikipedia/commons/thumb/b/b0/Increase2.svg/22px-Increase2.svg.png 2x\" width=\"11\"/></span></span> <span data-sort-value=\"7000300000000000000♠\" style=\"display:none\"></span> 11.9%\n</td>\n<td style=\"text-align:center;\">1,525,000\n</td>\n<td><a href=\"/wiki/Seattle\" title=\"Seattle\">Seattle, Washington</a>\n</td></tr>\n<tr>\n<td>3\n</td>\n<td><a class=\"mw-redirect\" href=\"/wiki/Apple_Inc\" title=\"Apple Inc\">Apple</a>\n</td>\n<td><a href=\"/wiki/Electronics_industry\" title=\"Electronics industry\">Electronics industry</a>\n</td>\n<td style=\"text-align:center;\">383,482\n</td>\n<td style=\"text-align:center;\"><span typeof=\"mw:File\"><span title=\"Decrease\"><img alt=\"Decrease\" class=\"mw-file-element\" data-file-height=\"300\" data-file-width=\"300\" decoding=\"async\" height=\"11\" src=\"//upload.wikimedia.org/wikipedia/commons/thumb/e/ed/Decrease2.svg/11px-Decrease2.svg.png\" srcset=\"//upload.wikimedia.org/wikipedia/commons/thumb/e/ed/Decrease2.svg/17px-Decrease2.svg.png 1.5x, //upload.wikimedia.org/wikipedia/commons/thumb/e/ed/Decrease2.svg/22px-Decrease2.svg.png 2x\" width=\"11\"/></span></span> <span data-sort-value=\"2999450000000000000♠\" style=\"display:none\"></span> -2.8%\n</td>\n<td style=\"text-align:center;\">161,000\n</td>\n<td><a href=\"/wiki/Cupertino,_California\" title=\"Cupertino, California\">Cupertino, California</a>\n</td></tr>\n<tr>\n<td>4\n</td>\n<td><a href=\"/wiki/UnitedHealth_Group\" title=\"UnitedHealth Group\">UnitedHealth Group</a>\n</td>\n<td><a class=\"mw-redirect\" href=\"/wiki/Healthcare\" title=\"Healthcare\">Healthcare</a>\n</td>\n<td style=\"text-align:center;\">371,622\n</td>\n<td style=\"text-align:center;\"><span typeof=\"mw:File\"><span title=\"Increase\"><img alt=\"Increase\" class=\"mw-file-element\" data-file-height=\"300\" data-file-width=\"300\" decoding=\"async\" height=\"11\" src=\"//upload.wikimedia.org/wikipedia/commons/thumb/b/b0/Increase2.svg/11px-Increase2.svg.png\" srcset=\"//upload.wikimedia.org/wikipedia/commons/thumb/b/b0/Increase2.svg/17px-Increase2.svg.png 1.5x, //upload.wikimedia.org/wikipedia/commons/thumb/b/b0/Increase2.svg/22px-Increase2.svg.png 2x\" width=\"11\"/></span></span> <span data-sort-value=\"7000300000000000000♠\" style=\"display:none\"></span> 14.6%\n</td>\n<td style=\"text-align:center;\">440,000\n</td>\n<td><a href=\"/wiki/Minnetonka,_Minnesota\" title=\"Minnetonka, Minnesota\">Minnetonka, Minnesota</a>\n</td></tr>\n<tr>\n<td>5\n</td>\n<td><a href=\"/wiki/Berkshire_Hathaway\" title=\"Berkshire Hathaway\">Berkshire Hathaway</a>\n</td>\n<td><a href=\"/wiki/Conglomerate_(company)\" title=\"Conglomerate (company)\">Conglomerate</a>\n</td>\n<td style=\"text-align:center;\">364,482\n</td>\n<td style=\"text-align:center;\"><span typeof=\"mw:File\"><span title=\"Increase\"><img alt=\"Increase\" class=\"mw-file-element\" data-file-height=\"300\" data-file-width=\"300\" decoding=\"async\" height=\"11\" src=\"//upload.wikimedia.org/wikipedia/commons/thumb/b/b0/Increase2.svg/11px-Increase2.svg.png\" srcset=\"//upload.wikimedia.org/wikipedia/commons/thumb/b/b0/Increase2.svg/17px-Increase2.svg.png 1.5x, //upload.wikimedia.org/wikipedia/commons/thumb/b/b0/Increase2.svg/22px-Increase2.svg.png 2x\" width=\"11\"/></span></span> <span data-sort-value=\"7000300000000000000♠\" style=\"display:none\"></span> 20.7%\n</td>\n<td style=\"text-align:center;\">396,500\n</td>\n<td><a href=\"/wiki/Omaha,_Nebraska\" title=\"Omaha, Nebraska\">Omaha, Nebraska</a>\n</td></tr>\n<tr>\n<td>6\n</td>\n<td><a href=\"/wiki/CVS_Health\" title=\"CVS Health\">CVS Health</a>\n</td>\n<td>Healthcare\n</td>\n<td style=\"text-align:center;\">357,776\n</td>\n<td style=\"text-align:center;\"><span typeof=\"mw:File\"><span title=\"Increase\"><img alt=\"Increase\" class=\"mw-file-element\" data-file-height=\"300\" data-file-width=\"300\" decoding=\"async\" height=\"11\" src=\"//upload.wikimedia.org/wikipedia/commons/thumb/b/b0/Increase2.svg/11px-Increase2.svg.png\" srcset=\"//upload.wikimedia.org/wikipedia/commons/thumb/b/b0/Increase2.svg/17px-Increase2.svg.png 1.5x, //upload.wikimedia.org/wikipedia/commons/thumb/b/b0/Increase2.svg/22px-Increase2.svg.png 2x\" width=\"11\"/></span></span> <span data-sort-value=\"7000300000000000000♠\" style=\"display:none\"></span> 10.9%\n</td>\n<td style=\"text-align:center;\">259,500\n</td>\n<td><a href=\"/wiki/Woonsocket,_Rhode_Island\" title=\"Woonsocket, Rhode Island\">Woonsocket, Rhode Island</a>\n</td></tr>\n<tr>\n<td>7\n</td>\n<td><a href=\"/wiki/ExxonMobil\" title=\"ExxonMobil\">ExxonMobil</a>\n</td>\n<td><a href=\"/wiki/Petroleum_industry\" title=\"Petroleum industry\">Petroleum industry</a>\n</td>\n<td style=\"text-align:center;\">344,582\n</td>\n<td style=\"text-align:center;\"><span typeof=\"mw:File\"><span title=\"Decrease\"><img alt=\"Decrease\" class=\"mw-file-element\" data-file-height=\"300\" data-file-width=\"300\" decoding=\"async\" height=\"11\" src=\"//upload.wikimedia.org/wikipedia/commons/thumb/e/ed/Decrease2.svg/11px-Decrease2.svg.png\" srcset=\"//upload.wikimedia.org/wikipedia/commons/thumb/e/ed/Decrease2.svg/17px-Decrease2.svg.png 1.5x, //upload.wikimedia.org/wikipedia/commons/thumb/e/ed/Decrease2.svg/22px-Decrease2.svg.png 2x\" width=\"11\"/></span></span> <span data-sort-value=\"2999450000000000000♠\" style=\"display:none\"></span> -16.7%\n</td>\n<td style=\"text-align:center;\">61,500\n</td>\n<td><a href=\"/wiki/Spring,_Texas\" title=\"Spring, Texas\">Spring, Texas</a>\n</td></tr>\n<tr>\n<td>8\n</td>\n<td><a class=\"mw-redirect\" href=\"/wiki/Alphabet_Inc\" title=\"Alphabet Inc\">Alphabet</a>\n</td>\n<td><a href=\"/wiki/Technology\" title=\"Technology\">Technology</a> and cloud computing\n</td>\n<td style=\"text-align:center;\">307,394\n</td>\n<td style=\"text-align:center;\"><span typeof=\"mw:File\"><span title=\"Increase\"><img alt=\"Increase\" class=\"mw-file-element\" data-file-height=\"300\" data-file-width=\"300\" decoding=\"async\" height=\"11\" src=\"//upload.wikimedia.org/wikipedia/commons/thumb/b/b0/Increase2.svg/11px-Increase2.svg.png\" srcset=\"//upload.wikimedia.org/wikipedia/commons/thumb/b/b0/Increase2.svg/17px-Increase2.svg.png 1.5x, //upload.wikimedia.org/wikipedia/commons/thumb/b/b0/Increase2.svg/22px-Increase2.svg.png 2x\" width=\"11\"/></span></span> <span data-sort-value=\"7000300000000000000♠\" style=\"display:none\"></span> 8.7%\n</td>\n<td style=\"text-align:center;\">182,502\n</td>\n<td><a href=\"/wiki/Mountain_View,_California\" title=\"Mountain View, California\">Mountain View, California</a>\n</td></tr>\n<tr>\n<td>9\n</td>\n<td><a href=\"/wiki/McKesson_Corporation\" title=\"McKesson Corporation\">McKesson Corporation</a>\n</td>\n<td>Health\n</td>\n<td style=\"text-align:center;\">276,711\n</td>\n<td style=\"text-align:center;\"><span typeof=\"mw:File\"><span title=\"Increase\"><img alt=\"Increase\" class=\"mw-file-element\" data-file-height=\"300\" data-file-width=\"300\" decoding=\"async\" height=\"11\" src=\"//upload.wikimedia.org/wikipedia/commons/thumb/b/b0/Increase2.svg/11px-Increase2.svg.png\" srcset=\"//upload.wikimedia.org/wikipedia/commons/thumb/b/b0/Increase2.svg/17px-Increase2.svg.png 1.5x, //upload.wikimedia.org/wikipedia/commons/thumb/b/b0/Increase2.svg/22px-Increase2.svg.png 2x\" width=\"11\"/></span></span> <span data-sort-value=\"7000300000000000000♠\" style=\"display:none\"></span> 4.8%\n</td>\n<td style=\"text-align:center;\">48,000\n</td>\n<td><a href=\"/wiki/Irving,_Texas\" title=\"Irving, Texas\">Irving, Texas</a>\n</td></tr>\n<tr>\n<td>10\n</td>\n<td><a href=\"/wiki/Cencora\" title=\"Cencora\">Cencora</a>\n</td>\n<td><a href=\"/wiki/Pharmacy\" title=\"Pharmacy\">Pharmacy wholesale</a>\n</td>\n<td style=\"text-align:center;\">262,173\n</td>\n<td style=\"text-align:center;\"><span typeof=\"mw:File\"><span title=\"Increase\"><img alt=\"Increase\" class=\"mw-file-element\" data-file-height=\"300\" data-file-width=\"300\" decoding=\"async\" height=\"11\" src=\"//upload.wikimedia.org/wikipedia/commons/thumb/b/b0/Increase2.svg/11px-Increase2.svg.png\" srcset=\"//upload.wikimedia.org/wikipedia/commons/thumb/b/b0/Increase2.svg/17px-Increase2.svg.png 1.5x, //upload.wikimedia.org/wikipedia/commons/thumb/b/b0/Increase2.svg/22px-Increase2.svg.png 2x\" width=\"11\"/></span></span> <span data-sort-value=\"7000300000000000000♠\" style=\"display:none\"></span> 9.9%\n</td>\n<td style=\"text-align:center;\">44,000\n</td>\n<td><a href=\"/wiki/Conshohocken,_Pennsylvania\" title=\"Conshohocken, Pennsylvania\">Conshohocken, Pennsylvania</a>\n</td></tr>\n<tr>\n<td>11\n</td>\n<td><a href=\"/wiki/Costco\" title=\"Costco\">Costco</a>\n</td>\n<td>Retail\n</td>\n<td style=\"text-align:center;\">242,290\n</td>\n<td style=\"text-align:center;\"><span typeof=\"mw:File\"><span title=\"Increase\"><img alt=\"Increase\" class=\"mw-file-element\" data-file-height=\"300\" data-file-width=\"300\" decoding=\"async\" height=\"11\" src=\"//upload.wikimedia.org/wikipedia/commons/thumb/b/b0/Increase2.svg/11px-Increase2.svg.png\" srcset=\"//upload.wikimedia.org/wikipedia/commons/thumb/b/b0/Increase2.svg/17px-Increase2.svg.png 1.5x, //upload.wikimedia.org/wikipedia/commons/thumb/b/b0/Increase2.svg/22px-Increase2.svg.png 2x\" width=\"11\"/></span></span> <span data-sort-value=\"7000300000000000000♠\" style=\"display:none\"></span> 6.8%\n</td>\n<td style=\"text-align:center;\">316,000\n</td>\n<td><a href=\"/wiki/Issaquah,_Washington\" title=\"Issaquah, Washington\">Issaquah, Washington</a>\n</td></tr>\n<tr>\n<td>12\n</td>\n<td><a href=\"/wiki/JPMorgan_Chase\" title=\"JPMorgan Chase\">JPMorgan Chase</a>\n</td>\n<td><a href=\"/wiki/Financial_services\" title=\"Financial services\">Financial services</a>\n</td>\n<td style=\"text-align:center;\">239,425\n</td>\n<td style=\"text-align:center;\"><span typeof=\"mw:File\"><span title=\"Increase\"><img alt=\"Increase\" class=\"mw-file-element\" data-file-height=\"300\" data-file-width=\"300\" decoding=\"async\" height=\"11\" src=\"//upload.wikimedia.org/wikipedia/commons/thumb/b/b0/Increase2.svg/11px-Increase2.svg.png\" srcset=\"//upload.wikimedia.org/wikipedia/commons/thumb/b/b0/Increase2.svg/17px-Increase2.svg.png 1.5x, //upload.wikimedia.org/wikipedia/commons/thumb/b/b0/Increase2.svg/22px-Increase2.svg.png 2x\" width=\"11\"/></span></span> <span data-sort-value=\"7000300000000000000♠\" style=\"display:none\"></span> 54.7%\n</td>\n<td style=\"text-align:center;\">309,926\n</td>\n<td><a href=\"/wiki/New_York_City\" title=\"New York City\">New York City, New York</a>\n</td></tr>\n<tr>\n<td>13\n</td>\n<td><a href=\"/wiki/Microsoft\" title=\"Microsoft\">Microsoft</a>\n</td>\n<td>Technology and cloud computing\n</td>\n<td style=\"text-align:center;\">211,915\n</td>\n<td style=\"text-align:center;\"><span typeof=\"mw:File\"><span title=\"Increase\"><img alt=\"Increase\" class=\"mw-file-element\" data-file-height=\"300\" data-file-width=\"300\" decoding=\"async\" height=\"11\" src=\"//upload.wikimedia.org/wikipedia/commons/thumb/b/b0/Increase2.svg/11px-Increase2.svg.png\" srcset=\"//upload.wikimedia.org/wikipedia/commons/thumb/b/b0/Increase2.svg/17px-Increase2.svg.png 1.5x, //upload.wikimedia.org/wikipedia/commons/thumb/b/b0/Increase2.svg/22px-Increase2.svg.png 2x\" width=\"11\"/></span></span> <span data-sort-value=\"7000300000000000000♠\" style=\"display:none\"></span> 6.9%\n</td>\n<td style=\"text-align:center;\">221,000\n</td>\n<td><a href=\"/wiki/Redmond,_Washington\" title=\"Redmond, Washington\">Redmond, Washington</a>\n</td></tr>\n<tr>\n<td>14\n</td>\n<td><a href=\"/wiki/Cardinal_Health\" title=\"Cardinal Health\">Cardinal Health</a>\n</td>\n<td>Healthcare\n</td>\n<td style=\"text-align:center;\">205,012\n</td>\n<td style=\"text-align:center;\"><span typeof=\"mw:File\"><span title=\"Increase\"><img alt=\"Increase\" class=\"mw-file-element\" data-file-height=\"300\" data-file-width=\"300\" decoding=\"async\" height=\"11\" src=\"//upload.wikimedia.org/wikipedia/commons/thumb/b/b0/Increase2.svg/11px-Increase2.svg.png\" srcset=\"//upload.wikimedia.org/wikipedia/commons/thumb/b/b0/Increase2.svg/17px-Increase2.svg.png 1.5x, //upload.wikimedia.org/wikipedia/commons/thumb/b/b0/Increase2.svg/22px-Increase2.svg.png 2x\" width=\"11\"/></span></span> <span data-sort-value=\"7000300000000000000♠\" style=\"display:none\"></span> 13.0%\n</td>\n<td style=\"text-align:center;\">47,520\n</td>\n<td><a href=\"/wiki/Dublin,_Ohio\" title=\"Dublin, Ohio\">Dublin, Ohio</a>\n</td></tr>\n<tr>\n<td>15\n</td>\n<td><a href=\"/wiki/Chevron_Corporation\" title=\"Chevron Corporation\">Chevron Corporation</a>\n</td>\n<td>Petroleum industry\n</td>\n<td style=\"text-align:center;\">200,949\n</td>\n<td style=\"text-align:center;\"><span typeof=\"mw:File\"><span title=\"Decrease\"><img alt=\"Decrease\" class=\"mw-file-element\" data-file-height=\"300\" data-file-width=\"300\" decoding=\"async\" height=\"11\" src=\"//upload.wikimedia.org/wikipedia/commons/thumb/e/ed/Decrease2.svg/11px-Decrease2.svg.png\" srcset=\"//upload.wikimedia.org/wikipedia/commons/thumb/e/ed/Decrease2.svg/17px-Decrease2.svg.png 1.5x, //upload.wikimedia.org/wikipedia/commons/thumb/e/ed/Decrease2.svg/22px-Decrease2.svg.png 2x\" width=\"11\"/></span></span> <span data-sort-value=\"2999450000000000000♠\" style=\"display:none\"></span> -18.4%\n</td>\n<td style=\"text-align:center;\">45,600\n</td>\n<td><a class=\"mw-redirect\" href=\"/wiki/Houston,_Texas\" title=\"Houston, Texas\">Houston, Texas</a>\n</td></tr>\n<tr>\n<td>16\n</td>\n<td><a href=\"/wiki/Cigna\" title=\"Cigna\">Cigna</a>\n</td>\n<td>Health insurance\n</td>\n<td style=\"text-align:center;\">195,265\n</td>\n<td style=\"text-align:center;\"><span typeof=\"mw:File\"><span title=\"Increase\"><img alt=\"Increase\" class=\"mw-file-element\" data-file-height=\"300\" data-file-width=\"300\" decoding=\"async\" height=\"11\" src=\"//upload.wikimedia.org/wikipedia/commons/thumb/b/b0/Increase2.svg/11px-Increase2.svg.png\" srcset=\"//upload.wikimedia.org/wikipedia/commons/thumb/b/b0/Increase2.svg/17px-Increase2.svg.png 1.5x, //upload.wikimedia.org/wikipedia/commons/thumb/b/b0/Increase2.svg/22px-Increase2.svg.png 2x\" width=\"11\"/></span></span> <span data-sort-value=\"7000300000000000000♠\" style=\"display:none\"></span> 8.2%\n</td>\n<td style=\"text-align:center;\">71,413\n</td>\n<td><a href=\"/wiki/Bloomfield,_Connecticut\" title=\"Bloomfield, Connecticut\">Bloomfield, Connecticut</a>\n</td></tr>\n<tr>\n<td>17\n</td>\n<td><a href=\"/wiki/Ford_Motor_Company\" title=\"Ford Motor Company\">Ford Motor Company</a>\n</td>\n<td><a href=\"/wiki/Automotive_industry\" title=\"Automotive industry\">Automotive industry</a>\n</td>\n<td style=\"text-align:center;\">176,191\n</td>\n<td style=\"text-align:center;\"><span typeof=\"mw:File\"><span title=\"Increase\"><img alt=\"Increase\" class=\"mw-file-element\" data-file-height=\"300\" data-file-width=\"300\" decoding=\"async\" height=\"11\" src=\"//upload.wikimedia.org/wikipedia/commons/thumb/b/b0/Increase2.svg/11px-Increase2.svg.png\" srcset=\"//upload.wikimedia.org/wikipedia/commons/thumb/b/b0/Increase2.svg/17px-Increase2.svg.png 1.5x, //upload.wikimedia.org/wikipedia/commons/thumb/b/b0/Increase2.svg/22px-Increase2.svg.png 2x\" width=\"11\"/></span></span> <span data-sort-value=\"7000300000000000000♠\" style=\"display:none\"></span> 11.5%\n</td>\n<td style=\"text-align:center;\">177,000\n</td>\n<td><a href=\"/wiki/Dearborn,_Michigan\" title=\"Dearborn, Michigan\">Dearborn, Michigan</a>\n</td></tr>\n<tr>\n<td>18\n</td>\n<td><a href=\"/wiki/Bank_of_America\" title=\"Bank of America\">Bank of America</a>\n</td>\n<td>Financials\n</td>\n<td style=\"text-align:center;\">171,912\n</td>\n<td style=\"text-align:center;\"><span typeof=\"mw:File\"><span title=\"Increase\"><img alt=\"Increase\" class=\"mw-file-element\" data-file-height=\"300\" data-file-width=\"300\" decoding=\"async\" height=\"11\" src=\"//upload.wikimedia.org/wikipedia/commons/thumb/b/b0/Increase2.svg/11px-Increase2.svg.png\" srcset=\"//upload.wikimedia.org/wikipedia/commons/thumb/b/b0/Increase2.svg/17px-Increase2.svg.png 1.5x, //upload.wikimedia.org/wikipedia/commons/thumb/b/b0/Increase2.svg/22px-Increase2.svg.png 2x\" width=\"11\"/></span></span><span data-sort-value=\"7000300000000000000♠\" style=\"display:none\"></span> 49.4%\n</td>\n<td style=\"text-align:center;\">212,985\n</td>\n<td><a href=\"/wiki/Charlotte,_North_Carolina\" title=\"Charlotte, North Carolina\">Charlotte, North Carolina</a>\n</td></tr>\n<tr>\n<td>19\n</td>\n<td><a href=\"/wiki/General_Motors\" title=\"General Motors\">General Motors</a>\n</td>\n<td>Automotive industry\n</td>\n<td style=\"text-align:center;\">171,842\n</td>\n<td style=\"text-align:center;\"><span typeof=\"mw:File\"><span title=\"Increase\"><img alt=\"Increase\" class=\"mw-file-element\" data-file-height=\"300\" data-file-width=\"300\" decoding=\"async\" height=\"11\" src=\"//upload.wikimedia.org/wikipedia/commons/thumb/b/b0/Increase2.svg/11px-Increase2.svg.png\" srcset=\"//upload.wikimedia.org/wikipedia/commons/thumb/b/b0/Increase2.svg/17px-Increase2.svg.png 1.5x, //upload.wikimedia.org/wikipedia/commons/thumb/b/b0/Increase2.svg/22px-Increase2.svg.png 2x\" width=\"11\"/></span></span> <span data-sort-value=\"7000300000000000000♠\" style=\"display:none\"></span> 9.6%\n</td>\n<td style=\"text-align:center;\">163,000\n</td>\n<td><a href=\"/wiki/Detroit\" title=\"Detroit\">Detroit, Michigan</a>\n</td></tr>\n<tr>\n<td>20\n</td>\n<td><a class=\"mw-redirect\" href=\"/wiki/Anthem_(company)\" title=\"Anthem (company)\">Elevance Health</a>\n</td>\n<td>Healthcare\n</td>\n<td style=\"text-align:center;\">171,340\n</td>\n<td style=\"text-align:center;\"><span typeof=\"mw:File\"><span title=\"Increase\"><img alt=\"Increase\" class=\"mw-file-element\" data-file-height=\"300\" data-file-width=\"300\" decoding=\"async\" height=\"11\" src=\"//upload.wikimedia.org/wikipedia/commons/thumb/b/b0/Increase2.svg/11px-Increase2.svg.png\" srcset=\"//upload.wikimedia.org/wikipedia/commons/thumb/b/b0/Increase2.svg/17px-Increase2.svg.png 1.5x, //upload.wikimedia.org/wikipedia/commons/thumb/b/b0/Increase2.svg/22px-Increase2.svg.png 2x\" width=\"11\"/></span></span> <span data-sort-value=\"7000300000000000000♠\" style=\"display:none\"></span> 9.4%\n</td>\n<td style=\"text-align:center;\">104,900\n</td>\n<td><a href=\"/wiki/Indianapolis\" title=\"Indianapolis\">Indianapolis, Indiana</a>\n</td></tr>\n<tr>\n<td>21\n</td>\n<td><a href=\"/wiki/Citigroup\" title=\"Citigroup\">Citigroup</a>\n</td>\n<td>Financials\n</td>\n<td style=\"text-align:center;\">156,820\n</td>\n<td style=\"text-align:center;\"><span typeof=\"mw:File\"><span title=\"Increase\"><img alt=\"Increase\" class=\"mw-file-element\" data-file-height=\"300\" data-file-width=\"300\" decoding=\"async\" height=\"11\" src=\"//upload.wikimedia.org/wikipedia/commons/thumb/b/b0/Increase2.svg/11px-Increase2.svg.png\" srcset=\"//upload.wikimedia.org/wikipedia/commons/thumb/b/b0/Increase2.svg/17px-Increase2.svg.png 1.5x, //upload.wikimedia.org/wikipedia/commons/thumb/b/b0/Increase2.svg/22px-Increase2.svg.png 2x\" width=\"11\"/></span></span> <span data-sort-value=\"7000300000000000000♠\" style=\"display:none\"></span> 55.1%\n</td>\n<td style=\"text-align:center;\">237,925\n</td>\n<td><a href=\"/wiki/New_York_City\" title=\"New York City\">New York City, New York</a>\n</td></tr>\n<tr>\n<td>22\n</td>\n<td><a class=\"mw-redirect\" href=\"/wiki/Centene\" title=\"Centene\">Centene</a>\n</td>\n<td>Healthcare\n</td>\n<td style=\"text-align:center;\">153,999\n</td>\n<td style=\"text-align:center;\"><span typeof=\"mw:File\"><span title=\"Increase\"><img alt=\"Increase\" class=\"mw-file-element\" data-file-height=\"300\" data-file-width=\"300\" decoding=\"async\" height=\"11\" src=\"//upload.wikimedia.org/wikipedia/commons/thumb/b/b0/Increase2.svg/11px-Increase2.svg.png\" srcset=\"//upload.wikimedia.org/wikipedia/commons/thumb/b/b0/Increase2.svg/17px-Increase2.svg.png 1.5x, //upload.wikimedia.org/wikipedia/commons/thumb/b/b0/Increase2.svg/22px-Increase2.svg.png 2x\" width=\"11\"/></span></span> <span data-sort-value=\"7000300000000000000♠\" style=\"display:none\"></span> 6.5%\n</td>\n<td style=\"text-align:center;\">67,700\n</td>\n<td><a href=\"/wiki/St._Louis\" title=\"St. Louis\">St. Louis, Missouri</a>\n</td></tr>\n<tr>\n<td>23\n</td>\n<td><a class=\"mw-redirect\" href=\"/wiki/The_Home_Depot\" title=\"The Home Depot\">The Home Depot</a>\n</td>\n<td>Retail\n</td>\n<td style=\"text-align:center;\">152,669\n</td>\n<td style=\"text-align:center;\"><span typeof=\"mw:File\"><span title=\"Decrease\"><img alt=\"Decrease\" class=\"mw-file-element\" data-file-height=\"300\" data-file-width=\"300\" decoding=\"async\" height=\"11\" src=\"//upload.wikimedia.org/wikipedia/commons/thumb/e/ed/Decrease2.svg/11px-Decrease2.svg.png\" srcset=\"//upload.wikimedia.org/wikipedia/commons/thumb/e/ed/Decrease2.svg/17px-Decrease2.svg.png 1.5x, //upload.wikimedia.org/wikipedia/commons/thumb/e/ed/Decrease2.svg/22px-Decrease2.svg.png 2x\" width=\"11\"/></span></span> <span data-sort-value=\"2999450000000000000♠\" style=\"display:none\"></span> -3.0%\n</td>\n<td style=\"text-align:center;\">463,100\n</td>\n<td><a href=\"/wiki/Atlanta\" title=\"Atlanta\">Atlanta, Georgia</a>\n</td></tr>\n<tr>\n<td>24\n</td>\n<td><a href=\"/wiki/Marathon_Petroleum\" title=\"Marathon Petroleum\">Marathon Petroleum</a>\n</td>\n<td>Petroleum industry\n</td>\n<td style=\"text-align:center;\">150,307\n</td>\n<td style=\"text-align:center;\"><span typeof=\"mw:File\"><span title=\"Decrease\"><img alt=\"Decrease\" class=\"mw-file-element\" data-file-height=\"300\" data-file-width=\"300\" decoding=\"async\" height=\"11\" src=\"//upload.wikimedia.org/wikipedia/commons/thumb/e/ed/Decrease2.svg/11px-Decrease2.svg.png\" srcset=\"//upload.wikimedia.org/wikipedia/commons/thumb/e/ed/Decrease2.svg/17px-Decrease2.svg.png 1.5x, //upload.wikimedia.org/wikipedia/commons/thumb/e/ed/Decrease2.svg/22px-Decrease2.svg.png 2x\" width=\"11\"/></span></span> <span data-sort-value=\"2999450000000000000♠\" style=\"display:none\"></span> -16.5%\n</td>\n<td style=\"text-align:center;\">18,200\n</td>\n<td><a href=\"/wiki/Findlay,_Ohio\" title=\"Findlay, Ohio\">Findlay, Ohio</a>\n</td></tr>\n<tr>\n<td>25\n</td>\n<td><a href=\"/wiki/Kroger\" title=\"Kroger\">Kroger</a>\n</td>\n<td>Retail\n</td>\n<td style=\"text-align:center;\">150,039\n</td>\n<td style=\"text-align:center;\"><span typeof=\"mw:File\"><span title=\"Decrease\"><img alt=\"Decrease\" class=\"mw-file-element\" data-file-height=\"300\" data-file-width=\"300\" decoding=\"async\" height=\"11\" src=\"//upload.wikimedia.org/wikipedia/commons/thumb/e/ed/Decrease2.svg/11px-Decrease2.svg.png\" srcset=\"//upload.wikimedia.org/wikipedia/commons/thumb/e/ed/Decrease2.svg/17px-Decrease2.svg.png 1.5x, //upload.wikimedia.org/wikipedia/commons/thumb/e/ed/Decrease2.svg/22px-Decrease2.svg.png 2x\" width=\"11\"/></span></span> <span data-sort-value=\"2999450000000000000♠\" style=\"display:none\"></span> -3.6%\n</td>\n<td style=\"text-align:center;\">414,000\n</td>\n<td><a href=\"/wiki/Cincinnati\" title=\"Cincinnati\">Cincinnati, Ohio</a>\n</td></tr>\n<tr>\n<td>26\n</td>\n<td><a href=\"/wiki/Phillips_66\" title=\"Phillips 66\">Phillips 66</a>\n</td>\n<td>Petroleum industry\n</td>\n<td style=\"text-align:center;\">149,890\n</td>\n<td style=\"text-align:center;\"><span typeof=\"mw:File\"><span title=\"Decrease\"><img alt=\"Decrease\" class=\"mw-file-element\" data-file-height=\"300\" data-file-width=\"300\" decoding=\"async\" height=\"11\" src=\"//upload.wikimedia.org/wikipedia/commons/thumb/e/ed/Decrease2.svg/11px-Decrease2.svg.png\" srcset=\"//upload.wikimedia.org/wikipedia/commons/thumb/e/ed/Decrease2.svg/17px-Decrease2.svg.png 1.5x, //upload.wikimedia.org/wikipedia/commons/thumb/e/ed/Decrease2.svg/22px-Decrease2.svg.png 2x\" width=\"11\"/></span></span> <span data-sort-value=\"2999450000000000000♠\" style=\"display:none\"></span> -14.7%\n</td>\n<td style=\"text-align:center;\">14,000\n</td>\n<td><a href=\"/wiki/Houston\" title=\"Houston\">Houston, Texas</a>\n</td></tr>\n<tr>\n<td>27\n</td>\n<td><a href=\"/wiki/Fannie_Mae\" title=\"Fannie Mae\">Fannie Mae</a>\n</td>\n<td>Financials\n</td>\n<td style=\"text-align:center;\">141,240\n</td>\n<td style=\"text-align:center;\"><span typeof=\"mw:File\"><span title=\"Increase\"><img alt=\"Increase\" class=\"mw-file-element\" data-file-height=\"300\" data-file-width=\"300\" decoding=\"async\" height=\"11\" src=\"//upload.wikimedia.org/wikipedia/commons/thumb/b/b0/Increase2.svg/11px-Increase2.svg.png\" srcset=\"//upload.wikimedia.org/wikipedia/\n\n*** WARNING: max output size exceeded, skipping output. ***\n\n\n<td style=\"text-align:center;\">56,998\n</td>\n<td style=\"text-align:center;\"><span typeof=\"mw:File\"><span title=\"Increase\"><img alt=\"Increase\" class=\"mw-file-element\" data-file-height=\"300\" data-file-width=\"300\" decoding=\"async\" height=\"11\" src=\"//upload.wikimedia.org/wikipedia/commons/thumb/b/b0/Increase2.svg/11px-Increase2.svg.png\" srcset=\"//upload.wikimedia.org/wikipedia/commons/thumb/b/b0/Increase2.svg/17px-Increase2.svg.png 1.5x, //upload.wikimedia.org/wikipedia/commons/thumb/b/b0/Increase2.svg/22px-Increase2.svg.png 2x\" width=\"11\"/></span></span> <span data-sort-value=\"7000300000000000000♠\" style=\"display:none\"></span> 10.6%\n</td>\n<td style=\"text-align:center;\">84,900\n</td>\n<td><a href=\"/wiki/San_Jose,_California\" title=\"San Jose, California\">San Jose, California</a>\n</td></tr>\n<tr>\n<td>75\n</td>\n<td><a href=\"/wiki/Nationwide_Mutual_Insurance_Company\" title=\"Nationwide Mutual Insurance Company\">Nationwide Mutual Insurance Company</a>\n</td>\n<td>Financial\n</td>\n<td style=\"text-align:center;\">54,609\n</td>\n<td style=\"text-align:center;\"><span typeof=\"mw:File\"><span title=\"Increase\"><img alt=\"Increase\" class=\"mw-file-element\" data-file-height=\"300\" data-file-width=\"300\" decoding=\"async\" height=\"11\" src=\"//upload.wikimedia.org/wikipedia/commons/thumb/b/b0/Increase2.svg/11px-Increase2.svg.png\" srcset=\"//upload.wikimedia.org/wikipedia/commons/thumb/b/b0/Increase2.svg/17px-Increase2.svg.png 1.5x, //upload.wikimedia.org/wikipedia/commons/thumb/b/b0/Increase2.svg/22px-Increase2.svg.png 2x\" width=\"11\"/></span></span> <span data-sort-value=\"7000300000000000000♠\" style=\"display:none\"></span> 6.1%\n</td>\n<td style=\"text-align:center;\">24,118\n</td>\n<td><a href=\"/wiki/Columbus,_Ohio\" title=\"Columbus, Ohio\">Columbus, Ohio</a>\n</td></tr>\n<tr>\n<td>76\n</td>\n<td><a href=\"/wiki/Charter_Communications\" title=\"Charter Communications\">Charter Communications</a>\n</td>\n<td>Telecommunications\n</td>\n<td style=\"text-align:center;\">54,607\n</td>\n<td style=\"text-align:center;\"><span typeof=\"mw:File\"><span title=\"Increase\"><img alt=\"Increase\" class=\"mw-file-element\" data-file-height=\"300\" data-file-width=\"300\" decoding=\"async\" height=\"11\" src=\"//upload.wikimedia.org/wikipedia/commons/thumb/b/b0/Increase2.svg/11px-Increase2.svg.png\" srcset=\"//upload.wikimedia.org/wikipedia/commons/thumb/b/b0/Increase2.svg/17px-Increase2.svg.png 1.5x, //upload.wikimedia.org/wikipedia/commons/thumb/b/b0/Increase2.svg/22px-Increase2.svg.png 2x\" width=\"11\"/></span></span> <span data-sort-value=\"7000300000000000000♠\" style=\"display:none\"></span> 1.1%\n</td>\n<td style=\"text-align:center;\">101,100\n</td>\n<td><a href=\"/wiki/Stamford,_Connecticut\" title=\"Stamford, Connecticut\">Stamford, Connecticut</a>\n</td></tr>\n<tr>\n<td>77\n</td>\n<td><a href=\"/wiki/AbbVie\" title=\"AbbVie\">AbbVie</a>\n</td>\n<td>Pharmaceutical industry\n</td>\n<td style=\"text-align:center;\">54,317\n</td>\n<td style=\"text-align:center;\"><span typeof=\"mw:File\"><span title=\"Decrease\"><img alt=\"Decrease\" class=\"mw-file-element\" data-file-height=\"300\" data-file-width=\"300\" decoding=\"async\" height=\"11\" src=\"//upload.wikimedia.org/wikipedia/commons/thumb/e/ed/Decrease2.svg/11px-Decrease2.svg.png\" srcset=\"//upload.wikimedia.org/wikipedia/commons/thumb/e/ed/Decrease2.svg/17px-Decrease2.svg.png 1.5x, //upload.wikimedia.org/wikipedia/commons/thumb/e/ed/Decrease2.svg/22px-Decrease2.svg.png 2x\" width=\"11\"/></span></span> <span data-sort-value=\"2999450000000000000♠\" style=\"display:none\"></span> -6.4%\n</td>\n<td style=\"text-align:center;\">50,000\n</td>\n<td><a href=\"/wiki/Lake_Bluff,_Illinois\" title=\"Lake Bluff, Illinois\">Lake Bluff, Illinois</a>\n</td></tr>\n<tr>\n<td>78\n</td>\n<td><a href=\"/wiki/New_York_Life_Insurance_Company\" title=\"New York Life Insurance Company\">New York Life Insurance Company</a>\n</td>\n<td>Insurance\n</td>\n<td style=\"text-align:center;\">54,317\n</td>\n<td style=\"text-align:center;\"><span typeof=\"mw:File\"><span title=\"Increase\"><img alt=\"Increase\" class=\"mw-file-element\" data-file-height=\"300\" data-file-width=\"300\" decoding=\"async\" height=\"11\" src=\"//upload.wikimedia.org/wikipedia/commons/thumb/b/b0/Increase2.svg/11px-Increase2.svg.png\" srcset=\"//upload.wikimedia.org/wikipedia/commons/thumb/b/b0/Increase2.svg/17px-Increase2.svg.png 1.5x, //upload.wikimedia.org/wikipedia/commons/thumb/b/b0/Increase2.svg/22px-Increase2.svg.png 2x\" width=\"11\"/></span></span> <span data-sort-value=\"7000300000000000000♠\" style=\"display:none\"></span> 14.2%\n</td>\n<td style=\"text-align:center;\">15,384\n</td>\n<td><a href=\"/wiki/New_York_City\" title=\"New York City\">New York City, New York</a>\n</td></tr>\n<tr>\n<td>79\n</td>\n<td><a href=\"/wiki/Intel\" title=\"Intel\">Intel</a>\n</td>\n<td>Technology\n</td>\n<td style=\"text-align:center;\">54,228\n</td>\n<td style=\"text-align:center;\"><span typeof=\"mw:File\"><span title=\"Decrease\"><img alt=\"Decrease\" class=\"mw-file-element\" data-file-height=\"300\" data-file-width=\"300\" decoding=\"async\" height=\"11\" src=\"//upload.wikimedia.org/wikipedia/commons/thumb/e/ed/Decrease2.svg/11px-Decrease2.svg.png\" srcset=\"//upload.wikimedia.org/wikipedia/commons/thumb/e/ed/Decrease2.svg/17px-Decrease2.svg.png 1.5x, //upload.wikimedia.org/wikipedia/commons/thumb/e/ed/Decrease2.svg/22px-Decrease2.svg.png 2x\" width=\"11\"/></span></span> <span data-sort-value=\"2999450000000000000♠\" style=\"display:none\"></span> -14.0%\n</td>\n<td style=\"text-align:center;\">124,800\n</td>\n<td><a href=\"/wiki/Santa_Clara,_California\" title=\"Santa Clara, California\">Santa Clara, California</a>\n</td></tr>\n<tr>\n<td>80\n</td>\n<td><a class=\"mw-redirect\" href=\"/wiki/TJX\" title=\"TJX\">TJX</a>\n</td>\n<td>Retail\n</td>\n<td style=\"text-align:center;\">49,936\n</td>\n<td style=\"text-align:center;\"><span typeof=\"mw:File\"><span title=\"Increase\"><img alt=\"Increase\" class=\"mw-file-element\" data-file-height=\"300\" data-file-width=\"300\" decoding=\"async\" height=\"11\" src=\"//upload.wikimedia.org/wikipedia/commons/thumb/b/b0/Increase2.svg/11px-Increase2.svg.png\" srcset=\"//upload.wikimedia.org/wikipedia/commons/thumb/b/b0/Increase2.svg/17px-Increase2.svg.png 1.5x, //upload.wikimedia.org/wikipedia/commons/thumb/b/b0/Increase2.svg/22px-Increase2.svg.png 2x\" width=\"11\"/></span></span> <span data-sort-value=\"7000300000000000000♠\" style=\"display:none\"></span> 2.9%\n</td>\n<td style=\"text-align:center;\">329,000\n</td>\n<td><a href=\"/wiki/Framingham,_Massachusetts\" title=\"Framingham, Massachusetts\">Framingham, Massachusetts</a>\n</td></tr>\n<tr>\n<td>81\n</td>\n<td><a href=\"/wiki/Prudential_Financial\" title=\"Prudential Financial\">Prudential Financial</a>\n</td>\n<td>Financials\n</td>\n<td style=\"text-align:center;\">53,979\n</td>\n<td style=\"text-align:center;\"><span typeof=\"mw:File\"><span title=\"Decrease\"><img alt=\"Decrease\" class=\"mw-file-element\" data-file-height=\"300\" data-file-width=\"300\" decoding=\"async\" height=\"11\" src=\"//upload.wikimedia.org/wikipedia/commons/thumb/e/ed/Decrease2.svg/11px-Decrease2.svg.png\" srcset=\"//upload.wikimedia.org/wikipedia/commons/thumb/e/ed/Decrease2.svg/17px-Decrease2.svg.png 1.5x, //upload.wikimedia.org/wikipedia/commons/thumb/e/ed/Decrease2.svg/22px-Decrease2.svg.png 2x\" width=\"11\"/></span></span> <span data-sort-value=\"2999450000000000000♠\" style=\"display:none\"></span> -10.1%\n</td>\n<td style=\"text-align:center;\">40,366\n</td>\n<td><a href=\"/wiki/Newark,_New_Jersey\" title=\"Newark, New Jersey\">Newark, New Jersey</a>\n</td></tr>\n<tr>\n<td>82\n</td>\n<td><a class=\"mw-redirect\" href=\"/wiki/HP_Inc\" title=\"HP Inc\">HP</a>\n</td>\n<td>Technology\n</td>\n<td style=\"text-align:center;\">53,718\n</td>\n<td style=\"text-align:center;\"><span typeof=\"mw:File\"><span title=\"Decrease\"><img alt=\"Decrease\" class=\"mw-file-element\" data-file-height=\"300\" data-file-width=\"300\" decoding=\"async\" height=\"11\" src=\"//upload.wikimedia.org/wikipedia/commons/thumb/e/ed/Decrease2.svg/11px-Decrease2.svg.png\" srcset=\"//upload.wikimedia.org/wikipedia/commons/thumb/e/ed/Decrease2.svg/17px-Decrease2.svg.png 1.5x, //upload.wikimedia.org/wikipedia/commons/thumb/e/ed/Decrease2.svg/22px-Decrease2.svg.png 2x\" width=\"11\"/></span></span> <span data-sort-value=\"2999450000000000000♠\" style=\"display:none\"></span> -14.5%\n</td>\n<td style=\"text-align:center;\">58,000\n</td>\n<td><a href=\"/wiki/Palo_Alto,_California\" title=\"Palo Alto, California\">Palo Alto, California</a>\n</td></tr>\n<tr>\n<td>83\n</td>\n<td><a href=\"/wiki/United_Airlines\" title=\"United Airlines\">United Airlines</a>\n</td>\n<td>Airline\n</td>\n<td style=\"text-align:center;\">53,717\n</td>\n<td style=\"text-align:center;\"><span typeof=\"mw:File\"><span title=\"Increase\"><img alt=\"Increase\" class=\"mw-file-element\" data-file-height=\"300\" data-file-width=\"300\" decoding=\"async\" height=\"11\" src=\"//upload.wikimedia.org/wikipedia/commons/thumb/b/b0/Increase2.svg/11px-Increase2.svg.png\" srcset=\"//upload.wikimedia.org/wikipedia/commons/thumb/b/b0/Increase2.svg/17px-Increase2.svg.png 1.5x, //upload.wikimedia.org/wikipedia/commons/thumb/b/b0/Increase2.svg/22px-Increase2.svg.png 2x\" width=\"11\"/></span></span> <span data-sort-value=\"7000300000000000000♠\" style=\"display:none\"></span> 19.5%\n</td>\n<td style=\"text-align:center;\">103,300\n</td>\n<td><a class=\"mw-redirect\" href=\"/wiki/Chicago_Illinois\" title=\"Chicago Illinois\">Chicago, Illinois</a>\n</td></tr>\n<tr>\n<td>84\n</td>\n<td><a href=\"/wiki/Performance_Food_Group\" title=\"Performance Food Group\">Performance Food Group</a>\n</td>\n<td>Food processing\n</td>\n<td style=\"text-align:center;\">53,355\n</td>\n<td style=\"text-align:center;\"><span typeof=\"mw:File\"><span title=\"Increase\"><img alt=\"Increase\" class=\"mw-file-element\" data-file-height=\"300\" data-file-width=\"300\" decoding=\"async\" height=\"11\" src=\"//upload.wikimedia.org/wikipedia/commons/thumb/b/b0/Increase2.svg/11px-Increase2.svg.png\" srcset=\"//upload.wikimedia.org/wikipedia/commons/thumb/b/b0/Increase2.svg/17px-Increase2.svg.png 1.5x, //upload.wikimedia.org/wikipedia/commons/thumb/b/b0/Increase2.svg/22px-Increase2.svg.png 2x\" width=\"11\"/></span></span> <span data-sort-value=\"7000300000000000000♠\" style=\"display:none\"></span> 13.1%\n</td>\n<td style=\"text-align:center;\">34,825\n</td>\n<td><a href=\"/wiki/Richmond,_Virginia\" title=\"Richmond, Virginia\">Richmond, Virginia</a>\n</td></tr>\n<tr>\n<td>85\n</td>\n<td><a href=\"/wiki/Tyson_Foods\" title=\"Tyson Foods\">Tyson Foods</a>\n</td>\n<td>Food processing\n</td>\n<td style=\"text-align:center;\">52,788\n</td>\n<td style=\"text-align:center;\"><span typeof=\"mw:File\"><span title=\"Decrease\"><img alt=\"Decrease\" class=\"mw-file-element\" data-file-height=\"300\" data-file-width=\"300\" decoding=\"async\" height=\"11\" src=\"//upload.wikimedia.org/wikipedia/commons/thumb/e/ed/Decrease2.svg/11px-Decrease2.svg.png\" srcset=\"//upload.wikimedia.org/wikipedia/commons/thumb/e/ed/Decrease2.svg/17px-Decrease2.svg.png 1.5x, //upload.wikimedia.org/wikipedia/commons/thumb/e/ed/Decrease2.svg/22px-Decrease2.svg.png 2x\" width=\"11\"/></span></span> <span data-sort-value=\"2999450000000000000♠\" style=\"display:none\"></span> -0.8%\n</td>\n<td style=\"text-align:center;\">139,000\n</td>\n<td><a href=\"/wiki/Springdale,_Arkansas\" title=\"Springdale, Arkansas\">Springdale, Arkansas</a>\n</td></tr>\n<tr>\n<td>86\n</td>\n<td><a href=\"/wiki/American_Airlines\" title=\"American Airlines\">American Airlines</a>\n</td>\n<td>Airline\n</td>\n<td style=\"text-align:center;\">52,788\n</td>\n<td style=\"text-align:center;\"><span typeof=\"mw:File\"><span title=\"Increase\"><img alt=\"Increase\" class=\"mw-file-element\" data-file-height=\"300\" data-file-width=\"300\" decoding=\"async\" height=\"11\" src=\"//upload.wikimedia.org/wikipedia/commons/thumb/b/b0/Increase2.svg/11px-Increase2.svg.png\" srcset=\"//upload.wikimedia.org/wikipedia/commons/thumb/b/b0/Increase2.svg/17px-Increase2.svg.png 1.5x, //upload.wikimedia.org/wikipedia/commons/thumb/b/b0/Increase2.svg/22px-Increase2.svg.png 2x\" width=\"11\"/></span></span> <span data-sort-value=\"7000300000000000000♠\" style=\"display:none\"></span> 7.8%\n</td>\n<td style=\"text-align:center;\">132,100\n</td>\n<td><a href=\"/wiki/Fort_Worth,_Texas\" title=\"Fort Worth, Texas\">Fort Worth, Texas</a>\n</td></tr>\n<tr>\n<td>87\n</td>\n<td><a href=\"/wiki/Liberty_Mutual\" title=\"Liberty Mutual\">Liberty Mutual</a>\n</td>\n<td>Insurance\n</td>\n<td style=\"text-align:center;\">52,612\n</td>\n<td style=\"text-align:center;\"><span typeof=\"mw:File\"><span title=\"Increase\"><img alt=\"Increase\" class=\"mw-file-element\" data-file-height=\"300\" data-file-width=\"300\" decoding=\"async\" height=\"11\" src=\"//upload.wikimedia.org/wikipedia/commons/thumb/b/b0/Increase2.svg/11px-Increase2.svg.png\" srcset=\"//upload.wikimedia.org/wikipedia/commons/thumb/b/b0/Increase2.svg/17px-Increase2.svg.png 1.5x, //upload.wikimedia.org/wikipedia/commons/thumb/b/b0/Increase2.svg/22px-Increase2.svg.png 2x\" width=\"11\"/></span></span> <span data-sort-value=\"7000300000000000000♠\" style=\"display:none\"></span> 5.3%\n</td>\n<td style=\"text-align:center;\">45,000\n</td>\n<td><a href=\"/wiki/Boston\" title=\"Boston\">Boston, Massachusetts</a>\n</td></tr>\n<tr>\n<td>88\n</td>\n<td><a class=\"mw-redirect\" href=\"/wiki/Nike_Inc\" title=\"Nike Inc\">Nike</a>\n</td>\n<td>Apparel\n</td>\n<td style=\"text-align:center;\">51,217\n</td>\n<td style=\"text-align:center;\"><span typeof=\"mw:File\"><span title=\"Increase\"><img alt=\"Increase\" class=\"mw-file-element\" data-file-height=\"300\" data-file-width=\"300\" decoding=\"async\" height=\"11\" src=\"//upload.wikimedia.org/wikipedia/commons/thumb/b/b0/Increase2.svg/11px-Increase2.svg.png\" srcset=\"//upload.wikimedia.org/wikipedia/commons/thumb/b/b0/Increase2.svg/17px-Increase2.svg.png 1.5x, //upload.wikimedia.org/wikipedia/commons/thumb/b/b0/Increase2.svg/22px-Increase2.svg.png 2x\" width=\"11\"/></span></span> <span data-sort-value=\"7000300000000000000♠\" style=\"display:none\"></span> 9.6%\n</td>\n<td style=\"text-align:center;\">83,700\n</td>\n<td><a href=\"/wiki/Beaverton,_Oregon\" title=\"Beaverton, Oregon\">Beaverton, Oregon</a>\n</td></tr>\n<tr>\n<td>89\n</td>\n<td><a href=\"/wiki/Oracle_Corporation\" title=\"Oracle Corporation\">Oracle Corporation</a>\n</td>\n<td>Technology\n</td>\n<td style=\"text-align:center;\">49,954\n</td>\n<td style=\"text-align:center;\"><span typeof=\"mw:File\"><span title=\"Increase\"><img alt=\"Increase\" class=\"mw-file-element\" data-file-height=\"300\" data-file-width=\"300\" decoding=\"async\" height=\"11\" src=\"//upload.wikimedia.org/wikipedia/commons/thumb/b/b0/Increase2.svg/11px-Increase2.svg.png\" srcset=\"//upload.wikimedia.org/wikipedia/commons/thumb/b/b0/Increase2.svg/17px-Increase2.svg.png 1.5x, //upload.wikimedia.org/wikipedia/commons/thumb/b/b0/Increase2.svg/22px-Increase2.svg.png 2x\" width=\"11\"/></span></span> <span data-sort-value=\"7000500000000000000♠\" style=\"display:none\"></span> 17.7%\n</td>\n<td style=\"text-align:center;\">164,000\n</td>\n<td><a href=\"/wiki/Austin,_Texas\" title=\"Austin, Texas\">Austin, Texas</a>\n</td></tr>\n<tr>\n<td>90\n</td>\n<td><a href=\"/wiki/Enterprise_Products\" title=\"Enterprise Products\">Enterprise Products</a>\n</td>\n<td>Petroleum industry\n</td>\n<td style=\"text-align:center;\">49,715\n</td>\n<td style=\"text-align:center;\"><span typeof=\"mw:File\"><span title=\"Decrease\"><img alt=\"Decrease\" class=\"mw-file-element\" data-file-height=\"300\" data-file-width=\"300\" decoding=\"async\" height=\"11\" src=\"//upload.wikimedia.org/wikipedia/commons/thumb/e/ed/Decrease2.svg/11px-Decrease2.svg.png\" srcset=\"//upload.wikimedia.org/wikipedia/commons/thumb/e/ed/Decrease2.svg/17px-Decrease2.svg.png 1.5x, //upload.wikimedia.org/wikipedia/commons/thumb/e/ed/Decrease2.svg/22px-Decrease2.svg.png 2x\" width=\"11\"/></span></span> <span data-sort-value=\"2999450000000000000♠\" style=\"display:none\"></span> -14.6%\n</td>\n<td style=\"text-align:center;\">7,500\n</td>\n<td><a class=\"mw-redirect\" href=\"/wiki/Houston,_Texas\" title=\"Houston, Texas\">Houston, Texas</a>\n</td></tr>\n<tr>\n<td>91\n</td>\n<td><a class=\"mw-redirect\" href=\"/wiki/Capital_One_Financial\" title=\"Capital One Financial\">Capital One Financial</a>\n</td>\n<td>Financials\n</td>\n<td style=\"text-align:center;\">49,484\n</td>\n<td style=\"text-align:center;\"><span typeof=\"mw:File\"><span title=\"Increase\"><img alt=\"Increase\" class=\"mw-file-element\" data-file-height=\"300\" data-file-width=\"300\" decoding=\"async\" height=\"11\" src=\"//upload.wikimedia.org/wikipedia/commons/thumb/b/b0/Increase2.svg/11px-Increase2.svg.png\" srcset=\"//upload.wikimedia.org/wikipedia/commons/thumb/b/b0/Increase2.svg/17px-Increase2.svg.png 1.5x, //upload.wikimedia.org/wikipedia/commons/thumb/b/b0/Increase2.svg/22px-Increase2.svg.png 2x\" width=\"11\"/></span></span> <span data-sort-value=\"7000300000000000000♠\" style=\"display:none\"></span> 29.0%\n</td>\n<td style=\"text-align:center;\">51,987\n</td>\n<td><a href=\"/wiki/Richmond,_Virginia\" title=\"Richmond, Virginia\">Richmond, Virginia</a>\n</td></tr>\n<tr>\n<td>92\n</td>\n<td><a href=\"/wiki/Plains_All_American_Pipeline\" title=\"Plains All American Pipeline\">Plains All American Pipeline</a>\n</td>\n<td>Petroleum industry\n</td>\n<td style=\"text-align:center;\">48,712\n</td>\n<td style=\"text-align:center;\"><span typeof=\"mw:File\"><span title=\"Decrease\"><img alt=\"Decrease\" class=\"mw-file-element\" data-file-height=\"300\" data-file-width=\"300\" decoding=\"async\" height=\"11\" src=\"//upload.wikimedia.org/wikipedia/commons/thumb/e/ed/Decrease2.svg/11px-Decrease2.svg.png\" srcset=\"//upload.wikimedia.org/wikipedia/commons/thumb/e/ed/Decrease2.svg/17px-Decrease2.svg.png 1.5x, //upload.wikimedia.org/wikipedia/commons/thumb/e/ed/Decrease2.svg/22px-Decrease2.svg.png 2x\" width=\"11\"/></span></span> <span data-sort-value=\"2999450000000000000♠\" style=\"display:none\"></span> -15.1%\n</td>\n<td style=\"text-align:center;\">4,200\n</td>\n<td><a class=\"mw-redirect\" href=\"/wiki/Houston,_Texas\" title=\"Houston, Texas\">Houston, Texas</a>\n</td></tr>\n<tr>\n<td>93\n</td>\n<td><a href=\"/wiki/World_Kinect_Corporation\" title=\"World Kinect Corporation\">World Kinect Corporation</a>\n</td>\n<td>Energy trading\n</td>\n<td style=\"text-align:center;\">47,711\n</td>\n<td style=\"text-align:center;\"><span typeof=\"mw:File\"><span title=\"Decrease\"><img alt=\"Decrease\" class=\"mw-file-element\" data-file-height=\"300\" data-file-width=\"300\" decoding=\"async\" height=\"11\" src=\"//upload.wikimedia.org/wikipedia/commons/thumb/e/ed/Decrease2.svg/11px-Decrease2.svg.png\" srcset=\"//upload.wikimedia.org/wikipedia/commons/thumb/e/ed/Decrease2.svg/17px-Decrease2.svg.png 1.5x, //upload.wikimedia.org/wikipedia/commons/thumb/e/ed/Decrease2.svg/22px-Decrease2.svg.png 2x\" width=\"11\"/></span></span> <span data-sort-value=\"2999450000000000000♠\" style=\"display:none\"></span> -19.2%\n</td>\n<td style=\"text-align:center;\">5,289\n</td>\n<td><a href=\"/wiki/Doral,_Florida\" title=\"Doral, Florida\">Doral</a>, <a href=\"/wiki/Florida\" title=\"Florida\">Florida</a>\n</td></tr>\n<tr>\n<td>94\n</td>\n<td><a class=\"mw-redirect\" href=\"/wiki/AIG\" title=\"AIG\">AIG</a>\n</td>\n<td>Insurance\n</td>\n<td style=\"text-align:center;\">46,802\n</td>\n<td style=\"text-align:center;\"><span typeof=\"mw:File\"><span title=\"Decrease\"><img alt=\"Decrease\" class=\"mw-file-element\" data-file-height=\"300\" data-file-width=\"300\" decoding=\"async\" height=\"11\" src=\"//upload.wikimedia.org/wikipedia/commons/thumb/e/ed/Decrease2.svg/11px-Decrease2.svg.png\" srcset=\"//upload.wikimedia.org/wikipedia/commons/thumb/e/ed/Decrease2.svg/17px-Decrease2.svg.png 1.5x, //upload.wikimedia.org/wikipedia/commons/thumb/e/ed/Decrease2.svg/22px-Decrease2.svg.png 2x\" width=\"11\"/></span></span> <span data-sort-value=\"2999450000000000000♠\" style=\"display:none\"></span> -17.1%\n</td>\n<td style=\"text-align:center;\">25,200\n</td>\n<td><a href=\"/wiki/New_York_City\" title=\"New York City\">New York City, New York</a>\n</td></tr>\n<tr>\n<td>95\n</td>\n<td><a class=\"mw-redirect\" href=\"/wiki/Coca-Cola_company\" title=\"Coca-Cola company\">Coca-Cola</a>\n</td>\n<td>Beverage\n</td>\n<td style=\"text-align:center;\">45,754\n</td>\n<td style=\"text-align:center;\"><span typeof=\"mw:File\"><span title=\"Increase\"><img alt=\"Increase\" class=\"mw-file-element\" data-file-height=\"300\" data-file-width=\"300\" decoding=\"async\" height=\"11\" src=\"//upload.wikimedia.org/wikipedia/commons/thumb/b/b0/Increase2.svg/11px-Increase2.svg.png\" srcset=\"//upload.wikimedia.org/wikipedia/commons/thumb/b/b0/Increase2.svg/17px-Increase2.svg.png 1.5x, //upload.wikimedia.org/wikipedia/commons/thumb/b/b0/Increase2.svg/22px-Increase2.svg.png 2x\" width=\"11\"/></span></span> <span data-sort-value=\"7000300000000000000♠\" style=\"display:none\"></span> 6.4%\n</td>\n<td style=\"text-align:center;\">79,100\n</td>\n<td><a class=\"mw-redirect\" href=\"/wiki/Atlanta_Georgia\" title=\"Atlanta Georgia\">Atlanta, Georgia</a>\n</td></tr>\n<tr>\n<td>96\n</td>\n<td><a href=\"/wiki/TIAA\" title=\"TIAA\">TIAA</a>\n</td>\n<td>Financials\n</td>\n<td style=\"text-align:center;\">45,735\n</td>\n<td style=\"text-align:center;\"><span typeof=\"mw:File\"><span title=\"Increase\"><img alt=\"Increase\" class=\"mw-file-element\" data-file-height=\"300\" data-file-width=\"300\" decoding=\"async\" height=\"11\" src=\"//upload.wikimedia.org/wikipedia/commons/thumb/b/b0/Increase2.svg/11px-Increase2.svg.png\" srcset=\"//upload.wikimedia.org/wikipedia/commons/thumb/b/b0/Increase2.svg/17px-Increase2.svg.png 1.5x, //upload.wikimedia.org/wikipedia/commons/thumb/b/b0/Increase2.svg/22px-Increase2.svg.png 2x\" width=\"11\"/></span></span> <span data-sort-value=\"7000300000000000000♠\" style=\"display:none\"></span> 11.8%\n</td>\n<td style=\"text-align:center;\">16,023\n</td>\n<td><a href=\"/wiki/New_York_City\" title=\"New York City\">New York City, New York</a>\n</td></tr>\n<tr>\n<td>97\n</td>\n<td><a class=\"mw-redirect\" href=\"/wiki/CHS_Inc\" title=\"CHS Inc\">CHS</a>\n</td>\n<td>Agriculture cooperative\n</td>\n<td style=\"text-align:center;\">45,590\n</td>\n<td style=\"text-align:center;\"><span typeof=\"mw:File\"><span title=\"Decrease\"><img alt=\"Decrease\" class=\"mw-file-element\" data-file-height=\"300\" data-file-width=\"300\" decoding=\"async\" height=\"11\" src=\"//upload.wikimedia.org/wikipedia/commons/thumb/e/ed/Decrease2.svg/11px-Decrease2.svg.png\" srcset=\"//upload.wikimedia.org/wikipedia/commons/thumb/e/ed/Decrease2.svg/17px-Decrease2.svg.png 1.5x, //upload.wikimedia.org/wikipedia/commons/thumb/e/ed/Decrease2.svg/22px-Decrease2.svg.png 2x\" width=\"11\"/></span></span> <span data-sort-value=\"2999450000000000000♠\" style=\"display:none\"></span> -4.6%\n</td>\n<td style=\"text-align:center;\">10,609\n</td>\n<td><a class=\"mw-redirect\" href=\"/wiki/Inver_Grove_Heights\" title=\"Inver Grove Heights\">Inver Grove Heights, Minnesota</a>\n</td></tr>\n<tr>\n<td>98\n</td>\n<td><a class=\"mw-redirect\" href=\"/wiki/Bristol-Myers_Squibb\" title=\"Bristol-Myers Squibb\">Bristol-Myers Squibb</a>\n</td>\n<td>Pharmaceutical industry\n</td>\n<td style=\"text-align:center;\">45,006\n</td>\n<td style=\"text-align:center;\"><span typeof=\"mw:File\"><span title=\"Decrease\"><img alt=\"Decrease\" class=\"mw-file-element\" data-file-height=\"300\" data-file-width=\"300\" decoding=\"async\" height=\"11\" src=\"//upload.wikimedia.org/wikipedia/commons/thumb/e/ed/Decrease2.svg/11px-Decrease2.svg.png\" srcset=\"//upload.wikimedia.org/wikipedia/commons/thumb/e/ed/Decrease2.svg/17px-Decrease2.svg.png 1.5x, //upload.wikimedia.org/wikipedia/commons/thumb/e/ed/Decrease2.svg/22px-Decrease2.svg.png 2x\" width=\"11\"/></span></span> <span data-sort-value=\"2999450000000000000♠\" style=\"display:none\"></span> -2.5%\n</td>\n<td style=\"text-align:center;\">34,100\n</td>\n<td><a href=\"/wiki/New_York_City\" title=\"New York City\">New York City</a>, <a href=\"/wiki/New_York_(state)\" title=\"New York (state)\">New York</a>\n</td></tr>\n<tr>\n<td>99\n</td>\n<td><a href=\"/wiki/Dow_Chemical_Company\" title=\"Dow Chemical Company\">Dow Chemical Company</a>\n</td>\n<td><a href=\"/wiki/Chemical_industry\" title=\"Chemical industry\">Chemical industry</a>\n</td>\n<td style=\"text-align:center;\">44,622\n</td>\n<td style=\"text-align:center;\"><span typeof=\"mw:File\"><span title=\"Decrease\"><img alt=\"Decrease\" class=\"mw-file-element\" data-file-height=\"300\" data-file-width=\"300\" decoding=\"async\" height=\"11\" src=\"//upload.wikimedia.org/wikipedia/commons/thumb/e/ed/Decrease2.svg/11px-Decrease2.svg.png\" srcset=\"//upload.wikimedia.org/wikipedia/commons/thumb/e/ed/Decrease2.svg/17px-Decrease2.svg.png 1.5x, //upload.wikimedia.org/wikipedia/commons/thumb/e/ed/Decrease2.svg/22px-Decrease2.svg.png 2x\" width=\"11\"/></span></span> <span data-sort-value=\"2999450000000000000♠\" style=\"display:none\"></span> -21.6%\n</td>\n<td style=\"text-align:center;\">35,900\n</td>\n<td><a href=\"/wiki/Midland,_Michigan\" title=\"Midland, Michigan\">Midland, Michigan</a>\n</td></tr>\n<tr>\n<td>100\n</td>\n<td><a href=\"/wiki/Best_Buy\" title=\"Best Buy\">Best Buy</a>\n</td>\n<td>Retail\n</td>\n<td style=\"text-align:center;\">43,452\n</td>\n<td style=\"text-align:center;\"><span typeof=\"mw:File\"><span title=\"Decrease\"><img alt=\"Decrease\" class=\"mw-file-element\" data-file-height=\"300\" data-file-width=\"300\" decoding=\"async\" height=\"11\" src=\"//upload.wikimedia.org/wikipedia/commons/thumb/e/ed/Decrease2.svg/11px-Decrease2.svg.png\" srcset=\"//upload.wikimedia.org/wikipedia/commons/thumb/e/ed/Decrease2.svg/17px-Decrease2.svg.png 1.5x, //upload.wikimedia.org/wikipedia/commons/thumb/e/ed/Decrease2.svg/22px-Decrease2.svg.png 2x\" width=\"11\"/></span></span> <span data-sort-value=\"2999450000000000000♠\" style=\"display:none\"></span> -6.1%\n</td>\n<td style=\"text-align:center;\">85,000\n</td>\n<td><a href=\"/wiki/Richfield,_Minnesota\" title=\"Richfield, Minnesota\">Richfield, Minnesota</a>\n</td></tr></tbody></table>"
     ]
    }
   ],
   "source": [
    "soup.find('table', class_='wikitable sortable')"
   ]
  },
  {
   "cell_type": "code",
   "execution_count": 0,
   "metadata": {
    "application/vnd.databricks.v1+cell": {
     "cellMetadata": {
      "byteLimit": 2048000,
      "rowLimit": 10000
     },
     "inputWidgets": {},
     "nuid": "c5cc2b62-6034-4a52-8ac5-4e0c69b4d942",
     "showTitle": false,
     "tableResultSettingsMap": {},
     "title": ""
    }
   },
   "outputs": [
    {
     "output_type": "stream",
     "name": "stdout",
     "output_type": "stream",
     "text": [
      "<table class=\"wikitable sortable\">\n<caption>\n</caption>\n<tbody><tr>\n<th>Rank\n</th>\n<th>Name\n</th>\n<th>Industry\n</th>\n<th>Revenue <br/>(USD millions)\n</th>\n<th>Revenue growth\n</th>\n<th>Employees\n</th>\n<th>Headquarters\n</th></tr>\n<tr>\n<td>1\n</td>\n<td><a href=\"/wiki/Walmart\" title=\"Walmart\">Walmart</a>\n</td>\n<td><a href=\"/wiki/Retail\" title=\"Retail\">Retail</a>\n</td>\n<td style=\"text-align:center;\">648,125\n</td>\n<td style=\"text-align:center;\"><span typeof=\"mw:File\"><span title=\"Increase\"><img alt=\"Increase\" class=\"mw-file-element\" data-file-height=\"300\" data-file-width=\"300\" decoding=\"async\" height=\"11\" src=\"//upload.wikimedia.org/wikipedia/commons/thumb/b/b0/Increase2.svg/11px-Increase2.svg.png\" srcset=\"//upload.wikimedia.org/wikipedia/commons/thumb/b/b0/Increase2.svg/17px-Increase2.svg.png 1.5x, //upload.wikimedia.org/wikipedia/commons/thumb/b/b0/Increase2.svg/22px-Increase2.svg.png 2x\" width=\"11\"/></span></span> <span data-sort-value=\"7000300000000000000♠\" style=\"display:none\"></span> 6.0%\n</td>\n<td style=\"text-align:center;\">2,100,000\n</td>\n<td><a href=\"/wiki/Bentonville,_Arkansas\" title=\"Bentonville, Arkansas\">Bentonville, Arkansas</a>\n</td></tr>\n<tr>\n<td>2\n</td>\n<td><a href=\"/wiki/Amazon_(company)\" title=\"Amazon (company)\">Amazon</a>\n</td>\n<td>Retail and <a href=\"/wiki/Cloud_computing\" title=\"Cloud computing\">cloud computing</a>\n</td>\n<td style=\"text-align:center;\">574,785\n</td>\n<td style=\"text-align:center;\"><span typeof=\"mw:File\"><span title=\"Increase\"><img alt=\"Increase\" class=\"mw-file-element\" data-file-height=\"300\" data-file-width=\"300\" decoding=\"async\" height=\"11\" src=\"//upload.wikimedia.org/wikipedia/commons/thumb/b/b0/Increase2.svg/11px-Increase2.svg.png\" srcset=\"//upload.wikimedia.org/wikipedia/commons/thumb/b/b0/Increase2.svg/17px-Increase2.svg.png 1.5x, //upload.wikimedia.org/wikipedia/commons/thumb/b/b0/Increase2.svg/22px-Increase2.svg.png 2x\" width=\"11\"/></span></span> <span data-sort-value=\"7000300000000000000♠\" style=\"display:none\"></span> 11.9%\n</td>\n<td style=\"text-align:center;\">1,525,000\n</td>\n<td><a href=\"/wiki/Seattle\" title=\"Seattle\">Seattle, Washington</a>\n</td></tr>\n<tr>\n<td>3\n</td>\n<td><a class=\"mw-redirect\" href=\"/wiki/Apple_Inc\" title=\"Apple Inc\">Apple</a>\n</td>\n<td><a href=\"/wiki/Electronics_industry\" title=\"Electronics industry\">Electronics industry</a>\n</td>\n<td style=\"text-align:center;\">383,482\n</td>\n<td style=\"text-align:center;\"><span typeof=\"mw:File\"><span title=\"Decrease\"><img alt=\"Decrease\" class=\"mw-file-element\" data-file-height=\"300\" data-file-width=\"300\" decoding=\"async\" height=\"11\" src=\"//upload.wikimedia.org/wikipedia/commons/thumb/e/ed/Decrease2.svg/11px-Decrease2.svg.png\" srcset=\"//upload.wikimedia.org/wikipedia/commons/thumb/e/ed/Decrease2.svg/17px-Decrease2.svg.png 1.5x, //upload.wikimedia.org/wikipedia/commons/thumb/e/ed/Decrease2.svg/22px-Decrease2.svg.png 2x\" width=\"11\"/></span></span> <span data-sort-value=\"2999450000000000000♠\" style=\"display:none\"></span> -2.8%\n</td>\n<td style=\"text-align:center;\">161,000\n</td>\n<td><a href=\"/wiki/Cupertino,_California\" title=\"Cupertino, California\">Cupertino, California</a>\n</td></tr>\n<tr>\n<td>4\n</td>\n<td><a href=\"/wiki/UnitedHealth_Group\" title=\"UnitedHealth Group\">UnitedHealth Group</a>\n</td>\n<td><a class=\"mw-redirect\" href=\"/wiki/Healthcare\" title=\"Healthcare\">Healthcare</a>\n</td>\n<td style=\"text-align:center;\">371,622\n</td>\n<td style=\"text-align:center;\"><span typeof=\"mw:File\"><span title=\"Increase\"><img alt=\"Increase\" class=\"mw-file-element\" data-file-height=\"300\" data-file-width=\"300\" decoding=\"async\" height=\"11\" src=\"//upload.wikimedia.org/wikipedia/commons/thumb/b/b0/Increase2.svg/11px-Increase2.svg.png\" srcset=\"//upload.wikimedia.org/wikipedia/commons/thumb/b/b0/Increase2.svg/17px-Increase2.svg.png 1.5x, //upload.wikimedia.org/wikipedia/commons/thumb/b/b0/Increase2.svg/22px-Increase2.svg.png 2x\" width=\"11\"/></span></span> <span data-sort-value=\"7000300000000000000♠\" style=\"display:none\"></span> 14.6%\n</td>\n<td style=\"text-align:center;\">440,000\n</td>\n<td><a href=\"/wiki/Minnetonka,_Minnesota\" title=\"Minnetonka, Minnesota\">Minnetonka, Minnesota</a>\n</td></tr>\n<tr>\n<td>5\n</td>\n<td><a href=\"/wiki/Berkshire_Hathaway\" title=\"Berkshire Hathaway\">Berkshire Hathaway</a>\n</td>\n<td><a href=\"/wiki/Conglomerate_(company)\" title=\"Conglomerate (company)\">Conglomerate</a>\n</td>\n<td style=\"text-align:center;\">364,482\n</td>\n<td style=\"text-align:center;\"><span typeof=\"mw:File\"><span title=\"Increase\"><img alt=\"Increase\" class=\"mw-file-element\" data-file-height=\"300\" data-file-width=\"300\" decoding=\"async\" height=\"11\" src=\"//upload.wikimedia.org/wikipedia/commons/thumb/b/b0/Increase2.svg/11px-Increase2.svg.png\" srcset=\"//upload.wikimedia.org/wikipedia/commons/thumb/b/b0/Increase2.svg/17px-Increase2.svg.png 1.5x, //upload.wikimedia.org/wikipedia/commons/thumb/b/b0/Increase2.svg/22px-Increase2.svg.png 2x\" width=\"11\"/></span></span> <span data-sort-value=\"7000300000000000000♠\" style=\"display:none\"></span> 20.7%\n</td>\n<td style=\"text-align:center;\">396,500\n</td>\n<td><a href=\"/wiki/Omaha,_Nebraska\" title=\"Omaha, Nebraska\">Omaha, Nebraska</a>\n</td></tr>\n<tr>\n<td>6\n</td>\n<td><a href=\"/wiki/CVS_Health\" title=\"CVS Health\">CVS Health</a>\n</td>\n<td>Healthcare\n</td>\n<td style=\"text-align:center;\">357,776\n</td>\n<td style=\"text-align:center;\"><span typeof=\"mw:File\"><span title=\"Increase\"><img alt=\"Increase\" class=\"mw-file-element\" data-file-height=\"300\" data-file-width=\"300\" decoding=\"async\" height=\"11\" src=\"//upload.wikimedia.org/wikipedia/commons/thumb/b/b0/Increase2.svg/11px-Increase2.svg.png\" srcset=\"//upload.wikimedia.org/wikipedia/commons/thumb/b/b0/Increase2.svg/17px-Increase2.svg.png 1.5x, //upload.wikimedia.org/wikipedia/commons/thumb/b/b0/Increase2.svg/22px-Increase2.svg.png 2x\" width=\"11\"/></span></span> <span data-sort-value=\"7000300000000000000♠\" style=\"display:none\"></span> 10.9%\n</td>\n<td style=\"text-align:center;\">259,500\n</td>\n<td><a href=\"/wiki/Woonsocket,_Rhode_Island\" title=\"Woonsocket, Rhode Island\">Woonsocket, Rhode Island</a>\n</td></tr>\n<tr>\n<td>7\n</td>\n<td><a href=\"/wiki/ExxonMobil\" title=\"ExxonMobil\">ExxonMobil</a>\n</td>\n<td><a href=\"/wiki/Petroleum_industry\" title=\"Petroleum industry\">Petroleum industry</a>\n</td>\n<td style=\"text-align:center;\">344,582\n</td>\n<td style=\"text-align:center;\"><span typeof=\"mw:File\"><span title=\"Decrease\"><img alt=\"Decrease\" class=\"mw-file-element\" data-file-height=\"300\" data-file-width=\"300\" decoding=\"async\" height=\"11\" src=\"//upload.wikimedia.org/wikipedia/commons/thumb/e/ed/Decrease2.svg/11px-Decrease2.svg.png\" srcset=\"//upload.wikimedia.org/wikipedia/commons/thumb/e/ed/Decrease2.svg/17px-Decrease2.svg.png 1.5x, //upload.wikimedia.org/wikipedia/commons/thumb/e/ed/Decrease2.svg/22px-Decrease2.svg.png 2x\" width=\"11\"/></span></span> <span data-sort-value=\"2999450000000000000♠\" style=\"display:none\"></span> -16.7%\n</td>\n<td style=\"text-align:center;\">61,500\n</td>\n<td><a href=\"/wiki/Spring,_Texas\" title=\"Spring, Texas\">Spring, Texas</a>\n</td></tr>\n<tr>\n<td>8\n</td>\n<td><a class=\"mw-redirect\" href=\"/wiki/Alphabet_Inc\" title=\"Alphabet Inc\">Alphabet</a>\n</td>\n<td><a href=\"/wiki/Technology\" title=\"Technology\">Technology</a> and cloud computing\n</td>\n<td style=\"text-align:center;\">307,394\n</td>\n<td style=\"text-align:center;\"><span typeof=\"mw:File\"><span title=\"Increase\"><img alt=\"Increase\" class=\"mw-file-element\" data-file-height=\"300\" data-file-width=\"300\" decoding=\"async\" height=\"11\" src=\"//upload.wikimedia.org/wikipedia/commons/thumb/b/b0/Increase2.svg/11px-Increase2.svg.png\" srcset=\"//upload.wikimedia.org/wikipedia/commons/thumb/b/b0/Increase2.svg/17px-Increase2.svg.png 1.5x, //upload.wikimedia.org/wikipedia/commons/thumb/b/b0/Increase2.svg/22px-Increase2.svg.png 2x\" width=\"11\"/></span></span> <span data-sort-value=\"7000300000000000000♠\" style=\"display:none\"></span> 8.7%\n</td>\n<td style=\"text-align:center;\">182,502\n</td>\n<td><a href=\"/wiki/Mountain_View,_California\" title=\"Mountain View, California\">Mountain View, California</a>\n</td></tr>\n<tr>\n<td>9\n</td>\n<td><a href=\"/wiki/McKesson_Corporation\" title=\"McKesson Corporation\">McKesson Corporation</a>\n</td>\n<td>Health\n</td>\n<td style=\"text-align:center;\">276,711\n</td>\n<td style=\"text-align:center;\"><span typeof=\"mw:File\"><span title=\"Increase\"><img alt=\"Increase\" class=\"mw-file-element\" data-file-height=\"300\" data-file-width=\"300\" decoding=\"async\" height=\"11\" src=\"//upload.wikimedia.org/wikipedia/commons/thumb/b/b0/Increase2.svg/11px-Increase2.svg.png\" srcset=\"//upload.wikimedia.org/wikipedia/commons/thumb/b/b0/Increase2.svg/17px-Increase2.svg.png 1.5x, //upload.wikimedia.org/wikipedia/commons/thumb/b/b0/Increase2.svg/22px-Increase2.svg.png 2x\" width=\"11\"/></span></span> <span data-sort-value=\"7000300000000000000♠\" style=\"display:none\"></span> 4.8%\n</td>\n<td style=\"text-align:center;\">48,000\n</td>\n<td><a href=\"/wiki/Irving,_Texas\" title=\"Irving, Texas\">Irving, Texas</a>\n</td></tr>\n<tr>\n<td>10\n</td>\n<td><a href=\"/wiki/Cencora\" title=\"Cencora\">Cencora</a>\n</td>\n<td><a href=\"/wiki/Pharmacy\" title=\"Pharmacy\">Pharmacy wholesale</a>\n</td>\n<td style=\"text-align:center;\">262,173\n</td>\n<td style=\"text-align:center;\"><span typeof=\"mw:File\"><span title=\"Increase\"><img alt=\"Increase\" class=\"mw-file-element\" data-file-height=\"300\" data-file-width=\"300\" decoding=\"async\" height=\"11\" src=\"//upload.wikimedia.org/wikipedia/commons/thumb/b/b0/Increase2.svg/11px-Increase2.svg.png\" srcset=\"//upload.wikimedia.org/wikipedia/commons/thumb/b/b0/Increase2.svg/17px-Increase2.svg.png 1.5x, //upload.wikimedia.org/wikipedia/commons/thumb/b/b0/Increase2.svg/22px-Increase2.svg.png 2x\" width=\"11\"/></span></span> <span data-sort-value=\"7000300000000000000♠\" style=\"display:none\"></span> 9.9%\n</td>\n<td style=\"text-align:center;\">44,000\n</td>\n<td><a href=\"/wiki/Conshohocken,_Pennsylvania\" title=\"Conshohocken, Pennsylvania\">Conshohocken, Pennsylvania</a>\n</td></tr>\n<tr>\n<td>11\n</td>\n<td><a href=\"/wiki/Costco\" title=\"Costco\">Costco</a>\n</td>\n<td>Retail\n</td>\n<td style=\"text-align:center;\">242,290\n</td>\n<td style=\"text-align:center;\"><span typeof=\"mw:File\"><span title=\"Increase\"><img alt=\"Increase\" class=\"mw-file-element\" data-file-height=\"300\" data-file-width=\"300\" decoding=\"async\" height=\"11\" src=\"//upload.wikimedia.org/wikipedia/commons/thumb/b/b0/Increase2.svg/11px-Increase2.svg.png\" srcset=\"//upload.wikimedia.org/wikipedia/commons/thumb/b/b0/Increase2.svg/17px-Increase2.svg.png 1.5x, //upload.wikimedia.org/wikipedia/commons/thumb/b/b0/Increase2.svg/22px-Increase2.svg.png 2x\" width=\"11\"/></span></span> <span data-sort-value=\"7000300000000000000♠\" style=\"display:none\"></span> 6.8%\n</td>\n<td style=\"text-align:center;\">316,000\n</td>\n<td><a href=\"/wiki/Issaquah,_Washington\" title=\"Issaquah, Washington\">Issaquah, Washington</a>\n</td></tr>\n<tr>\n<td>12\n</td>\n<td><a href=\"/wiki/JPMorgan_Chase\" title=\"JPMorgan Chase\">JPMorgan Chase</a>\n</td>\n<td><a href=\"/wiki/Financial_services\" title=\"Financial services\">Financial services</a>\n</td>\n<td style=\"text-align:center;\">239,425\n</td>\n<td style=\"text-align:center;\"><span typeof=\"mw:File\"><span title=\"Increase\"><img alt=\"Increase\" class=\"mw-file-element\" data-file-height=\"300\" data-file-width=\"300\" decoding=\"async\" height=\"11\" src=\"//upload.wikimedia.org/wikipedia/commons/thumb/b/b0/Increase2.svg/11px-Increase2.svg.png\" srcset=\"//upload.wikimedia.org/wikipedia/commons/thumb/b/b0/Increase2.svg/17px-Increase2.svg.png 1.5x, //upload.wikimedia.org/wikipedia/commons/thumb/b/b0/Increase2.svg/22px-Increase2.svg.png 2x\" width=\"11\"/></span></span> <span data-sort-value=\"7000300000000000000♠\" style=\"display:none\"></span> 54.7%\n</td>\n<td style=\"text-align:center;\">309,926\n</td>\n<td><a href=\"/wiki/New_York_City\" title=\"New York City\">New York City, New York</a>\n</td></tr>\n<tr>\n<td>13\n</td>\n<td><a href=\"/wiki/Microsoft\" title=\"Microsoft\">Microsoft</a>\n</td>\n<td>Technology and cloud computing\n</td>\n<td style=\"text-align:center;\">211,915\n</td>\n<td style=\"text-align:center;\"><span typeof=\"mw:File\"><span title=\"Increase\"><img alt=\"Increase\" class=\"mw-file-element\" data-file-height=\"300\" data-file-width=\"300\" decoding=\"async\" height=\"11\" src=\"//upload.wikimedia.org/wikipedia/commons/thumb/b/b0/Increase2.svg/11px-Increase2.svg.png\" srcset=\"//upload.wikimedia.org/wikipedia/commons/thumb/b/b0/Increase2.svg/17px-Increase2.svg.png 1.5x, //upload.wikimedia.org/wikipedia/commons/thumb/b/b0/Increase2.svg/22px-Increase2.svg.png 2x\" width=\"11\"/></span></span> <span data-sort-value=\"7000300000000000000♠\" style=\"display:none\"></span> 6.9%\n</td>\n<td style=\"text-align:center;\">221,000\n</td>\n<td><a href=\"/wiki/Redmond,_Washington\" title=\"Redmond, Washington\">Redmond, Washington</a>\n</td></tr>\n<tr>\n<td>14\n</td>\n<td><a href=\"/wiki/Cardinal_Health\" title=\"Cardinal Health\">Cardinal Health</a>\n</td>\n<td>Healthcare\n</td>\n<td style=\"text-align:center;\">205,012\n</td>\n<td style=\"text-align:center;\"><span typeof=\"mw:File\"><span title=\"Increase\"><img alt=\"Increase\" class=\"mw-file-element\" data-file-height=\"300\" data-file-width=\"300\" decoding=\"async\" height=\"11\" src=\"//upload.wikimedia.org/wikipedia/commons/thumb/b/b0/Increase2.svg/11px-Increase2.svg.png\" srcset=\"//upload.wikimedia.org/wikipedia/commons/thumb/b/b0/Increase2.svg/17px-Increase2.svg.png 1.5x, //upload.wikimedia.org/wikipedia/commons/thumb/b/b0/Increase2.svg/22px-Increase2.svg.png 2x\" width=\"11\"/></span></span> <span data-sort-value=\"7000300000000000000♠\" style=\"display:none\"></span> 13.0%\n</td>\n<td style=\"text-align:center;\">47,520\n</td>\n<td><a href=\"/wiki/Dublin,_Ohio\" title=\"Dublin, Ohio\">Dublin, Ohio</a>\n</td></tr>\n<tr>\n<td>15\n</td>\n<td><a href=\"/wiki/Chevron_Corporation\" title=\"Chevron Corporation\">Chevron Corporation</a>\n</td>\n<td>Petroleum industry\n</td>\n<td style=\"text-align:center;\">200,949\n</td>\n<td style=\"text-align:center;\"><span typeof=\"mw:File\"><span title=\"Decrease\"><img alt=\"Decrease\" class=\"mw-file-element\" data-file-height=\"300\" data-file-width=\"300\" decoding=\"async\" height=\"11\" src=\"//upload.wikimedia.org/wikipedia/commons/thumb/e/ed/Decrease2.svg/11px-Decrease2.svg.png\" srcset=\"//upload.wikimedia.org/wikipedia/commons/thumb/e/ed/Decrease2.svg/17px-Decrease2.svg.png 1.5x, //upload.wikimedia.org/wikipedia/commons/thumb/e/ed/Decrease2.svg/22px-Decrease2.svg.png 2x\" width=\"11\"/></span></span> <span data-sort-value=\"2999450000000000000♠\" style=\"display:none\"></span> -18.4%\n</td>\n<td style=\"text-align:center;\">45,600\n</td>\n<td><a class=\"mw-redirect\" href=\"/wiki/Houston,_Texas\" title=\"Houston, Texas\">Houston, Texas</a>\n</td></tr>\n<tr>\n<td>16\n</td>\n<td><a href=\"/wiki/Cigna\" title=\"Cigna\">Cigna</a>\n</td>\n<td>Health insurance\n</td>\n<td style=\"text-align:center;\">195,265\n</td>\n<td style=\"text-align:center;\"><span typeof=\"mw:File\"><span title=\"Increase\"><img alt=\"Increase\" class=\"mw-file-element\" data-file-height=\"300\" data-file-width=\"300\" decoding=\"async\" height=\"11\" src=\"//upload.wikimedia.org/wikipedia/commons/thumb/b/b0/Increase2.svg/11px-Increase2.svg.png\" srcset=\"//upload.wikimedia.org/wikipedia/commons/thumb/b/b0/Increase2.svg/17px-Increase2.svg.png 1.5x, //upload.wikimedia.org/wikipedia/commons/thumb/b/b0/Increase2.svg/22px-Increase2.svg.png 2x\" width=\"11\"/></span></span> <span data-sort-value=\"7000300000000000000♠\" style=\"display:none\"></span> 8.2%\n</td>\n<td style=\"text-align:center;\">71,413\n</td>\n<td><a href=\"/wiki/Bloomfield,_Connecticut\" title=\"Bloomfield, Connecticut\">Bloomfield, Connecticut</a>\n</td></tr>\n<tr>\n<td>17\n</td>\n<td><a href=\"/wiki/Ford_Motor_Company\" title=\"Ford Motor Company\">Ford Motor Company</a>\n</td>\n<td><a href=\"/wiki/Automotive_industry\" title=\"Automotive industry\">Automotive industry</a>\n</td>\n<td style=\"text-align:center;\">176,191\n</td>\n<td style=\"text-align:center;\"><span typeof=\"mw:File\"><span title=\"Increase\"><img alt=\"Increase\" class=\"mw-file-element\" data-file-height=\"300\" data-file-width=\"300\" decoding=\"async\" height=\"11\" src=\"//upload.wikimedia.org/wikipedia/commons/thumb/b/b0/Increase2.svg/11px-Increase2.svg.png\" srcset=\"//upload.wikimedia.org/wikipedia/commons/thumb/b/b0/Increase2.svg/17px-Increase2.svg.png 1.5x, //upload.wikimedia.org/wikipedia/commons/thumb/b/b0/Increase2.svg/22px-Increase2.svg.png 2x\" width=\"11\"/></span></span> <span data-sort-value=\"7000300000000000000♠\" style=\"display:none\"></span> 11.5%\n</td>\n<td style=\"text-align:center;\">177,000\n</td>\n<td><a href=\"/wiki/Dearborn,_Michigan\" title=\"Dearborn, Michigan\">Dearborn, Michigan</a>\n</td></tr>\n<tr>\n<td>18\n</td>\n<td><a href=\"/wiki/Bank_of_America\" title=\"Bank of America\">Bank of America</a>\n</td>\n<td>Financials\n</td>\n<td style=\"text-align:center;\">171,912\n</td>\n<td style=\"text-align:center;\"><span typeof=\"mw:File\"><span title=\"Increase\"><img alt=\"Increase\" class=\"mw-file-element\" data-file-height=\"300\" data-file-width=\"300\" decoding=\"async\" height=\"11\" src=\"//upload.wikimedia.org/wikipedia/commons/thumb/b/b0/Increase2.svg/11px-Increase2.svg.png\" srcset=\"//upload.wikimedia.org/wikipedia/commons/thumb/b/b0/Increase2.svg/17px-Increase2.svg.png 1.5x, //upload.wikimedia.org/wikipedia/commons/thumb/b/b0/Increase2.svg/22px-Increase2.svg.png 2x\" width=\"11\"/></span></span><span data-sort-value=\"7000300000000000000♠\" style=\"display:none\"></span> 49.4%\n</td>\n<td style=\"text-align:center;\">212,985\n</td>\n<td><a href=\"/wiki/Charlotte,_North_Carolina\" title=\"Charlotte, North Carolina\">Charlotte, North Carolina</a>\n</td></tr>\n<tr>\n<td>19\n</td>\n<td><a href=\"/wiki/General_Motors\" title=\"General Motors\">General Motors</a>\n</td>\n<td>Automotive industry\n</td>\n<td style=\"text-align:center;\">171,842\n</td>\n<td style=\"text-align:center;\"><span typeof=\"mw:File\"><span title=\"Increase\"><img alt=\"Increase\" class=\"mw-file-element\" data-file-height=\"300\" data-file-width=\"300\" decoding=\"async\" height=\"11\" src=\"//upload.wikimedia.org/wikipedia/commons/thumb/b/b0/Increase2.svg/11px-Increase2.svg.png\" srcset=\"//upload.wikimedia.org/wikipedia/commons/thumb/b/b0/Increase2.svg/17px-Increase2.svg.png 1.5x, //upload.wikimedia.org/wikipedia/commons/thumb/b/b0/Increase2.svg/22px-Increase2.svg.png 2x\" width=\"11\"/></span></span> <span data-sort-value=\"7000300000000000000♠\" style=\"display:none\"></span> 9.6%\n</td>\n<td style=\"text-align:center;\">163,000\n</td>\n<td><a href=\"/wiki/Detroit\" title=\"Detroit\">Detroit, Michigan</a>\n</td></tr>\n<tr>\n<td>20\n</td>\n<td><a class=\"mw-redirect\" href=\"/wiki/Anthem_(company)\" title=\"Anthem (company)\">Elevance Health</a>\n</td>\n<td>Healthcare\n</td>\n<td style=\"text-align:center;\">171,340\n</td>\n<td style=\"text-align:center;\"><span typeof=\"mw:File\"><span title=\"Increase\"><img alt=\"Increase\" class=\"mw-file-element\" data-file-height=\"300\" data-file-width=\"300\" decoding=\"async\" height=\"11\" src=\"//upload.wikimedia.org/wikipedia/commons/thumb/b/b0/Increase2.svg/11px-Increase2.svg.png\" srcset=\"//upload.wikimedia.org/wikipedia/commons/thumb/b/b0/Increase2.svg/17px-Increase2.svg.png 1.5x, //upload.wikimedia.org/wikipedia/commons/thumb/b/b0/Increase2.svg/22px-Increase2.svg.png 2x\" width=\"11\"/></span></span> <span data-sort-value=\"7000300000000000000♠\" style=\"display:none\"></span> 9.4%\n</td>\n<td style=\"text-align:center;\">104,900\n</td>\n<td><a href=\"/wiki/Indianapolis\" title=\"Indianapolis\">Indianapolis, Indiana</a>\n</td></tr>\n<tr>\n<td>21\n</td>\n<td><a href=\"/wiki/Citigroup\" title=\"Citigroup\">Citigroup</a>\n</td>\n<td>Financials\n</td>\n<td style=\"text-align:center;\">156,820\n</td>\n<td style=\"text-align:center;\"><span typeof=\"mw:File\"><span title=\"Increase\"><img alt=\"Increase\" class=\"mw-file-element\" data-file-height=\"300\" data-file-width=\"300\" decoding=\"async\" height=\"11\" src=\"//upload.wikimedia.org/wikipedia/commons/thumb/b/b0/Increase2.svg/11px-Increase2.svg.png\" srcset=\"//upload.wikimedia.org/wikipedia/commons/thumb/b/b0/Increase2.svg/17px-Increase2.svg.png 1.5x, //upload.wikimedia.org/wikipedia/commons/thumb/b/b0/Increase2.svg/22px-Increase2.svg.png 2x\" width=\"11\"/></span></span> <span data-sort-value=\"7000300000000000000♠\" style=\"display:none\"></span> 55.1%\n</td>\n<td style=\"text-align:center;\">237,925\n</td>\n<td><a href=\"/wiki/New_York_City\" title=\"New York City\">New York City, New York</a>\n</td></tr>\n<tr>\n<td>22\n</td>\n<td><a class=\"mw-redirect\" href=\"/wiki/Centene\" title=\"Centene\">Centene</a>\n</td>\n<td>Healthcare\n</td>\n<td style=\"text-align:center;\">153,999\n</td>\n<td style=\"text-align:center;\"><span typeof=\"mw:File\"><span title=\"Increase\"><img alt=\"Increase\" class=\"mw-file-element\" data-file-height=\"300\" data-file-width=\"300\" decoding=\"async\" height=\"11\" src=\"//upload.wikimedia.org/wikipedia/commons/thumb/b/b0/Increase2.svg/11px-Increase2.svg.png\" srcset=\"//upload.wikimedia.org/wikipedia/commons/thumb/b/b0/Increase2.svg/17px-Increase2.svg.png 1.5x, //upload.wikimedia.org/wikipedia/commons/thumb/b/b0/Increase2.svg/22px-Increase2.svg.png 2x\" width=\"11\"/></span></span> <span data-sort-value=\"7000300000000000000♠\" style=\"display:none\"></span> 6.5%\n</td>\n<td style=\"text-align:center;\">67,700\n</td>\n<td><a href=\"/wiki/St._Louis\" title=\"St. Louis\">St. Louis, Missouri</a>\n</td></tr>\n<tr>\n<td>23\n</td>\n<td><a class=\"mw-redirect\" href=\"/wiki/The_Home_Depot\" title=\"The Home Depot\">The Home Depot</a>\n</td>\n<td>Retail\n</td>\n<td style=\"text-align:center;\">152,669\n</td>\n<td style=\"text-align:center;\"><span typeof=\"mw:File\"><span title=\"Decrease\"><img alt=\"Decrease\" class=\"mw-file-element\" data-file-height=\"300\" data-file-width=\"300\" decoding=\"async\" height=\"11\" src=\"//upload.wikimedia.org/wikipedia/commons/thumb/e/ed/Decrease2.svg/11px-Decrease2.svg.png\" srcset=\"//upload.wikimedia.org/wikipedia/commons/thumb/e/ed/Decrease2.svg/17px-Decrease2.svg.png 1.5x, //upload.wikimedia.org/wikipedia/commons/thumb/e/ed/Decrease2.svg/22px-Decrease2.svg.png 2x\" width=\"11\"/></span></span> <span data-sort-value=\"2999450000000000000♠\" style=\"display:none\"></span> -3.0%\n</td>\n<td style=\"text-align:center;\">463,100\n</td>\n<td><a href=\"/wiki/Atlanta\" title=\"Atlanta\">Atlanta, Georgia</a>\n</td></tr>\n<tr>\n<td>24\n</td>\n<td><a href=\"/wiki/Marathon_Petroleum\" title=\"Marathon Petroleum\">Marathon Petroleum</a>\n</td>\n<td>Petroleum industry\n</td>\n<td style=\"text-align:center;\">150,307\n</td>\n<td style=\"text-align:center;\"><span typeof=\"mw:File\"><span title=\"Decrease\"><img alt=\"Decrease\" class=\"mw-file-element\" data-file-height=\"300\" data-file-width=\"300\" decoding=\"async\" height=\"11\" src=\"//upload.wikimedia.org/wikipedia/commons/thumb/e/ed/Decrease2.svg/11px-Decrease2.svg.png\" srcset=\"//upload.wikimedia.org/wikipedia/commons/thumb/e/ed/Decrease2.svg/17px-Decrease2.svg.png 1.5x, //upload.wikimedia.org/wikipedia/commons/thumb/e/ed/Decrease2.svg/22px-Decrease2.svg.png 2x\" width=\"11\"/></span></span> <span data-sort-value=\"2999450000000000000♠\" style=\"display:none\"></span> -16.5%\n</td>\n<td style=\"text-align:center;\">18,200\n</td>\n<td><a href=\"/wiki/Findlay,_Ohio\" title=\"Findlay, Ohio\">Findlay, Ohio</a>\n</td></tr>\n<tr>\n<td>25\n</td>\n<td><a href=\"/wiki/Kroger\" title=\"Kroger\">Kroger</a>\n</td>\n<td>Retail\n</td>\n<td style=\"text-align:center;\">150,039\n</td>\n<td style=\"text-align:center;\"><span typeof=\"mw:File\"><span title=\"Decrease\"><img alt=\"Decrease\" class=\"mw-file-element\" data-file-height=\"300\" data-file-width=\"300\" decoding=\"async\" height=\"11\" src=\"//upload.wikimedia.org/wikipedia/commons/thumb/e/ed/Decrease2.svg/11px-Decrease2.svg.png\" srcset=\"//upload.wikimedia.org/wikipedia/commons/thumb/e/ed/Decrease2.svg/17px-Decrease2.svg.png 1.5x, //upload.wikimedia.org/wikipedia/commons/thumb/e/ed/Decrease2.svg/22px-Decrease2.svg.png 2x\" width=\"11\"/></span></span> <span data-sort-value=\"2999450000000000000♠\" style=\"display:none\"></span> -3.6%\n</td>\n<td style=\"text-align:center;\">414,000\n</td>\n<td><a href=\"/wiki/Cincinnati\" title=\"Cincinnati\">Cincinnati, Ohio</a>\n</td></tr>\n<tr>\n<td>26\n</td>\n<td><a href=\"/wiki/Phillips_66\" title=\"Phillips 66\">Phillips 66</a>\n</td>\n<td>Petroleum industry\n</td>\n<td style=\"text-align:center;\">149,890\n</td>\n<td style=\"text-align:center;\"><span typeof=\"mw:File\"><span title=\"Decrease\"><img alt=\"Decrease\" class=\"mw-file-element\" data-file-height=\"300\" data-file-width=\"300\" decoding=\"async\" height=\"11\" src=\"//upload.wikimedia.org/wikipedia/commons/thumb/e/ed/Decrease2.svg/11px-Decrease2.svg.png\" srcset=\"//upload.wikimedia.org/wikipedia/commons/thumb/e/ed/Decrease2.svg/17px-Decrease2.svg.png 1.5x, //upload.wikimedia.org/wikipedia/commons/thumb/e/ed/Decrease2.svg/22px-Decrease2.svg.png 2x\" width=\"11\"/></span></span> <span data-sort-value=\"2999450000000000000♠\" style=\"display:none\"></span> -14.7%\n</td>\n<td style=\"text-align:center;\">14,000\n</td>\n<td><a href=\"/wiki/Houston\" title=\"Houston\">Houston, Texas</a>\n</td></tr>\n<tr>\n<td>27\n</td>\n<td><a href=\"/wiki/Fannie_Mae\" title=\"Fannie Mae\">Fannie Mae</a>\n</td>\n<td>Financials\n</td>\n<td style=\"text-align:center;\">141,240\n</td>\n<td style=\"text-align:center;\"><span typeof=\"mw:File\"><span title=\"Increase\"><img alt=\"Increase\" class=\"mw-file-element\" data-file-height=\"300\" data-file-width=\"300\" decoding=\"async\" height=\"11\" src=\"//upload.wikimedia.org/wikipedia/commons/thumb/b/b0/Increase2.svg/11px-Increase2.svg.png\" srcset=\"//upload.wikimedia.org/wikipedia/commons/\n\n*** WARNING: max output size exceeded, skipping output. ***\n\n<td style=\"text-align:center;\">56,998\n</td>\n<td style=\"text-align:center;\"><span typeof=\"mw:File\"><span title=\"Increase\"><img alt=\"Increase\" class=\"mw-file-element\" data-file-height=\"300\" data-file-width=\"300\" decoding=\"async\" height=\"11\" src=\"//upload.wikimedia.org/wikipedia/commons/thumb/b/b0/Increase2.svg/11px-Increase2.svg.png\" srcset=\"//upload.wikimedia.org/wikipedia/commons/thumb/b/b0/Increase2.svg/17px-Increase2.svg.png 1.5x, //upload.wikimedia.org/wikipedia/commons/thumb/b/b0/Increase2.svg/22px-Increase2.svg.png 2x\" width=\"11\"/></span></span> <span data-sort-value=\"7000300000000000000♠\" style=\"display:none\"></span> 10.6%\n</td>\n<td style=\"text-align:center;\">84,900\n</td>\n<td><a href=\"/wiki/San_Jose,_California\" title=\"San Jose, California\">San Jose, California</a>\n</td></tr>\n<tr>\n<td>75\n</td>\n<td><a href=\"/wiki/Nationwide_Mutual_Insurance_Company\" title=\"Nationwide Mutual Insurance Company\">Nationwide Mutual Insurance Company</a>\n</td>\n<td>Financial\n</td>\n<td style=\"text-align:center;\">54,609\n</td>\n<td style=\"text-align:center;\"><span typeof=\"mw:File\"><span title=\"Increase\"><img alt=\"Increase\" class=\"mw-file-element\" data-file-height=\"300\" data-file-width=\"300\" decoding=\"async\" height=\"11\" src=\"//upload.wikimedia.org/wikipedia/commons/thumb/b/b0/Increase2.svg/11px-Increase2.svg.png\" srcset=\"//upload.wikimedia.org/wikipedia/commons/thumb/b/b0/Increase2.svg/17px-Increase2.svg.png 1.5x, //upload.wikimedia.org/wikipedia/commons/thumb/b/b0/Increase2.svg/22px-Increase2.svg.png 2x\" width=\"11\"/></span></span> <span data-sort-value=\"7000300000000000000♠\" style=\"display:none\"></span> 6.1%\n</td>\n<td style=\"text-align:center;\">24,118\n</td>\n<td><a href=\"/wiki/Columbus,_Ohio\" title=\"Columbus, Ohio\">Columbus, Ohio</a>\n</td></tr>\n<tr>\n<td>76\n</td>\n<td><a href=\"/wiki/Charter_Communications\" title=\"Charter Communications\">Charter Communications</a>\n</td>\n<td>Telecommunications\n</td>\n<td style=\"text-align:center;\">54,607\n</td>\n<td style=\"text-align:center;\"><span typeof=\"mw:File\"><span title=\"Increase\"><img alt=\"Increase\" class=\"mw-file-element\" data-file-height=\"300\" data-file-width=\"300\" decoding=\"async\" height=\"11\" src=\"//upload.wikimedia.org/wikipedia/commons/thumb/b/b0/Increase2.svg/11px-Increase2.svg.png\" srcset=\"//upload.wikimedia.org/wikipedia/commons/thumb/b/b0/Increase2.svg/17px-Increase2.svg.png 1.5x, //upload.wikimedia.org/wikipedia/commons/thumb/b/b0/Increase2.svg/22px-Increase2.svg.png 2x\" width=\"11\"/></span></span> <span data-sort-value=\"7000300000000000000♠\" style=\"display:none\"></span> 1.1%\n</td>\n<td style=\"text-align:center;\">101,100\n</td>\n<td><a href=\"/wiki/Stamford,_Connecticut\" title=\"Stamford, Connecticut\">Stamford, Connecticut</a>\n</td></tr>\n<tr>\n<td>77\n</td>\n<td><a href=\"/wiki/AbbVie\" title=\"AbbVie\">AbbVie</a>\n</td>\n<td>Pharmaceutical industry\n</td>\n<td style=\"text-align:center;\">54,317\n</td>\n<td style=\"text-align:center;\"><span typeof=\"mw:File\"><span title=\"Decrease\"><img alt=\"Decrease\" class=\"mw-file-element\" data-file-height=\"300\" data-file-width=\"300\" decoding=\"async\" height=\"11\" src=\"//upload.wikimedia.org/wikipedia/commons/thumb/e/ed/Decrease2.svg/11px-Decrease2.svg.png\" srcset=\"//upload.wikimedia.org/wikipedia/commons/thumb/e/ed/Decrease2.svg/17px-Decrease2.svg.png 1.5x, //upload.wikimedia.org/wikipedia/commons/thumb/e/ed/Decrease2.svg/22px-Decrease2.svg.png 2x\" width=\"11\"/></span></span> <span data-sort-value=\"2999450000000000000♠\" style=\"display:none\"></span> -6.4%\n</td>\n<td style=\"text-align:center;\">50,000\n</td>\n<td><a href=\"/wiki/Lake_Bluff,_Illinois\" title=\"Lake Bluff, Illinois\">Lake Bluff, Illinois</a>\n</td></tr>\n<tr>\n<td>78\n</td>\n<td><a href=\"/wiki/New_York_Life_Insurance_Company\" title=\"New York Life Insurance Company\">New York Life Insurance Company</a>\n</td>\n<td>Insurance\n</td>\n<td style=\"text-align:center;\">54,317\n</td>\n<td style=\"text-align:center;\"><span typeof=\"mw:File\"><span title=\"Increase\"><img alt=\"Increase\" class=\"mw-file-element\" data-file-height=\"300\" data-file-width=\"300\" decoding=\"async\" height=\"11\" src=\"//upload.wikimedia.org/wikipedia/commons/thumb/b/b0/Increase2.svg/11px-Increase2.svg.png\" srcset=\"//upload.wikimedia.org/wikipedia/commons/thumb/b/b0/Increase2.svg/17px-Increase2.svg.png 1.5x, //upload.wikimedia.org/wikipedia/commons/thumb/b/b0/Increase2.svg/22px-Increase2.svg.png 2x\" width=\"11\"/></span></span> <span data-sort-value=\"7000300000000000000♠\" style=\"display:none\"></span> 14.2%\n</td>\n<td style=\"text-align:center;\">15,384\n</td>\n<td><a href=\"/wiki/New_York_City\" title=\"New York City\">New York City, New York</a>\n</td></tr>\n<tr>\n<td>79\n</td>\n<td><a href=\"/wiki/Intel\" title=\"Intel\">Intel</a>\n</td>\n<td>Technology\n</td>\n<td style=\"text-align:center;\">54,228\n</td>\n<td style=\"text-align:center;\"><span typeof=\"mw:File\"><span title=\"Decrease\"><img alt=\"Decrease\" class=\"mw-file-element\" data-file-height=\"300\" data-file-width=\"300\" decoding=\"async\" height=\"11\" src=\"//upload.wikimedia.org/wikipedia/commons/thumb/e/ed/Decrease2.svg/11px-Decrease2.svg.png\" srcset=\"//upload.wikimedia.org/wikipedia/commons/thumb/e/ed/Decrease2.svg/17px-Decrease2.svg.png 1.5x, //upload.wikimedia.org/wikipedia/commons/thumb/e/ed/Decrease2.svg/22px-Decrease2.svg.png 2x\" width=\"11\"/></span></span> <span data-sort-value=\"2999450000000000000♠\" style=\"display:none\"></span> -14.0%\n</td>\n<td style=\"text-align:center;\">124,800\n</td>\n<td><a href=\"/wiki/Santa_Clara,_California\" title=\"Santa Clara, California\">Santa Clara, California</a>\n</td></tr>\n<tr>\n<td>80\n</td>\n<td><a class=\"mw-redirect\" href=\"/wiki/TJX\" title=\"TJX\">TJX</a>\n</td>\n<td>Retail\n</td>\n<td style=\"text-align:center;\">49,936\n</td>\n<td style=\"text-align:center;\"><span typeof=\"mw:File\"><span title=\"Increase\"><img alt=\"Increase\" class=\"mw-file-element\" data-file-height=\"300\" data-file-width=\"300\" decoding=\"async\" height=\"11\" src=\"//upload.wikimedia.org/wikipedia/commons/thumb/b/b0/Increase2.svg/11px-Increase2.svg.png\" srcset=\"//upload.wikimedia.org/wikipedia/commons/thumb/b/b0/Increase2.svg/17px-Increase2.svg.png 1.5x, //upload.wikimedia.org/wikipedia/commons/thumb/b/b0/Increase2.svg/22px-Increase2.svg.png 2x\" width=\"11\"/></span></span> <span data-sort-value=\"7000300000000000000♠\" style=\"display:none\"></span> 2.9%\n</td>\n<td style=\"text-align:center;\">329,000\n</td>\n<td><a href=\"/wiki/Framingham,_Massachusetts\" title=\"Framingham, Massachusetts\">Framingham, Massachusetts</a>\n</td></tr>\n<tr>\n<td>81\n</td>\n<td><a href=\"/wiki/Prudential_Financial\" title=\"Prudential Financial\">Prudential Financial</a>\n</td>\n<td>Financials\n</td>\n<td style=\"text-align:center;\">53,979\n</td>\n<td style=\"text-align:center;\"><span typeof=\"mw:File\"><span title=\"Decrease\"><img alt=\"Decrease\" class=\"mw-file-element\" data-file-height=\"300\" data-file-width=\"300\" decoding=\"async\" height=\"11\" src=\"//upload.wikimedia.org/wikipedia/commons/thumb/e/ed/Decrease2.svg/11px-Decrease2.svg.png\" srcset=\"//upload.wikimedia.org/wikipedia/commons/thumb/e/ed/Decrease2.svg/17px-Decrease2.svg.png 1.5x, //upload.wikimedia.org/wikipedia/commons/thumb/e/ed/Decrease2.svg/22px-Decrease2.svg.png 2x\" width=\"11\"/></span></span> <span data-sort-value=\"2999450000000000000♠\" style=\"display:none\"></span> -10.1%\n</td>\n<td style=\"text-align:center;\">40,366\n</td>\n<td><a href=\"/wiki/Newark,_New_Jersey\" title=\"Newark, New Jersey\">Newark, New Jersey</a>\n</td></tr>\n<tr>\n<td>82\n</td>\n<td><a class=\"mw-redirect\" href=\"/wiki/HP_Inc\" title=\"HP Inc\">HP</a>\n</td>\n<td>Technology\n</td>\n<td style=\"text-align:center;\">53,718\n</td>\n<td style=\"text-align:center;\"><span typeof=\"mw:File\"><span title=\"Decrease\"><img alt=\"Decrease\" class=\"mw-file-element\" data-file-height=\"300\" data-file-width=\"300\" decoding=\"async\" height=\"11\" src=\"//upload.wikimedia.org/wikipedia/commons/thumb/e/ed/Decrease2.svg/11px-Decrease2.svg.png\" srcset=\"//upload.wikimedia.org/wikipedia/commons/thumb/e/ed/Decrease2.svg/17px-Decrease2.svg.png 1.5x, //upload.wikimedia.org/wikipedia/commons/thumb/e/ed/Decrease2.svg/22px-Decrease2.svg.png 2x\" width=\"11\"/></span></span> <span data-sort-value=\"2999450000000000000♠\" style=\"display:none\"></span> -14.5%\n</td>\n<td style=\"text-align:center;\">58,000\n</td>\n<td><a href=\"/wiki/Palo_Alto,_California\" title=\"Palo Alto, California\">Palo Alto, California</a>\n</td></tr>\n<tr>\n<td>83\n</td>\n<td><a href=\"/wiki/United_Airlines\" title=\"United Airlines\">United Airlines</a>\n</td>\n<td>Airline\n</td>\n<td style=\"text-align:center;\">53,717\n</td>\n<td style=\"text-align:center;\"><span typeof=\"mw:File\"><span title=\"Increase\"><img alt=\"Increase\" class=\"mw-file-element\" data-file-height=\"300\" data-file-width=\"300\" decoding=\"async\" height=\"11\" src=\"//upload.wikimedia.org/wikipedia/commons/thumb/b/b0/Increase2.svg/11px-Increase2.svg.png\" srcset=\"//upload.wikimedia.org/wikipedia/commons/thumb/b/b0/Increase2.svg/17px-Increase2.svg.png 1.5x, //upload.wikimedia.org/wikipedia/commons/thumb/b/b0/Increase2.svg/22px-Increase2.svg.png 2x\" width=\"11\"/></span></span> <span data-sort-value=\"7000300000000000000♠\" style=\"display:none\"></span> 19.5%\n</td>\n<td style=\"text-align:center;\">103,300\n</td>\n<td><a class=\"mw-redirect\" href=\"/wiki/Chicago_Illinois\" title=\"Chicago Illinois\">Chicago, Illinois</a>\n</td></tr>\n<tr>\n<td>84\n</td>\n<td><a href=\"/wiki/Performance_Food_Group\" title=\"Performance Food Group\">Performance Food Group</a>\n</td>\n<td>Food processing\n</td>\n<td style=\"text-align:center;\">53,355\n</td>\n<td style=\"text-align:center;\"><span typeof=\"mw:File\"><span title=\"Increase\"><img alt=\"Increase\" class=\"mw-file-element\" data-file-height=\"300\" data-file-width=\"300\" decoding=\"async\" height=\"11\" src=\"//upload.wikimedia.org/wikipedia/commons/thumb/b/b0/Increase2.svg/11px-Increase2.svg.png\" srcset=\"//upload.wikimedia.org/wikipedia/commons/thumb/b/b0/Increase2.svg/17px-Increase2.svg.png 1.5x, //upload.wikimedia.org/wikipedia/commons/thumb/b/b0/Increase2.svg/22px-Increase2.svg.png 2x\" width=\"11\"/></span></span> <span data-sort-value=\"7000300000000000000♠\" style=\"display:none\"></span> 13.1%\n</td>\n<td style=\"text-align:center;\">34,825\n</td>\n<td><a href=\"/wiki/Richmond,_Virginia\" title=\"Richmond, Virginia\">Richmond, Virginia</a>\n</td></tr>\n<tr>\n<td>85\n</td>\n<td><a href=\"/wiki/Tyson_Foods\" title=\"Tyson Foods\">Tyson Foods</a>\n</td>\n<td>Food processing\n</td>\n<td style=\"text-align:center;\">52,788\n</td>\n<td style=\"text-align:center;\"><span typeof=\"mw:File\"><span title=\"Decrease\"><img alt=\"Decrease\" class=\"mw-file-element\" data-file-height=\"300\" data-file-width=\"300\" decoding=\"async\" height=\"11\" src=\"//upload.wikimedia.org/wikipedia/commons/thumb/e/ed/Decrease2.svg/11px-Decrease2.svg.png\" srcset=\"//upload.wikimedia.org/wikipedia/commons/thumb/e/ed/Decrease2.svg/17px-Decrease2.svg.png 1.5x, //upload.wikimedia.org/wikipedia/commons/thumb/e/ed/Decrease2.svg/22px-Decrease2.svg.png 2x\" width=\"11\"/></span></span> <span data-sort-value=\"2999450000000000000♠\" style=\"display:none\"></span> -0.8%\n</td>\n<td style=\"text-align:center;\">139,000\n</td>\n<td><a href=\"/wiki/Springdale,_Arkansas\" title=\"Springdale, Arkansas\">Springdale, Arkansas</a>\n</td></tr>\n<tr>\n<td>86\n</td>\n<td><a href=\"/wiki/American_Airlines\" title=\"American Airlines\">American Airlines</a>\n</td>\n<td>Airline\n</td>\n<td style=\"text-align:center;\">52,788\n</td>\n<td style=\"text-align:center;\"><span typeof=\"mw:File\"><span title=\"Increase\"><img alt=\"Increase\" class=\"mw-file-element\" data-file-height=\"300\" data-file-width=\"300\" decoding=\"async\" height=\"11\" src=\"//upload.wikimedia.org/wikipedia/commons/thumb/b/b0/Increase2.svg/11px-Increase2.svg.png\" srcset=\"//upload.wikimedia.org/wikipedia/commons/thumb/b/b0/Increase2.svg/17px-Increase2.svg.png 1.5x, //upload.wikimedia.org/wikipedia/commons/thumb/b/b0/Increase2.svg/22px-Increase2.svg.png 2x\" width=\"11\"/></span></span> <span data-sort-value=\"7000300000000000000♠\" style=\"display:none\"></span> 7.8%\n</td>\n<td style=\"text-align:center;\">132,100\n</td>\n<td><a href=\"/wiki/Fort_Worth,_Texas\" title=\"Fort Worth, Texas\">Fort Worth, Texas</a>\n</td></tr>\n<tr>\n<td>87\n</td>\n<td><a href=\"/wiki/Liberty_Mutual\" title=\"Liberty Mutual\">Liberty Mutual</a>\n</td>\n<td>Insurance\n</td>\n<td style=\"text-align:center;\">52,612\n</td>\n<td style=\"text-align:center;\"><span typeof=\"mw:File\"><span title=\"Increase\"><img alt=\"Increase\" class=\"mw-file-element\" data-file-height=\"300\" data-file-width=\"300\" decoding=\"async\" height=\"11\" src=\"//upload.wikimedia.org/wikipedia/commons/thumb/b/b0/Increase2.svg/11px-Increase2.svg.png\" srcset=\"//upload.wikimedia.org/wikipedia/commons/thumb/b/b0/Increase2.svg/17px-Increase2.svg.png 1.5x, //upload.wikimedia.org/wikipedia/commons/thumb/b/b0/Increase2.svg/22px-Increase2.svg.png 2x\" width=\"11\"/></span></span> <span data-sort-value=\"7000300000000000000♠\" style=\"display:none\"></span> 5.3%\n</td>\n<td style=\"text-align:center;\">45,000\n</td>\n<td><a href=\"/wiki/Boston\" title=\"Boston\">Boston, Massachusetts</a>\n</td></tr>\n<tr>\n<td>88\n</td>\n<td><a class=\"mw-redirect\" href=\"/wiki/Nike_Inc\" title=\"Nike Inc\">Nike</a>\n</td>\n<td>Apparel\n</td>\n<td style=\"text-align:center;\">51,217\n</td>\n<td style=\"text-align:center;\"><span typeof=\"mw:File\"><span title=\"Increase\"><img alt=\"Increase\" class=\"mw-file-element\" data-file-height=\"300\" data-file-width=\"300\" decoding=\"async\" height=\"11\" src=\"//upload.wikimedia.org/wikipedia/commons/thumb/b/b0/Increase2.svg/11px-Increase2.svg.png\" srcset=\"//upload.wikimedia.org/wikipedia/commons/thumb/b/b0/Increase2.svg/17px-Increase2.svg.png 1.5x, //upload.wikimedia.org/wikipedia/commons/thumb/b/b0/Increase2.svg/22px-Increase2.svg.png 2x\" width=\"11\"/></span></span> <span data-sort-value=\"7000300000000000000♠\" style=\"display:none\"></span> 9.6%\n</td>\n<td style=\"text-align:center;\">83,700\n</td>\n<td><a href=\"/wiki/Beaverton,_Oregon\" title=\"Beaverton, Oregon\">Beaverton, Oregon</a>\n</td></tr>\n<tr>\n<td>89\n</td>\n<td><a href=\"/wiki/Oracle_Corporation\" title=\"Oracle Corporation\">Oracle Corporation</a>\n</td>\n<td>Technology\n</td>\n<td style=\"text-align:center;\">49,954\n</td>\n<td style=\"text-align:center;\"><span typeof=\"mw:File\"><span title=\"Increase\"><img alt=\"Increase\" class=\"mw-file-element\" data-file-height=\"300\" data-file-width=\"300\" decoding=\"async\" height=\"11\" src=\"//upload.wikimedia.org/wikipedia/commons/thumb/b/b0/Increase2.svg/11px-Increase2.svg.png\" srcset=\"//upload.wikimedia.org/wikipedia/commons/thumb/b/b0/Increase2.svg/17px-Increase2.svg.png 1.5x, //upload.wikimedia.org/wikipedia/commons/thumb/b/b0/Increase2.svg/22px-Increase2.svg.png 2x\" width=\"11\"/></span></span> <span data-sort-value=\"7000500000000000000♠\" style=\"display:none\"></span> 17.7%\n</td>\n<td style=\"text-align:center;\">164,000\n</td>\n<td><a href=\"/wiki/Austin,_Texas\" title=\"Austin, Texas\">Austin, Texas</a>\n</td></tr>\n<tr>\n<td>90\n</td>\n<td><a href=\"/wiki/Enterprise_Products\" title=\"Enterprise Products\">Enterprise Products</a>\n</td>\n<td>Petroleum industry\n</td>\n<td style=\"text-align:center;\">49,715\n</td>\n<td style=\"text-align:center;\"><span typeof=\"mw:File\"><span title=\"Decrease\"><img alt=\"Decrease\" class=\"mw-file-element\" data-file-height=\"300\" data-file-width=\"300\" decoding=\"async\" height=\"11\" src=\"//upload.wikimedia.org/wikipedia/commons/thumb/e/ed/Decrease2.svg/11px-Decrease2.svg.png\" srcset=\"//upload.wikimedia.org/wikipedia/commons/thumb/e/ed/Decrease2.svg/17px-Decrease2.svg.png 1.5x, //upload.wikimedia.org/wikipedia/commons/thumb/e/ed/Decrease2.svg/22px-Decrease2.svg.png 2x\" width=\"11\"/></span></span> <span data-sort-value=\"2999450000000000000♠\" style=\"display:none\"></span> -14.6%\n</td>\n<td style=\"text-align:center;\">7,500\n</td>\n<td><a class=\"mw-redirect\" href=\"/wiki/Houston,_Texas\" title=\"Houston, Texas\">Houston, Texas</a>\n</td></tr>\n<tr>\n<td>91\n</td>\n<td><a class=\"mw-redirect\" href=\"/wiki/Capital_One_Financial\" title=\"Capital One Financial\">Capital One Financial</a>\n</td>\n<td>Financials\n</td>\n<td style=\"text-align:center;\">49,484\n</td>\n<td style=\"text-align:center;\"><span typeof=\"mw:File\"><span title=\"Increase\"><img alt=\"Increase\" class=\"mw-file-element\" data-file-height=\"300\" data-file-width=\"300\" decoding=\"async\" height=\"11\" src=\"//upload.wikimedia.org/wikipedia/commons/thumb/b/b0/Increase2.svg/11px-Increase2.svg.png\" srcset=\"//upload.wikimedia.org/wikipedia/commons/thumb/b/b0/Increase2.svg/17px-Increase2.svg.png 1.5x, //upload.wikimedia.org/wikipedia/commons/thumb/b/b0/Increase2.svg/22px-Increase2.svg.png 2x\" width=\"11\"/></span></span> <span data-sort-value=\"7000300000000000000♠\" style=\"display:none\"></span> 29.0%\n</td>\n<td style=\"text-align:center;\">51,987\n</td>\n<td><a href=\"/wiki/Richmond,_Virginia\" title=\"Richmond, Virginia\">Richmond, Virginia</a>\n</td></tr>\n<tr>\n<td>92\n</td>\n<td><a href=\"/wiki/Plains_All_American_Pipeline\" title=\"Plains All American Pipeline\">Plains All American Pipeline</a>\n</td>\n<td>Petroleum industry\n</td>\n<td style=\"text-align:center;\">48,712\n</td>\n<td style=\"text-align:center;\"><span typeof=\"mw:File\"><span title=\"Decrease\"><img alt=\"Decrease\" class=\"mw-file-element\" data-file-height=\"300\" data-file-width=\"300\" decoding=\"async\" height=\"11\" src=\"//upload.wikimedia.org/wikipedia/commons/thumb/e/ed/Decrease2.svg/11px-Decrease2.svg.png\" srcset=\"//upload.wikimedia.org/wikipedia/commons/thumb/e/ed/Decrease2.svg/17px-Decrease2.svg.png 1.5x, //upload.wikimedia.org/wikipedia/commons/thumb/e/ed/Decrease2.svg/22px-Decrease2.svg.png 2x\" width=\"11\"/></span></span> <span data-sort-value=\"2999450000000000000♠\" style=\"display:none\"></span> -15.1%\n</td>\n<td style=\"text-align:center;\">4,200\n</td>\n<td><a class=\"mw-redirect\" href=\"/wiki/Houston,_Texas\" title=\"Houston, Texas\">Houston, Texas</a>\n</td></tr>\n<tr>\n<td>93\n</td>\n<td><a href=\"/wiki/World_Kinect_Corporation\" title=\"World Kinect Corporation\">World Kinect Corporation</a>\n</td>\n<td>Energy trading\n</td>\n<td style=\"text-align:center;\">47,711\n</td>\n<td style=\"text-align:center;\"><span typeof=\"mw:File\"><span title=\"Decrease\"><img alt=\"Decrease\" class=\"mw-file-element\" data-file-height=\"300\" data-file-width=\"300\" decoding=\"async\" height=\"11\" src=\"//upload.wikimedia.org/wikipedia/commons/thumb/e/ed/Decrease2.svg/11px-Decrease2.svg.png\" srcset=\"//upload.wikimedia.org/wikipedia/commons/thumb/e/ed/Decrease2.svg/17px-Decrease2.svg.png 1.5x, //upload.wikimedia.org/wikipedia/commons/thumb/e/ed/Decrease2.svg/22px-Decrease2.svg.png 2x\" width=\"11\"/></span></span> <span data-sort-value=\"2999450000000000000♠\" style=\"display:none\"></span> -19.2%\n</td>\n<td style=\"text-align:center;\">5,289\n</td>\n<td><a href=\"/wiki/Doral,_Florida\" title=\"Doral, Florida\">Doral</a>, <a href=\"/wiki/Florida\" title=\"Florida\">Florida</a>\n</td></tr>\n<tr>\n<td>94\n</td>\n<td><a class=\"mw-redirect\" href=\"/wiki/AIG\" title=\"AIG\">AIG</a>\n</td>\n<td>Insurance\n</td>\n<td style=\"text-align:center;\">46,802\n</td>\n<td style=\"text-align:center;\"><span typeof=\"mw:File\"><span title=\"Decrease\"><img alt=\"Decrease\" class=\"mw-file-element\" data-file-height=\"300\" data-file-width=\"300\" decoding=\"async\" height=\"11\" src=\"//upload.wikimedia.org/wikipedia/commons/thumb/e/ed/Decrease2.svg/11px-Decrease2.svg.png\" srcset=\"//upload.wikimedia.org/wikipedia/commons/thumb/e/ed/Decrease2.svg/17px-Decrease2.svg.png 1.5x, //upload.wikimedia.org/wikipedia/commons/thumb/e/ed/Decrease2.svg/22px-Decrease2.svg.png 2x\" width=\"11\"/></span></span> <span data-sort-value=\"2999450000000000000♠\" style=\"display:none\"></span> -17.1%\n</td>\n<td style=\"text-align:center;\">25,200\n</td>\n<td><a href=\"/wiki/New_York_City\" title=\"New York City\">New York City, New York</a>\n</td></tr>\n<tr>\n<td>95\n</td>\n<td><a class=\"mw-redirect\" href=\"/wiki/Coca-Cola_company\" title=\"Coca-Cola company\">Coca-Cola</a>\n</td>\n<td>Beverage\n</td>\n<td style=\"text-align:center;\">45,754\n</td>\n<td style=\"text-align:center;\"><span typeof=\"mw:File\"><span title=\"Increase\"><img alt=\"Increase\" class=\"mw-file-element\" data-file-height=\"300\" data-file-width=\"300\" decoding=\"async\" height=\"11\" src=\"//upload.wikimedia.org/wikipedia/commons/thumb/b/b0/Increase2.svg/11px-Increase2.svg.png\" srcset=\"//upload.wikimedia.org/wikipedia/commons/thumb/b/b0/Increase2.svg/17px-Increase2.svg.png 1.5x, //upload.wikimedia.org/wikipedia/commons/thumb/b/b0/Increase2.svg/22px-Increase2.svg.png 2x\" width=\"11\"/></span></span> <span data-sort-value=\"7000300000000000000♠\" style=\"display:none\"></span> 6.4%\n</td>\n<td style=\"text-align:center;\">79,100\n</td>\n<td><a class=\"mw-redirect\" href=\"/wiki/Atlanta_Georgia\" title=\"Atlanta Georgia\">Atlanta, Georgia</a>\n</td></tr>\n<tr>\n<td>96\n</td>\n<td><a href=\"/wiki/TIAA\" title=\"TIAA\">TIAA</a>\n</td>\n<td>Financials\n</td>\n<td style=\"text-align:center;\">45,735\n</td>\n<td style=\"text-align:center;\"><span typeof=\"mw:File\"><span title=\"Increase\"><img alt=\"Increase\" class=\"mw-file-element\" data-file-height=\"300\" data-file-width=\"300\" decoding=\"async\" height=\"11\" src=\"//upload.wikimedia.org/wikipedia/commons/thumb/b/b0/Increase2.svg/11px-Increase2.svg.png\" srcset=\"//upload.wikimedia.org/wikipedia/commons/thumb/b/b0/Increase2.svg/17px-Increase2.svg.png 1.5x, //upload.wikimedia.org/wikipedia/commons/thumb/b/b0/Increase2.svg/22px-Increase2.svg.png 2x\" width=\"11\"/></span></span> <span data-sort-value=\"7000300000000000000♠\" style=\"display:none\"></span> 11.8%\n</td>\n<td style=\"text-align:center;\">16,023\n</td>\n<td><a href=\"/wiki/New_York_City\" title=\"New York City\">New York City, New York</a>\n</td></tr>\n<tr>\n<td>97\n</td>\n<td><a class=\"mw-redirect\" href=\"/wiki/CHS_Inc\" title=\"CHS Inc\">CHS</a>\n</td>\n<td>Agriculture cooperative\n</td>\n<td style=\"text-align:center;\">45,590\n</td>\n<td style=\"text-align:center;\"><span typeof=\"mw:File\"><span title=\"Decrease\"><img alt=\"Decrease\" class=\"mw-file-element\" data-file-height=\"300\" data-file-width=\"300\" decoding=\"async\" height=\"11\" src=\"//upload.wikimedia.org/wikipedia/commons/thumb/e/ed/Decrease2.svg/11px-Decrease2.svg.png\" srcset=\"//upload.wikimedia.org/wikipedia/commons/thumb/e/ed/Decrease2.svg/17px-Decrease2.svg.png 1.5x, //upload.wikimedia.org/wikipedia/commons/thumb/e/ed/Decrease2.svg/22px-Decrease2.svg.png 2x\" width=\"11\"/></span></span> <span data-sort-value=\"2999450000000000000♠\" style=\"display:none\"></span> -4.6%\n</td>\n<td style=\"text-align:center;\">10,609\n</td>\n<td><a class=\"mw-redirect\" href=\"/wiki/Inver_Grove_Heights\" title=\"Inver Grove Heights\">Inver Grove Heights, Minnesota</a>\n</td></tr>\n<tr>\n<td>98\n</td>\n<td><a class=\"mw-redirect\" href=\"/wiki/Bristol-Myers_Squibb\" title=\"Bristol-Myers Squibb\">Bristol-Myers Squibb</a>\n</td>\n<td>Pharmaceutical industry\n</td>\n<td style=\"text-align:center;\">45,006\n</td>\n<td style=\"text-align:center;\"><span typeof=\"mw:File\"><span title=\"Decrease\"><img alt=\"Decrease\" class=\"mw-file-element\" data-file-height=\"300\" data-file-width=\"300\" decoding=\"async\" height=\"11\" src=\"//upload.wikimedia.org/wikipedia/commons/thumb/e/ed/Decrease2.svg/11px-Decrease2.svg.png\" srcset=\"//upload.wikimedia.org/wikipedia/commons/thumb/e/ed/Decrease2.svg/17px-Decrease2.svg.png 1.5x, //upload.wikimedia.org/wikipedia/commons/thumb/e/ed/Decrease2.svg/22px-Decrease2.svg.png 2x\" width=\"11\"/></span></span> <span data-sort-value=\"2999450000000000000♠\" style=\"display:none\"></span> -2.5%\n</td>\n<td style=\"text-align:center;\">34,100\n</td>\n<td><a href=\"/wiki/New_York_City\" title=\"New York City\">New York City</a>, <a href=\"/wiki/New_York_(state)\" title=\"New York (state)\">New York</a>\n</td></tr>\n<tr>\n<td>99\n</td>\n<td><a href=\"/wiki/Dow_Chemical_Company\" title=\"Dow Chemical Company\">Dow Chemical Company</a>\n</td>\n<td><a href=\"/wiki/Chemical_industry\" title=\"Chemical industry\">Chemical industry</a>\n</td>\n<td style=\"text-align:center;\">44,622\n</td>\n<td style=\"text-align:center;\"><span typeof=\"mw:File\"><span title=\"Decrease\"><img alt=\"Decrease\" class=\"mw-file-element\" data-file-height=\"300\" data-file-width=\"300\" decoding=\"async\" height=\"11\" src=\"//upload.wikimedia.org/wikipedia/commons/thumb/e/ed/Decrease2.svg/11px-Decrease2.svg.png\" srcset=\"//upload.wikimedia.org/wikipedia/commons/thumb/e/ed/Decrease2.svg/17px-Decrease2.svg.png 1.5x, //upload.wikimedia.org/wikipedia/commons/thumb/e/ed/Decrease2.svg/22px-Decrease2.svg.png 2x\" width=\"11\"/></span></span> <span data-sort-value=\"2999450000000000000♠\" style=\"display:none\"></span> -21.6%\n</td>\n<td style=\"text-align:center;\">35,900\n</td>\n<td><a href=\"/wiki/Midland,_Michigan\" title=\"Midland, Michigan\">Midland, Michigan</a>\n</td></tr>\n<tr>\n<td>100\n</td>\n<td><a href=\"/wiki/Best_Buy\" title=\"Best Buy\">Best Buy</a>\n</td>\n<td>Retail\n</td>\n<td style=\"text-align:center;\">43,452\n</td>\n<td style=\"text-align:center;\"><span typeof=\"mw:File\"><span title=\"Decrease\"><img alt=\"Decrease\" class=\"mw-file-element\" data-file-height=\"300\" data-file-width=\"300\" decoding=\"async\" height=\"11\" src=\"//upload.wikimedia.org/wikipedia/commons/thumb/e/ed/Decrease2.svg/11px-Decrease2.svg.png\" srcset=\"//upload.wikimedia.org/wikipedia/commons/thumb/e/ed/Decrease2.svg/17px-Decrease2.svg.png 1.5x, //upload.wikimedia.org/wikipedia/commons/thumb/e/ed/Decrease2.svg/22px-Decrease2.svg.png 2x\" width=\"11\"/></span></span> <span data-sort-value=\"2999450000000000000♠\" style=\"display:none\"></span> -6.1%\n</td>\n<td style=\"text-align:center;\">85,000\n</td>\n<td><a href=\"/wiki/Richfield,_Minnesota\" title=\"Richfield, Minnesota\">Richfield, Minnesota</a>\n</td></tr></tbody></table>\n"
     ]
    }
   ],
   "source": [
    "table = soup.find_all('table')[0]\n",
    "print(table)"
   ]
  },
  {
   "cell_type": "code",
   "execution_count": 0,
   "metadata": {
    "application/vnd.databricks.v1+cell": {
     "cellMetadata": {
      "byteLimit": 2048000,
      "rowLimit": 10000
     },
     "inputWidgets": {},
     "nuid": "bd556c78-2a67-45ec-970e-11719a987c73",
     "showTitle": false,
     "tableResultSettingsMap": {},
     "title": ""
    }
   },
   "outputs": [
    {
     "output_type": "stream",
     "name": "stdout",
     "output_type": "stream",
     "text": [
      "Out[5]: [<th>Rank\n </th>,\n <th>Name\n </th>,\n <th>Industry\n </th>,\n <th>Revenue <br/>(USD millions)\n </th>,\n <th>Revenue growth\n </th>,\n <th>Employees\n </th>,\n <th>Headquarters\n </th>]"
     ]
    }
   ],
   "source": [
    "world_titles= table.find_all('th')\n",
    "world_titles"
   ]
  },
  {
   "cell_type": "code",
   "execution_count": 0,
   "metadata": {
    "application/vnd.databricks.v1+cell": {
     "cellMetadata": {
      "byteLimit": 2048000,
      "rowLimit": 10000
     },
     "inputWidgets": {},
     "nuid": "18b3b2ad-e0ec-4674-b1ca-fad0336a099b",
     "showTitle": false,
     "tableResultSettingsMap": {},
     "title": ""
    }
   },
   "outputs": [
    {
     "output_type": "stream",
     "name": "stdout",
     "output_type": "stream",
     "text": [
      "['Rank', 'Name', 'Industry', 'Revenue (USD millions)', 'Revenue growth', 'Employees', 'Headquarters']\n"
     ]
    }
   ],
   "source": [
    "world_table_titles = [title.text.strip() for title in world_titles]\n",
    "print(world_table_titles)"
   ]
  },
  {
   "cell_type": "code",
   "execution_count": 0,
   "metadata": {
    "application/vnd.databricks.v1+cell": {
     "cellMetadata": {
      "byteLimit": 2048000,
      "rowLimit": 10000
     },
     "inputWidgets": {},
     "nuid": "96027db3-0acc-4784-bcc0-77f34aff419e",
     "showTitle": false,
     "tableResultSettingsMap": {},
     "title": ""
    }
   },
   "outputs": [
    {
     "output_type": "display_data",
     "data": {
      "application/vnd.databricks.v1+bamboolib_hint": "{\"pd.DataFrames\": [], \"version\": \"0.0.1\"}",
      "text/plain": []
     },
     "metadata": {},
     "output_type": "display_data"
    },
    {
     "output_type": "display_data",
     "data": {
      "text/html": [
       "<div>\n",
       "<style scoped>\n",
       "    .dataframe tbody tr th:only-of-type {\n",
       "        vertical-align: middle;\n",
       "    }\n",
       "\n",
       "    .dataframe tbody tr th {\n",
       "        vertical-align: top;\n",
       "    }\n",
       "\n",
       "    .dataframe thead th {\n",
       "        text-align: right;\n",
       "    }\n",
       "</style>\n",
       "<table border=\"1\" class=\"dataframe\">\n",
       "  <thead>\n",
       "    <tr style=\"text-align: right;\">\n",
       "      <th></th>\n",
       "      <th>Rank</th>\n",
       "      <th>Name</th>\n",
       "      <th>Industry</th>\n",
       "      <th>Revenue (USD millions)</th>\n",
       "      <th>Revenue growth</th>\n",
       "      <th>Employees</th>\n",
       "      <th>Headquarters</th>\n",
       "    </tr>\n",
       "  </thead>\n",
       "  <tbody>\n",
       "  </tbody>\n",
       "</table>\n",
       "</div>"
      ]
     },
     "metadata": {
      "application/vnd.databricks.v1+output": {
       "addedWidgets": {},
       "arguments": {},
       "data": "<div>\n<style scoped>\n    .dataframe tbody tr th:only-of-type {\n        vertical-align: middle;\n    }\n\n    .dataframe tbody tr th {\n        vertical-align: top;\n    }\n\n    .dataframe thead th {\n        text-align: right;\n    }\n</style>\n<table border=\"1\" class=\"dataframe\">\n  <thead>\n    <tr style=\"text-align: right;\">\n      <th></th>\n      <th>Rank</th>\n      <th>Name</th>\n      <th>Industry</th>\n      <th>Revenue (USD millions)</th>\n      <th>Revenue growth</th>\n      <th>Employees</th>\n      <th>Headquarters</th>\n    </tr>\n  </thead>\n  <tbody>\n  </tbody>\n</table>\n</div>",
       "datasetInfos": [],
       "metadata": {},
       "removedWidgets": [],
       "textData": null,
       "type": "htmlSandbox"
      }
     },
     "output_type": "display_data"
    }
   ],
   "source": [
    "import pandas as pd \n",
    "df = pd.DataFrame(columns=world_table_titles)\n",
    "df"
   ]
  },
  {
   "cell_type": "code",
   "execution_count": 0,
   "metadata": {
    "application/vnd.databricks.v1+cell": {
     "cellMetadata": {
      "byteLimit": 2048000,
      "rowLimit": 10000
     },
     "inputWidgets": {},
     "nuid": "5a838ee9-444d-4791-b3ee-d1afbc0361b7",
     "showTitle": false,
     "tableResultSettingsMap": {},
     "title": ""
    }
   },
   "outputs": [
    {
     "output_type": "stream",
     "name": "stdout",
     "output_type": "stream",
     "text": [
      "Out[8]: [<tr>\n <th>Rank\n </th>\n <th>Name\n </th>\n <th>Industry\n </th>\n <th>Revenue <br/>(USD millions)\n </th>\n <th>Revenue growth\n </th>\n <th>Employees\n </th>\n <th>Headquarters\n </th></tr>,\n <tr>\n <td>1\n </td>\n <td><a href=\"/wiki/Walmart\" title=\"Walmart\">Walmart</a>\n </td>\n <td><a href=\"/wiki/Retail\" title=\"Retail\">Retail</a>\n </td>\n <td style=\"text-align:center;\">648,125\n </td>\n <td style=\"text-align:center;\"><span typeof=\"mw:File\"><span title=\"Increase\"><img alt=\"Increase\" class=\"mw-file-element\" data-file-height=\"300\" data-file-width=\"300\" decoding=\"async\" height=\"11\" src=\"//upload.wikimedia.org/wikipedia/commons/thumb/b/b0/Increase2.svg/11px-Increase2.svg.png\" srcset=\"//upload.wikimedia.org/wikipedia/commons/thumb/b/b0/Increase2.svg/17px-Increase2.svg.png 1.5x, //upload.wikimedia.org/wikipedia/commons/thumb/b/b0/Increase2.svg/22px-Increase2.svg.png 2x\" width=\"11\"/></span></span> <span data-sort-value=\"7000300000000000000♠\" style=\"display:none\"></span> 6.0%\n </td>\n <td style=\"text-align:center;\">2,100,000\n </td>\n <td><a href=\"/wiki/Bentonville,_Arkansas\" title=\"Bentonville, Arkansas\">Bentonville, Arkansas</a>\n </td></tr>,\n <tr>\n <td>2\n </td>\n <td><a href=\"/wiki/Amazon_(company)\" title=\"Amazon (company)\">Amazon</a>\n </td>\n <td>Retail and <a href=\"/wiki/Cloud_computing\" title=\"Cloud computing\">cloud computing</a>\n </td>\n <td style=\"text-align:center;\">574,785\n </td>\n <td style=\"text-align:center;\"><span typeof=\"mw:File\"><span title=\"Increase\"><img alt=\"Increase\" class=\"mw-file-element\" data-file-height=\"300\" data-file-width=\"300\" decoding=\"async\" height=\"11\" src=\"//upload.wikimedia.org/wikipedia/commons/thumb/b/b0/Increase2.svg/11px-Increase2.svg.png\" srcset=\"//upload.wikimedia.org/wikipedia/commons/thumb/b/b0/Increase2.svg/17px-Increase2.svg.png 1.5x, //upload.wikimedia.org/wikipedia/commons/thumb/b/b0/Increase2.svg/22px-Increase2.svg.png 2x\" width=\"11\"/></span></span> <span data-sort-value=\"7000300000000000000♠\" style=\"display:none\"></span> 11.9%\n </td>\n <td style=\"text-align:center;\">1,525,000\n </td>\n <td><a href=\"/wiki/Seattle\" title=\"Seattle\">Seattle, Washington</a>\n </td></tr>,\n <tr>\n <td>3\n </td>\n <td><a class=\"mw-redirect\" href=\"/wiki/Apple_Inc\" title=\"Apple Inc\">Apple</a>\n </td>\n <td><a href=\"/wiki/Electronics_industry\" title=\"Electronics industry\">Electronics industry</a>\n </td>\n <td style=\"text-align:center;\">383,482\n </td>\n <td style=\"text-align:center;\"><span typeof=\"mw:File\"><span title=\"Decrease\"><img alt=\"Decrease\" class=\"mw-file-element\" data-file-height=\"300\" data-file-width=\"300\" decoding=\"async\" height=\"11\" src=\"//upload.wikimedia.org/wikipedia/commons/thumb/e/ed/Decrease2.svg/11px-Decrease2.svg.png\" srcset=\"//upload.wikimedia.org/wikipedia/commons/thumb/e/ed/Decrease2.svg/17px-Decrease2.svg.png 1.5x, //upload.wikimedia.org/wikipedia/commons/thumb/e/ed/Decrease2.svg/22px-Decrease2.svg.png 2x\" width=\"11\"/></span></span> <span data-sort-value=\"2999450000000000000♠\" style=\"display:none\"></span> -2.8%\n </td>\n <td style=\"text-align:center;\">161,000\n </td>\n <td><a href=\"/wiki/Cupertino,_California\" title=\"Cupertino, California\">Cupertino, California</a>\n </td></tr>,\n <tr>\n <td>4\n </td>\n <td><a href=\"/wiki/UnitedHealth_Group\" title=\"UnitedHealth Group\">UnitedHealth Group</a>\n </td>\n <td><a class=\"mw-redirect\" href=\"/wiki/Healthcare\" title=\"Healthcare\">Healthcare</a>\n </td>\n <td style=\"text-align:center;\">371,622\n </td>\n <td style=\"text-align:center;\"><span typeof=\"mw:File\"><span title=\"Increase\"><img alt=\"Increase\" class=\"mw-file-element\" data-file-height=\"300\" data-file-width=\"300\" decoding=\"async\" height=\"11\" src=\"//upload.wikimedia.org/wikipedia/commons/thumb/b/b0/Increase2.svg/11px-Increase2.svg.png\" srcset=\"//upload.wikimedia.org/wikipedia/commons/thumb/b/b0/Increase2.svg/17px-Increase2.svg.png 1.5x, //upload.wikimedia.org/wikipedia/commons/thumb/b/b0/Increase2.svg/22px-Increase2.svg.png 2x\" width=\"11\"/></span></span> <span data-sort-value=\"7000300000000000000♠\" style=\"display:none\"></span> 14.6%\n </td>\n <td style=\"text-align:center;\">440,000\n </td>\n <td><a href=\"/wiki/Minnetonka,_Minnesota\" title=\"Minnetonka, Minnesota\">Minnetonka, Minnesota</a>\n </td></tr>,\n <tr>\n <td>5\n </td>\n <td><a href=\"/wiki/Berkshire_Hathaway\" title=\"Berkshire Hathaway\">Berkshire Hathaway</a>\n </td>\n <td><a href=\"/wiki/Conglomerate_(company)\" title=\"Conglomerate (company)\">Conglomerate</a>\n </td>\n <td style=\"text-align:center;\">364,482\n </td>\n <td style=\"text-align:center;\"><span typeof=\"mw:File\"><span title=\"Increase\"><img alt=\"Increase\" class=\"mw-file-element\" data-file-height=\"300\" data-file-width=\"300\" decoding=\"async\" height=\"11\" src=\"//upload.wikimedia.org/wikipedia/commons/thumb/b/b0/Increase2.svg/11px-Increase2.svg.png\" srcset=\"//upload.wikimedia.org/wikipedia/commons/thumb/b/b0/Increase2.svg/17px-Increase2.svg.png 1.5x, //upload.wikimedia.org/wikipedia/commons/thumb/b/b0/Increase2.svg/22px-Increase2.svg.png 2x\" width=\"11\"/></span></span> <span data-sort-value=\"7000300000000000000♠\" style=\"display:none\"></span> 20.7%\n </td>\n <td style=\"text-align:center;\">396,500\n </td>\n <td><a href=\"/wiki/Omaha,_Nebraska\" title=\"Omaha, Nebraska\">Omaha, Nebraska</a>\n </td></tr>,\n <tr>\n <td>6\n </td>\n <td><a href=\"/wiki/CVS_Health\" title=\"CVS Health\">CVS Health</a>\n </td>\n <td>Healthcare\n </td>\n <td style=\"text-align:center;\">357,776\n </td>\n <td style=\"text-align:center;\"><span typeof=\"mw:File\"><span title=\"Increase\"><img alt=\"Increase\" class=\"mw-file-element\" data-file-height=\"300\" data-file-width=\"300\" decoding=\"async\" height=\"11\" src=\"//upload.wikimedia.org/wikipedia/commons/thumb/b/b0/Increase2.svg/11px-Increase2.svg.png\" srcset=\"//upload.wikimedia.org/wikipedia/commons/thumb/b/b0/Increase2.svg/17px-Increase2.svg.png 1.5x, //upload.wikimedia.org/wikipedia/commons/thumb/b/b0/Increase2.svg/22px-Increase2.svg.png 2x\" width=\"11\"/></span></span> <span data-sort-value=\"7000300000000000000♠\" style=\"display:none\"></span> 10.9%\n </td>\n <td style=\"text-align:center;\">259,500\n </td>\n <td><a href=\"/wiki/Woonsocket,_Rhode_Island\" title=\"Woonsocket, Rhode Island\">Woonsocket, Rhode Island</a>\n </td></tr>,\n <tr>\n <td>7\n </td>\n <td><a href=\"/wiki/ExxonMobil\" title=\"ExxonMobil\">ExxonMobil</a>\n </td>\n <td><a href=\"/wiki/Petroleum_industry\" title=\"Petroleum industry\">Petroleum industry</a>\n </td>\n <td style=\"text-align:center;\">344,582\n </td>\n <td style=\"text-align:center;\"><span typeof=\"mw:File\"><span title=\"Decrease\"><img alt=\"Decrease\" class=\"mw-file-element\" data-file-height=\"300\" data-file-width=\"300\" decoding=\"async\" height=\"11\" src=\"//upload.wikimedia.org/wikipedia/commons/thumb/e/ed/Decrease2.svg/11px-Decrease2.svg.png\" srcset=\"//upload.wikimedia.org/wikipedia/commons/thumb/e/ed/Decrease2.svg/17px-Decrease2.svg.png 1.5x, //upload.wikimedia.org/wikipedia/commons/thumb/e/ed/Decrease2.svg/22px-Decrease2.svg.png 2x\" width=\"11\"/></span></span> <span data-sort-value=\"2999450000000000000♠\" style=\"display:none\"></span> -16.7%\n </td>\n <td style=\"text-align:center;\">61,500\n </td>\n <td><a href=\"/wiki/Spring,_Texas\" title=\"Spring, Texas\">Spring, Texas</a>\n </td></tr>,\n <tr>\n <td>8\n </td>\n <td><a class=\"mw-redirect\" href=\"/wiki/Alphabet_Inc\" title=\"Alphabet Inc\">Alphabet</a>\n </td>\n <td><a href=\"/wiki/Technology\" title=\"Technology\">Technology</a> and cloud computing\n </td>\n <td style=\"text-align:center;\">307,394\n </td>\n <td style=\"text-align:center;\"><span typeof=\"mw:File\"><span title=\"Increase\"><img alt=\"Increase\" class=\"mw-file-element\" data-file-height=\"300\" data-file-width=\"300\" decoding=\"async\" height=\"11\" src=\"//upload.wikimedia.org/wikipedia/commons/thumb/b/b0/Increase2.svg/11px-Increase2.svg.png\" srcset=\"//upload.wikimedia.org/wikipedia/commons/thumb/b/b0/Increase2.svg/17px-Increase2.svg.png 1.5x, //upload.wikimedia.org/wikipedia/commons/thumb/b/b0/Increase2.svg/22px-Increase2.svg.png 2x\" width=\"11\"/></span></span> <span data-sort-value=\"7000300000000000000♠\" style=\"display:none\"></span> 8.7%\n </td>\n <td style=\"text-align:center;\">182,502\n </td>\n <td><a href=\"/wiki/Mountain_View,_California\" title=\"Mountain View, California\">Mountain View, California</a>\n </td></tr>,\n <tr>\n <td>9\n </td>\n <td><a href=\"/wiki/McKesson_Corporation\" title=\"McKesson Corporation\">McKesson Corporation</a>\n </td>\n <td>Health\n </td>\n <td style=\"text-align:center;\">276,711\n </td>\n <td style=\"text-align:center;\"><span typeof=\"mw:File\"><span title=\"Increase\"><img alt=\"Increase\" class=\"mw-file-element\" data-file-height=\"300\" data-file-width=\"300\" decoding=\"async\" height=\"11\" src=\"//upload.wikimedia.org/wikipedia/commons/thumb/b/b0/Increase2.svg/11px-Increase2.svg.png\" srcset=\"//upload.wikimedia.org/wikipedia/commons/thumb/b/b0/Increase2.svg/17px-Increase2.svg.png 1.5x, //upload.wikimedia.org/wikipedia/commons/thumb/b/b0/Increase2.svg/22px-Increase2.svg.png 2x\" width=\"11\"/></span></span> <span data-sort-value=\"7000300000000000000♠\" style=\"display:none\"></span> 4.8%\n </td>\n <td style=\"text-align:center;\">48,000\n </td>\n <td><a href=\"/wiki/Irving,_Texas\" title=\"Irving, Texas\">Irving, Texas</a>\n </td></tr>,\n <tr>\n <td>10\n </td>\n <td><a href=\"/wiki/Cencora\" title=\"Cencora\">Cencora</a>\n </td>\n <td><a href=\"/wiki/Pharmacy\" title=\"Pharmacy\">Pharmacy wholesale</a>\n </td>\n <td style=\"text-align:center;\">262,173\n </td>\n <td style=\"text-align:center;\"><span typeof=\"mw:File\"><span title=\"Increase\"><img alt=\"Increase\" class=\"mw-file-element\" data-file-height=\"300\" data-file-width=\"300\" decoding=\"async\" height=\"11\" src=\"//upload.wikimedia.org/wikipedia/commons/thumb/b/b0/Increase2.svg/11px-Increase2.svg.png\" srcset=\"//upload.wikimedia.org/wikipedia/commons/thumb/b/b0/Increase2.svg/17px-Increase2.svg.png 1.5x, //upload.wikimedia.org/wikipedia/commons/thumb/b/b0/Increase2.svg/22px-Increase2.svg.png 2x\" width=\"11\"/></span></span> <span data-sort-value=\"7000300000000000000♠\" style=\"display:none\"></span> 9.9%\n </td>\n <td style=\"text-align:center;\">44,000\n </td>\n <td><a href=\"/wiki/Conshohocken,_Pennsylvania\" title=\"Conshohocken, Pennsylvania\">Conshohocken, Pennsylvania</a>\n </td></tr>,\n <tr>\n <td>11\n </td>\n <td><a href=\"/wiki/Costco\" title=\"Costco\">Costco</a>\n </td>\n <td>Retail\n </td>\n <td style=\"text-align:center;\">242,290\n </td>\n <td style=\"text-align:center;\"><span typeof=\"mw:File\"><span title=\"Increase\"><img alt=\"Increase\" class=\"mw-file-element\" data-file-height=\"300\" data-file-width=\"300\" decoding=\"async\" height=\"11\" src=\"//upload.wikimedia.org/wikipedia/commons/thumb/b/b0/Increase2.svg/11px-Increase2.svg.png\" srcset=\"//upload.wikimedia.org/wikipedia/commons/thumb/b/b0/Increase2.svg/17px-Increase2.svg.png 1.5x, //upload.wikimedia.org/wikipedia/commons/thumb/b/b0/Increase2.svg/22px-Increase2.svg.png 2x\" width=\"11\"/></span></span> <span data-sort-value=\"7000300000000000000♠\" style=\"display:none\"></span> 6.8%\n </td>\n <td style=\"text-align:center;\">316,000\n </td>\n <td><a href=\"/wiki/Issaquah,_Washington\" title=\"Issaquah, Washington\">Issaquah, Washington</a>\n </td></tr>,\n <tr>\n <td>12\n </td>\n <td><a href=\"/wiki/JPMorgan_Chase\" title=\"JPMorgan Chase\">JPMorgan Chase</a>\n </td>\n <td><a href=\"/wiki/Financial_services\" title=\"Financial services\">Financial services</a>\n </td>\n <td style=\"text-align:center;\">239,425\n </td>\n <td style=\"text-align:center;\"><span typeof=\"mw:File\"><span title=\"Increase\"><img alt=\"Increase\" class=\"mw-file-element\" data-file-height=\"300\" data-file-width=\"300\" decoding=\"async\" height=\"11\" src=\"//upload.wikimedia.org/wikipedia/commons/thumb/b/b0/Increase2.svg/11px-Increase2.svg.png\" srcset=\"//upload.wikimedia.org/wikipedia/commons/thumb/b/b0/Increase2.svg/17px-Increase2.svg.png 1.5x, //upload.wikimedia.org/wikipedia/commons/thumb/b/b0/Increase2.svg/22px-Increase2.svg.png 2x\" width=\"11\"/></span></span> <span data-sort-value=\"7000300000000000000♠\" style=\"display:none\"></span> 54.7%\n </td>\n <td style=\"text-align:center;\">309,926\n </td>\n <td><a href=\"/wiki/New_York_City\" title=\"New York City\">New York City, New York</a>\n </td></tr>,\n <tr>\n <td>13\n </td>\n <td><a href=\"/wiki/Microsoft\" title=\"Microsoft\">Microsoft</a>\n </td>\n <td>Technology and cloud computing\n </td>\n <td style=\"text-align:center;\">211,915\n </td>\n <td style=\"text-align:center;\"><span typeof=\"mw:File\"><span title=\"Increase\"><img alt=\"Increase\" class=\"mw-file-element\" data-file-height=\"300\" data-file-width=\"300\" decoding=\"async\" height=\"11\" src=\"//upload.wikimedia.org/wikipedia/commons/thumb/b/b0/Increase2.svg/11px-Increase2.svg.png\" srcset=\"//upload.wikimedia.org/wikipedia/commons/thumb/b/b0/Increase2.svg/17px-Increase2.svg.png 1.5x, //upload.wikimedia.org/wikipedia/commons/thumb/b/b0/Increase2.svg/22px-Increase2.svg.png 2x\" width=\"11\"/></span></span> <span data-sort-value=\"7000300000000000000♠\" style=\"display:none\"></span> 6.9%\n </td>\n <td style=\"text-align:center;\">221,000\n </td>\n <td><a href=\"/wiki/Redmond,_Washington\" title=\"Redmond, Washington\">Redmond, Washington</a>\n </td></tr>,\n <tr>\n <td>14\n </td>\n <td><a href=\"/wiki/Cardinal_Health\" title=\"Cardinal Health\">Cardinal Health</a>\n </td>\n <td>Healthcare\n </td>\n <td style=\"text-align:center;\">205,012\n </td>\n <td style=\"text-align:center;\"><span typeof=\"mw:File\"><span title=\"Increase\"><img alt=\"Increase\" class=\"mw-file-element\" data-file-height=\"300\" data-file-width=\"300\" decoding=\"async\" height=\"11\" src=\"//upload.wikimedia.org/wikipedia/commons/thumb/b/b0/Increase2.svg/11px-Increase2.svg.png\" srcset=\"//upload.wikimedia.org/wikipedia/commons/thumb/b/b0/Increase2.svg/17px-Increase2.svg.png 1.5x, //upload.wikimedia.org/wikipedia/commons/thumb/b/b0/Increase2.svg/22px-Increase2.svg.png 2x\" width=\"11\"/></span></span> <span data-sort-value=\"7000300000000000000♠\" style=\"display:none\"></span> 13.0%\n </td>\n <td style=\"text-align:center;\">47,520\n </td>\n <td><a href=\"/wiki/Dublin,_Ohio\" title=\"Dublin, Ohio\">Dublin, Ohio</a>\n </td></tr>,\n <tr>\n <td>15\n </td>\n <td><a href=\"/wiki/Chevron_Corporation\" title=\"Chevron Corporation\">Chevron Corporation</a>\n </td>\n <td>Petroleum industry\n </td>\n <td style=\"text-align:center;\">200,949\n </td>\n <td style=\"text-align:center;\"><span typeof=\"mw:File\"><span title=\"Decrease\"><img alt=\"Decrease\" class=\"mw-file-element\" data-file-height=\"300\" data-file-width=\"300\" decoding=\"async\" height=\"11\" src=\"//upload.wikimedia.org/wikipedia/commons/thumb/e/ed/Decrease2.svg/11px-Decrease2.svg.png\" srcset=\"//upload.wikimedia.org/wikipedia/commons/thumb/e/ed/Decrease2.svg/17px-Decrease2.svg.png 1.5x, //upload.wikimedia.org/wikipedia/commons/thumb/e/ed/Decrease2.svg/22px-Decrease2.svg.png 2x\" width=\"11\"/></span></span> <span data-sort-value=\"2999450000000000000♠\" style=\"display:none\"></span> -18.4%\n </td>\n <td style=\"text-align:center;\">45,600\n </td>\n <td><a class=\"mw-redirect\" href=\"/wiki/Houston,_Texas\" title=\"Houston, Texas\">Houston, Texas</a>\n </td></tr>,\n <tr>\n <td>16\n </td>\n <td><a href=\"/wiki/Cigna\" title=\"Cigna\">Cigna</a>\n </td>\n <td>Health insurance\n </td>\n <td style=\"text-align:center;\">195,265\n </td>\n <td style=\"text-align:center;\"><span typeof=\"mw:File\"><span title=\"Increase\"><img alt=\"Increase\" class=\"mw-file-element\" data-file-height=\"300\" data-file-width=\"300\" decoding=\"async\" height=\"11\" src=\"//upload.wikimedia.org/wikipedia/commons/thumb/b/b0/Increase2.svg/11px-Increase2.svg.png\" srcset=\"//upload.wikimedia.org/wikipedia/commons/thumb/b/b0/Increase2.svg/17px-Increase2.svg.png 1.5x, //upload.wikimedia.org/wikipedia/commons/thumb/b/b0/Increase2.svg/22px-Increase2.svg.png 2x\" width=\"11\"/></span></span> <span data-sort-value=\"7000300000000000000♠\" style=\"display:none\"></span> 8.2%\n </td>\n <td style=\"text-align:center;\">71,413\n </td>\n <td><a href=\"/wiki/Bloomfield,_Connecticut\" title=\"Bloomfield, Connecticut\">Bloomfield, Connecticut</a>\n </td></tr>,\n <tr>\n <td>17\n </td>\n <td><a href=\"/wiki/Ford_Motor_Company\" title=\"Ford Motor Company\">Ford Motor Company</a>\n </td>\n <td><a href=\"/wiki/Automotive_industry\" title=\"Automotive industry\">Automotive industry</a>\n </td>\n <td style=\"text-align:center;\">176,191\n </td>\n <td style=\"text-align:center;\"><span typeof=\"mw:File\"><span title=\"Increase\"><img alt=\"Increase\" class=\"mw-file-element\" data-file-height=\"300\" data-file-width=\"300\" decoding=\"async\" height=\"11\" src=\"//upload.wikimedia.org/wikipedia/commons/thumb/b/b0/Increase2.svg/11px-Increase2.svg.png\" srcset=\"//upload.wikimedia.org/wikipedia/commons/thumb/b/b0/Increase2.svg/17px-Increase2.svg.png 1.5x, //upload.wikimedia.org/wikipedia/commons/thumb/b/b0/Increase2.svg/22px-Increase2.svg.png 2x\" width=\"11\"/></span></span> <span data-sort-value=\"7000300000000000000♠\" style=\"display:none\"></span> 11.5%\n </td>\n <td style=\"text-align:center;\">177,000\n </td>\n <td><a href=\"/wiki/Dearborn,_Michigan\" title=\"Dearborn, Michigan\">Dearborn, Michigan</a>\n </td></tr>,\n <tr>\n <td>18\n </td>\n <td><a href=\"/wiki/Bank_of_America\" title=\"Bank of America\">Bank of America</a>\n </td>\n <td>Financials\n </td>\n <td style=\"text-align:center;\">171,912\n </td>\n <td style=\"text-align:center;\"><span typeof=\"mw:File\"><span title=\"Increase\"><img alt=\"Increase\" class=\"mw-file-element\" data-file-height=\"300\" data-file-width=\"300\" decoding=\"async\" height=\"11\" src=\"//upload.wikimedia.org/wikipedia/commons/thumb/b/b0/Increase2.svg/11px-Increase2.svg.png\" srcset=\"//upload.wikimedia.org/wikipedia/commons/thumb/b/b0/Increase2.svg/17px-Increase2.svg.png 1.5x, //upload.wikimedia.org/wikipedia/commons/thumb/b/b0/Increase2.svg/22px-Increase2.svg.png 2x\" width=\"11\"/></span></span><span data-sort-value=\"7000300000000000000♠\" style=\"display:none\"></span> 49.4%\n </td>\n <td style=\"text-align:center;\">212,985\n </td>\n <td><a href=\"/wiki/Charlotte,_North_Carolina\" title=\"Charlotte, North Carolina\">Charlotte, North Carolina</a>\n </td></tr>,\n <tr>\n <td>19\n </td>\n <td><a href=\"/wiki/General_Motors\" title=\"General Motors\">General Motors</a>\n </td>\n <td>Automotive industry\n </td>\n <td style=\"text-align:center;\">171,842\n </td>\n <td style=\"text-align:center;\"><span typeof=\"mw:File\"><span title=\"Increase\"><img alt=\"Increase\" class=\"mw-file-element\" data-file-height=\"300\" data-file-width=\"300\" decoding=\"async\" height=\"11\" src=\"//upload.wikimedia.org/wikipedia/commons/thumb/b/b0/Increase2.svg/11px-Increase2.svg.png\" srcset=\"//upload.wikimedia.org/wikipedia/commons/thumb/b/b0/Increase2.svg/17px-Increase2.svg.png 1.5x, //upload.wikimedia.org/wikipedia/commons/thumb/b/b0/Increase2.svg/22px-Increase2.svg.png 2x\" width=\"11\"/></span></span> <span data-sort-value=\"7000300000000000000♠\" style=\"display:none\"></span> 9.6%\n </td>\n <td style=\"text-align:center;\">163,000\n </td>\n <td><a href=\"/wiki/Detroit\" title=\"Detroit\">Detroit, Michigan</a>\n </td></tr>,\n <tr>\n <td>20\n </td>\n <td><a class=\"mw-redirect\" href=\"/wiki/Anthem_(company)\" title=\"Anthem (company)\">Elevance Health</a>\n </td>\n <td>Healthcare\n </td>\n <td style=\"text-align:center;\">171,340\n </td>\n <td style=\"text-align:center;\"><span typeof=\"mw:File\"><span title=\"Increase\"><img alt=\"Increase\" class=\"mw-file-element\" data-file-height=\"300\" data-file-width=\"300\" decoding=\"async\" height=\"11\" src=\"//upload.wikimedia.org/wikipedia/commons/thumb/b/b0/Increase2.svg/11px-Increase2.svg.png\" srcset=\"//upload.wikimedia.org/wikipedia/commons/thumb/b/b0/Increase2.svg/17px-Increase2.svg.png 1.5x, //upload.wikimedia.org/wikipedia/commons/thumb/b/b0/Increase2.svg/22px-Increase2.svg.png 2x\" width=\"11\"/></span></span> <span data-sort-value=\"7000300000000000000♠\" style=\"display:none\"></span> 9.4%\n </td>\n <td style=\"text-align:center;\">104,900\n </td>\n <td><a href=\"/wiki/Indianapolis\" title=\"Indianapolis\">Indianapolis, Indiana</a>\n </td></tr>,\n <tr>\n <td>21\n </td>\n <td><a href=\"/wiki/Citigroup\" title=\"Citigroup\">Citigroup</a>\n </td>\n <td>Financials\n </td>\n <td style=\"text-align:center;\">156,820\n </td>\n <td style=\"text-align:center;\"><span typeof=\"mw:File\"><span title=\"Increase\"><img alt=\"Increase\" class=\"mw-file-element\" data-file-height=\"300\" data-file-width=\"300\" decoding=\"async\" height=\"11\" src=\"//upload.wikimedia.org/wikipedia/commons/thumb/b/b0/Increase2.svg/11px-Increase2.svg.png\" srcset=\"//upload.wikimedia.org/wikipedia/commons/thumb/b/b0/Increase2.svg/17px-Increase2.svg.png 1.5x, //upload.wikimedia.org/wikipedia/commons/thumb/b/b0/Increase2.svg/22px-Increase2.svg.png 2x\" width=\"11\"/></span></span> <span data-sort-value=\"7000300000000000000♠\" style=\"display:none\"></span> 55.1%\n </td>\n <td style=\"text-align:center;\">237,925\n </td>\n <td><a href=\"/wiki/New_York_City\" title=\"New York City\">New York City, New York</a>\n </td></tr>,\n <tr>\n <td>22\n </td>\n <td><a class=\"mw-redirect\" href=\"/wiki/Centene\" title=\"Centene\">Centene</a>\n </td>\n <td>Healthcare\n </td>\n <td style=\"text-align:center;\">153,999\n </td>\n <td style=\"text-align:center;\"><span typeof=\"mw:File\"><span title=\"Increase\"><img alt=\"Increase\" class=\"mw-file-element\" data-file-height=\"300\" data-file-width=\"300\" decoding=\"async\" height=\"11\" src=\"//upload.wikimedia.org/wikipedia/commons/thumb/b/b0/Increase2.svg/11px-Increase2.svg.png\" srcset=\"//upload.wikimedia.org/wikipedia/commons/thumb/b/b0/Increase2.svg/17px-Increase2.svg.png 1.5x, //upload.wikimedia.org/wikipedia/commons/thumb/b/b0/Increase2.svg/22px-Increase2.svg.png 2x\" width=\"11\"/></span></span> <span data-sort-value=\"7000300000000000000♠\" style=\"display:none\"></span> 6.5%\n </td>\n <td style=\"text-align:center;\">67,700\n </td>\n <td><a href=\"/wiki/St._Louis\" title=\"St. Louis\">St. Louis, Missouri</a>\n </td></tr>,\n <tr>\n <td>23\n </td>\n <td><a class=\"mw-redirect\" href=\"/wiki/The_Home_Depot\" title=\"The Home Depot\">The Home Depot</a>\n </td>\n <td>Retail\n </td>\n <td style=\"text-align:center;\">152,669\n </td>\n <td style=\"text-align:center;\"><span typeof=\"mw:File\"><span title=\"Decrease\"><img alt=\"Decrease\" class=\"mw-file-element\" data-file-height=\"300\" data-file-width=\"300\" decoding=\"async\" height=\"11\" src=\"//upload.wikimedia.org/wikipedia/commons/thumb/e/ed/Decrease2.svg/11px-Decrease2.svg.png\" srcset=\"//upload.wikimedia.org/wikipedia/commons/thumb/e/ed/Decrease2.svg/17px-Decrease2.svg.png 1.5x, //upload.wikimedia.org/wikipedia/commons/thumb/e/ed/Decrease2.svg/22px-Decrease2.svg.png 2x\" width=\"11\"/></span></span> <span data-sort-value=\"2999450000000000000♠\" style=\"display:none\"></span> -3.0%\n </td>\n <td style=\"text-align:center;\">463,100\n </td>\n <td><a href=\"/wiki/Atlanta\" title=\"Atlanta\">Atlanta, Georgia</a>\n </td></tr>,\n <tr>\n <td>24\n </td>\n <td><a href=\"/wiki/Marathon_Petroleum\" title=\"Marathon Petroleum\">Marathon Petroleum</a>\n </td>\n <td>Petroleum industry\n </td>\n <td style=\"text-align:center;\">150,307\n </td>\n <td style=\"text-align:center;\"><span typeof=\"mw:File\"><span title=\"Decrease\"><img alt=\"Decrease\" class=\"mw-file-element\" data-file-height=\"300\" data-file-width=\"300\" decoding=\"async\" height=\"11\" src=\"//upload.wikimedia.org/wikipedia/commons/thumb/e/ed/Decrease2.svg/11px-Decrease2.svg.png\" srcset=\"//upload.wikimedia.org/wikipedia/commons/thumb/e/ed/Decrease2.svg/17px-Decrease2.svg.png 1.5x, //upload.wikimedia.org/wikipedia/commons/thumb/e/ed/Decrease2.svg/22px-Decrease2.svg.png 2x\" width=\"11\"/></span></span> <span data-sort-value=\"2999450000000000000♠\" style=\"display:none\"></span> -16.5%\n </td>\n <td style=\"text-align:center;\">18,200\n </td>\n <td><a href=\"/wiki/Findlay,_Ohio\" title=\"Findlay, Ohio\">Findlay, Ohio</a>\n </td></tr>,\n <tr>\n <td>25\n </td>\n <td><a href=\"/wiki/Kroger\" title=\"Kroger\">Kroger</a>\n </td>\n <td>Retail\n </td>\n <td style=\"text-align:center;\">150,039\n </td>\n <td style=\"text-align:center;\"><span typeof=\"mw:File\"><span title=\"Decrease\"><img alt=\"Decrease\" class=\"mw-file-element\" data-file-height=\"300\" data-file-width=\"300\" decoding=\"async\" height=\"11\" src=\"//upload.wikimedia.org/wikipedia/commons/thumb/e/ed/Decrease2.svg/11px-Decrease2.svg.png\" srcset=\"//upload.wikimedia.org/wikipedia/commons/thumb/e/ed/Decrease2.svg/17px-Decrease2.svg.png 1.5x, //upload.wikimedia.org/wikipedia/commons/thumb/e/ed/Decrease2.svg/22px-Decrease2.svg.png 2x\" width=\"11\"/></span></span> <span data-sort-value=\"2999450000000000000♠\" style=\"display:none\"></span> -3.6%\n </td>\n <td style=\"text-align:center;\">414,000\n </td>\n <td><a href=\"/wiki/Cincinnati\" title=\"Cincinnati\">Cincinnati, Ohio</a>\n </td></tr>,\n <tr>\n <td>26\n </td>\n <td><a href=\"/wiki/Phillips_66\" title=\"Phillips 66\">Phillips 66</a>\n </td>\n <td>Petroleum industry\n </td>\n <td style=\"text-align:center;\">149,890\n </td>\n <td style=\"text-align:center;\"><span typeof=\"mw:File\"><span title=\"Decrease\"><img alt=\"Decrease\" class=\"mw-file-element\" data-file-height=\"300\" data-file-width=\"300\" decoding=\"async\" height=\"11\" src=\"//upload.wikimedia.org/wikipedia/commons/thumb/e/ed/Decrease2.svg/11px-Decrease2.svg.png\" srcset=\"//upload.wikimedia.org/wikipedia/commons/thumb/e/ed/Decrease2.svg/17px-Decrease2.svg.png 1.5x, //upload.wikimedia.org/wikipedia/commons/thumb/e/ed/Decrease2.svg/22px-Decrease2.svg.png 2x\" width=\"11\"/></span></span> <span data-sort-value=\"2999450000000000000♠\" style=\"display:none\"></span> -14.7%\n </td>\n <td style=\"text-align:center;\">14,000\n </td>\n <td><a href=\"/wiki/Houston\" title=\"Houston\">Houston, Texas</a>\n </td></tr>,\n <tr>\n <td>27\n </td>\n <td><a href=\"/wiki/Fannie_Mae\" title=\"Fannie Mae\">Fannie Mae</a>\n </td>\n <td>Financials\n </td>\n\n\n*** WARNING: max output size exceeded, skipping output. ***\n\nvg/17px-Increase2.svg.png 1.5x, //upload.wikimedia.org/wikipedia/commons/thumb/b/b0/Increase2.svg/22px-Increase2.svg.png 2x\" width=\"11\"/></span></span> <span data-sort-value=\"7000300000000000000♠\" style=\"display:none\"></span> 10.6%\n </td>\n <td style=\"text-align:center;\">84,900\n </td>\n <td><a href=\"/wiki/San_Jose,_California\" title=\"San Jose, California\">San Jose, California</a>\n </td></tr>,\n <tr>\n <td>75\n </td>\n <td><a href=\"/wiki/Nationwide_Mutual_Insurance_Company\" title=\"Nationwide Mutual Insurance Company\">Nationwide Mutual Insurance Company</a>\n </td>\n <td>Financial\n </td>\n <td style=\"text-align:center;\">54,609\n </td>\n <td style=\"text-align:center;\"><span typeof=\"mw:File\"><span title=\"Increase\"><img alt=\"Increase\" class=\"mw-file-element\" data-file-height=\"300\" data-file-width=\"300\" decoding=\"async\" height=\"11\" src=\"//upload.wikimedia.org/wikipedia/commons/thumb/b/b0/Increase2.svg/11px-Increase2.svg.png\" srcset=\"//upload.wikimedia.org/wikipedia/commons/thumb/b/b0/Increase2.svg/17px-Increase2.svg.png 1.5x, //upload.wikimedia.org/wikipedia/commons/thumb/b/b0/Increase2.svg/22px-Increase2.svg.png 2x\" width=\"11\"/></span></span> <span data-sort-value=\"7000300000000000000♠\" style=\"display:none\"></span> 6.1%\n </td>\n <td style=\"text-align:center;\">24,118\n </td>\n <td><a href=\"/wiki/Columbus,_Ohio\" title=\"Columbus, Ohio\">Columbus, Ohio</a>\n </td></tr>,\n <tr>\n <td>76\n </td>\n <td><a href=\"/wiki/Charter_Communications\" title=\"Charter Communications\">Charter Communications</a>\n </td>\n <td>Telecommunications\n </td>\n <td style=\"text-align:center;\">54,607\n </td>\n <td style=\"text-align:center;\"><span typeof=\"mw:File\"><span title=\"Increase\"><img alt=\"Increase\" class=\"mw-file-element\" data-file-height=\"300\" data-file-width=\"300\" decoding=\"async\" height=\"11\" src=\"//upload.wikimedia.org/wikipedia/commons/thumb/b/b0/Increase2.svg/11px-Increase2.svg.png\" srcset=\"//upload.wikimedia.org/wikipedia/commons/thumb/b/b0/Increase2.svg/17px-Increase2.svg.png 1.5x, //upload.wikimedia.org/wikipedia/commons/thumb/b/b0/Increase2.svg/22px-Increase2.svg.png 2x\" width=\"11\"/></span></span> <span data-sort-value=\"7000300000000000000♠\" style=\"display:none\"></span> 1.1%\n </td>\n <td style=\"text-align:center;\">101,100\n </td>\n <td><a href=\"/wiki/Stamford,_Connecticut\" title=\"Stamford, Connecticut\">Stamford, Connecticut</a>\n </td></tr>,\n <tr>\n <td>77\n </td>\n <td><a href=\"/wiki/AbbVie\" title=\"AbbVie\">AbbVie</a>\n </td>\n <td>Pharmaceutical industry\n </td>\n <td style=\"text-align:center;\">54,317\n </td>\n <td style=\"text-align:center;\"><span typeof=\"mw:File\"><span title=\"Decrease\"><img alt=\"Decrease\" class=\"mw-file-element\" data-file-height=\"300\" data-file-width=\"300\" decoding=\"async\" height=\"11\" src=\"//upload.wikimedia.org/wikipedia/commons/thumb/e/ed/Decrease2.svg/11px-Decrease2.svg.png\" srcset=\"//upload.wikimedia.org/wikipedia/commons/thumb/e/ed/Decrease2.svg/17px-Decrease2.svg.png 1.5x, //upload.wikimedia.org/wikipedia/commons/thumb/e/ed/Decrease2.svg/22px-Decrease2.svg.png 2x\" width=\"11\"/></span></span> <span data-sort-value=\"2999450000000000000♠\" style=\"display:none\"></span> -6.4%\n </td>\n <td style=\"text-align:center;\">50,000\n </td>\n <td><a href=\"/wiki/Lake_Bluff,_Illinois\" title=\"Lake Bluff, Illinois\">Lake Bluff, Illinois</a>\n </td></tr>,\n <tr>\n <td>78\n </td>\n <td><a href=\"/wiki/New_York_Life_Insurance_Company\" title=\"New York Life Insurance Company\">New York Life Insurance Company</a>\n </td>\n <td>Insurance\n </td>\n <td style=\"text-align:center;\">54,317\n </td>\n <td style=\"text-align:center;\"><span typeof=\"mw:File\"><span title=\"Increase\"><img alt=\"Increase\" class=\"mw-file-element\" data-file-height=\"300\" data-file-width=\"300\" decoding=\"async\" height=\"11\" src=\"//upload.wikimedia.org/wikipedia/commons/thumb/b/b0/Increase2.svg/11px-Increase2.svg.png\" srcset=\"//upload.wikimedia.org/wikipedia/commons/thumb/b/b0/Increase2.svg/17px-Increase2.svg.png 1.5x, //upload.wikimedia.org/wikipedia/commons/thumb/b/b0/Increase2.svg/22px-Increase2.svg.png 2x\" width=\"11\"/></span></span> <span data-sort-value=\"7000300000000000000♠\" style=\"display:none\"></span> 14.2%\n </td>\n <td style=\"text-align:center;\">15,384\n </td>\n <td><a href=\"/wiki/New_York_City\" title=\"New York City\">New York City, New York</a>\n </td></tr>,\n <tr>\n <td>79\n </td>\n <td><a href=\"/wiki/Intel\" title=\"Intel\">Intel</a>\n </td>\n <td>Technology\n </td>\n <td style=\"text-align:center;\">54,228\n </td>\n <td style=\"text-align:center;\"><span typeof=\"mw:File\"><span title=\"Decrease\"><img alt=\"Decrease\" class=\"mw-file-element\" data-file-height=\"300\" data-file-width=\"300\" decoding=\"async\" height=\"11\" src=\"//upload.wikimedia.org/wikipedia/commons/thumb/e/ed/Decrease2.svg/11px-Decrease2.svg.png\" srcset=\"//upload.wikimedia.org/wikipedia/commons/thumb/e/ed/Decrease2.svg/17px-Decrease2.svg.png 1.5x, //upload.wikimedia.org/wikipedia/commons/thumb/e/ed/Decrease2.svg/22px-Decrease2.svg.png 2x\" width=\"11\"/></span></span> <span data-sort-value=\"2999450000000000000♠\" style=\"display:none\"></span> -14.0%\n </td>\n <td style=\"text-align:center;\">124,800\n </td>\n <td><a href=\"/wiki/Santa_Clara,_California\" title=\"Santa Clara, California\">Santa Clara, California</a>\n </td></tr>,\n <tr>\n <td>80\n </td>\n <td><a class=\"mw-redirect\" href=\"/wiki/TJX\" title=\"TJX\">TJX</a>\n </td>\n <td>Retail\n </td>\n <td style=\"text-align:center;\">49,936\n </td>\n <td style=\"text-align:center;\"><span typeof=\"mw:File\"><span title=\"Increase\"><img alt=\"Increase\" class=\"mw-file-element\" data-file-height=\"300\" data-file-width=\"300\" decoding=\"async\" height=\"11\" src=\"//upload.wikimedia.org/wikipedia/commons/thumb/b/b0/Increase2.svg/11px-Increase2.svg.png\" srcset=\"//upload.wikimedia.org/wikipedia/commons/thumb/b/b0/Increase2.svg/17px-Increase2.svg.png 1.5x, //upload.wikimedia.org/wikipedia/commons/thumb/b/b0/Increase2.svg/22px-Increase2.svg.png 2x\" width=\"11\"/></span></span> <span data-sort-value=\"7000300000000000000♠\" style=\"display:none\"></span> 2.9%\n </td>\n <td style=\"text-align:center;\">329,000\n </td>\n <td><a href=\"/wiki/Framingham,_Massachusetts\" title=\"Framingham, Massachusetts\">Framingham, Massachusetts</a>\n </td></tr>,\n <tr>\n <td>81\n </td>\n <td><a href=\"/wiki/Prudential_Financial\" title=\"Prudential Financial\">Prudential Financial</a>\n </td>\n <td>Financials\n </td>\n <td style=\"text-align:center;\">53,979\n </td>\n <td style=\"text-align:center;\"><span typeof=\"mw:File\"><span title=\"Decrease\"><img alt=\"Decrease\" class=\"mw-file-element\" data-file-height=\"300\" data-file-width=\"300\" decoding=\"async\" height=\"11\" src=\"//upload.wikimedia.org/wikipedia/commons/thumb/e/ed/Decrease2.svg/11px-Decrease2.svg.png\" srcset=\"//upload.wikimedia.org/wikipedia/commons/thumb/e/ed/Decrease2.svg/17px-Decrease2.svg.png 1.5x, //upload.wikimedia.org/wikipedia/commons/thumb/e/ed/Decrease2.svg/22px-Decrease2.svg.png 2x\" width=\"11\"/></span></span> <span data-sort-value=\"2999450000000000000♠\" style=\"display:none\"></span> -10.1%\n </td>\n <td style=\"text-align:center;\">40,366\n </td>\n <td><a href=\"/wiki/Newark,_New_Jersey\" title=\"Newark, New Jersey\">Newark, New Jersey</a>\n </td></tr>,\n <tr>\n <td>82\n </td>\n <td><a class=\"mw-redirect\" href=\"/wiki/HP_Inc\" title=\"HP Inc\">HP</a>\n </td>\n <td>Technology\n </td>\n <td style=\"text-align:center;\">53,718\n </td>\n <td style=\"text-align:center;\"><span typeof=\"mw:File\"><span title=\"Decrease\"><img alt=\"Decrease\" class=\"mw-file-element\" data-file-height=\"300\" data-file-width=\"300\" decoding=\"async\" height=\"11\" src=\"//upload.wikimedia.org/wikipedia/commons/thumb/e/ed/Decrease2.svg/11px-Decrease2.svg.png\" srcset=\"//upload.wikimedia.org/wikipedia/commons/thumb/e/ed/Decrease2.svg/17px-Decrease2.svg.png 1.5x, //upload.wikimedia.org/wikipedia/commons/thumb/e/ed/Decrease2.svg/22px-Decrease2.svg.png 2x\" width=\"11\"/></span></span> <span data-sort-value=\"2999450000000000000♠\" style=\"display:none\"></span> -14.5%\n </td>\n <td style=\"text-align:center;\">58,000\n </td>\n <td><a href=\"/wiki/Palo_Alto,_California\" title=\"Palo Alto, California\">Palo Alto, California</a>\n </td></tr>,\n <tr>\n <td>83\n </td>\n <td><a href=\"/wiki/United_Airlines\" title=\"United Airlines\">United Airlines</a>\n </td>\n <td>Airline\n </td>\n <td style=\"text-align:center;\">53,717\n </td>\n <td style=\"text-align:center;\"><span typeof=\"mw:File\"><span title=\"Increase\"><img alt=\"Increase\" class=\"mw-file-element\" data-file-height=\"300\" data-file-width=\"300\" decoding=\"async\" height=\"11\" src=\"//upload.wikimedia.org/wikipedia/commons/thumb/b/b0/Increase2.svg/11px-Increase2.svg.png\" srcset=\"//upload.wikimedia.org/wikipedia/commons/thumb/b/b0/Increase2.svg/17px-Increase2.svg.png 1.5x, //upload.wikimedia.org/wikipedia/commons/thumb/b/b0/Increase2.svg/22px-Increase2.svg.png 2x\" width=\"11\"/></span></span> <span data-sort-value=\"7000300000000000000♠\" style=\"display:none\"></span> 19.5%\n </td>\n <td style=\"text-align:center;\">103,300\n </td>\n <td><a class=\"mw-redirect\" href=\"/wiki/Chicago_Illinois\" title=\"Chicago Illinois\">Chicago, Illinois</a>\n </td></tr>,\n <tr>\n <td>84\n </td>\n <td><a href=\"/wiki/Performance_Food_Group\" title=\"Performance Food Group\">Performance Food Group</a>\n </td>\n <td>Food processing\n </td>\n <td style=\"text-align:center;\">53,355\n </td>\n <td style=\"text-align:center;\"><span typeof=\"mw:File\"><span title=\"Increase\"><img alt=\"Increase\" class=\"mw-file-element\" data-file-height=\"300\" data-file-width=\"300\" decoding=\"async\" height=\"11\" src=\"//upload.wikimedia.org/wikipedia/commons/thumb/b/b0/Increase2.svg/11px-Increase2.svg.png\" srcset=\"//upload.wikimedia.org/wikipedia/commons/thumb/b/b0/Increase2.svg/17px-Increase2.svg.png 1.5x, //upload.wikimedia.org/wikipedia/commons/thumb/b/b0/Increase2.svg/22px-Increase2.svg.png 2x\" width=\"11\"/></span></span> <span data-sort-value=\"7000300000000000000♠\" style=\"display:none\"></span> 13.1%\n </td>\n <td style=\"text-align:center;\">34,825\n </td>\n <td><a href=\"/wiki/Richmond,_Virginia\" title=\"Richmond, Virginia\">Richmond, Virginia</a>\n </td></tr>,\n <tr>\n <td>85\n </td>\n <td><a href=\"/wiki/Tyson_Foods\" title=\"Tyson Foods\">Tyson Foods</a>\n </td>\n <td>Food processing\n </td>\n <td style=\"text-align:center;\">52,788\n </td>\n <td style=\"text-align:center;\"><span typeof=\"mw:File\"><span title=\"Decrease\"><img alt=\"Decrease\" class=\"mw-file-element\" data-file-height=\"300\" data-file-width=\"300\" decoding=\"async\" height=\"11\" src=\"//upload.wikimedia.org/wikipedia/commons/thumb/e/ed/Decrease2.svg/11px-Decrease2.svg.png\" srcset=\"//upload.wikimedia.org/wikipedia/commons/thumb/e/ed/Decrease2.svg/17px-Decrease2.svg.png 1.5x, //upload.wikimedia.org/wikipedia/commons/thumb/e/ed/Decrease2.svg/22px-Decrease2.svg.png 2x\" width=\"11\"/></span></span> <span data-sort-value=\"2999450000000000000♠\" style=\"display:none\"></span> -0.8%\n </td>\n <td style=\"text-align:center;\">139,000\n </td>\n <td><a href=\"/wiki/Springdale,_Arkansas\" title=\"Springdale, Arkansas\">Springdale, Arkansas</a>\n </td></tr>,\n <tr>\n <td>86\n </td>\n <td><a href=\"/wiki/American_Airlines\" title=\"American Airlines\">American Airlines</a>\n </td>\n <td>Airline\n </td>\n <td style=\"text-align:center;\">52,788\n </td>\n <td style=\"text-align:center;\"><span typeof=\"mw:File\"><span title=\"Increase\"><img alt=\"Increase\" class=\"mw-file-element\" data-file-height=\"300\" data-file-width=\"300\" decoding=\"async\" height=\"11\" src=\"//upload.wikimedia.org/wikipedia/commons/thumb/b/b0/Increase2.svg/11px-Increase2.svg.png\" srcset=\"//upload.wikimedia.org/wikipedia/commons/thumb/b/b0/Increase2.svg/17px-Increase2.svg.png 1.5x, //upload.wikimedia.org/wikipedia/commons/thumb/b/b0/Increase2.svg/22px-Increase2.svg.png 2x\" width=\"11\"/></span></span> <span data-sort-value=\"7000300000000000000♠\" style=\"display:none\"></span> 7.8%\n </td>\n <td style=\"text-align:center;\">132,100\n </td>\n <td><a href=\"/wiki/Fort_Worth,_Texas\" title=\"Fort Worth, Texas\">Fort Worth, Texas</a>\n </td></tr>,\n <tr>\n <td>87\n </td>\n <td><a href=\"/wiki/Liberty_Mutual\" title=\"Liberty Mutual\">Liberty Mutual</a>\n </td>\n <td>Insurance\n </td>\n <td style=\"text-align:center;\">52,612\n </td>\n <td style=\"text-align:center;\"><span typeof=\"mw:File\"><span title=\"Increase\"><img alt=\"Increase\" class=\"mw-file-element\" data-file-height=\"300\" data-file-width=\"300\" decoding=\"async\" height=\"11\" src=\"//upload.wikimedia.org/wikipedia/commons/thumb/b/b0/Increase2.svg/11px-Increase2.svg.png\" srcset=\"//upload.wikimedia.org/wikipedia/commons/thumb/b/b0/Increase2.svg/17px-Increase2.svg.png 1.5x, //upload.wikimedia.org/wikipedia/commons/thumb/b/b0/Increase2.svg/22px-Increase2.svg.png 2x\" width=\"11\"/></span></span> <span data-sort-value=\"7000300000000000000♠\" style=\"display:none\"></span> 5.3%\n </td>\n <td style=\"text-align:center;\">45,000\n </td>\n <td><a href=\"/wiki/Boston\" title=\"Boston\">Boston, Massachusetts</a>\n </td></tr>,\n <tr>\n <td>88\n </td>\n <td><a class=\"mw-redirect\" href=\"/wiki/Nike_Inc\" title=\"Nike Inc\">Nike</a>\n </td>\n <td>Apparel\n </td>\n <td style=\"text-align:center;\">51,217\n </td>\n <td style=\"text-align:center;\"><span typeof=\"mw:File\"><span title=\"Increase\"><img alt=\"Increase\" class=\"mw-file-element\" data-file-height=\"300\" data-file-width=\"300\" decoding=\"async\" height=\"11\" src=\"//upload.wikimedia.org/wikipedia/commons/thumb/b/b0/Increase2.svg/11px-Increase2.svg.png\" srcset=\"//upload.wikimedia.org/wikipedia/commons/thumb/b/b0/Increase2.svg/17px-Increase2.svg.png 1.5x, //upload.wikimedia.org/wikipedia/commons/thumb/b/b0/Increase2.svg/22px-Increase2.svg.png 2x\" width=\"11\"/></span></span> <span data-sort-value=\"7000300000000000000♠\" style=\"display:none\"></span> 9.6%\n </td>\n <td style=\"text-align:center;\">83,700\n </td>\n <td><a href=\"/wiki/Beaverton,_Oregon\" title=\"Beaverton, Oregon\">Beaverton, Oregon</a>\n </td></tr>,\n <tr>\n <td>89\n </td>\n <td><a href=\"/wiki/Oracle_Corporation\" title=\"Oracle Corporation\">Oracle Corporation</a>\n </td>\n <td>Technology\n </td>\n <td style=\"text-align:center;\">49,954\n </td>\n <td style=\"text-align:center;\"><span typeof=\"mw:File\"><span title=\"Increase\"><img alt=\"Increase\" class=\"mw-file-element\" data-file-height=\"300\" data-file-width=\"300\" decoding=\"async\" height=\"11\" src=\"//upload.wikimedia.org/wikipedia/commons/thumb/b/b0/Increase2.svg/11px-Increase2.svg.png\" srcset=\"//upload.wikimedia.org/wikipedia/commons/thumb/b/b0/Increase2.svg/17px-Increase2.svg.png 1.5x, //upload.wikimedia.org/wikipedia/commons/thumb/b/b0/Increase2.svg/22px-Increase2.svg.png 2x\" width=\"11\"/></span></span> <span data-sort-value=\"7000500000000000000♠\" style=\"display:none\"></span> 17.7%\n </td>\n <td style=\"text-align:center;\">164,000\n </td>\n <td><a href=\"/wiki/Austin,_Texas\" title=\"Austin, Texas\">Austin, Texas</a>\n </td></tr>,\n <tr>\n <td>90\n </td>\n <td><a href=\"/wiki/Enterprise_Products\" title=\"Enterprise Products\">Enterprise Products</a>\n </td>\n <td>Petroleum industry\n </td>\n <td style=\"text-align:center;\">49,715\n </td>\n <td style=\"text-align:center;\"><span typeof=\"mw:File\"><span title=\"Decrease\"><img alt=\"Decrease\" class=\"mw-file-element\" data-file-height=\"300\" data-file-width=\"300\" decoding=\"async\" height=\"11\" src=\"//upload.wikimedia.org/wikipedia/commons/thumb/e/ed/Decrease2.svg/11px-Decrease2.svg.png\" srcset=\"//upload.wikimedia.org/wikipedia/commons/thumb/e/ed/Decrease2.svg/17px-Decrease2.svg.png 1.5x, //upload.wikimedia.org/wikipedia/commons/thumb/e/ed/Decrease2.svg/22px-Decrease2.svg.png 2x\" width=\"11\"/></span></span> <span data-sort-value=\"2999450000000000000♠\" style=\"display:none\"></span> -14.6%\n </td>\n <td style=\"text-align:center;\">7,500\n </td>\n <td><a class=\"mw-redirect\" href=\"/wiki/Houston,_Texas\" title=\"Houston, Texas\">Houston, Texas</a>\n </td></tr>,\n <tr>\n <td>91\n </td>\n <td><a class=\"mw-redirect\" href=\"/wiki/Capital_One_Financial\" title=\"Capital One Financial\">Capital One Financial</a>\n </td>\n <td>Financials\n </td>\n <td style=\"text-align:center;\">49,484\n </td>\n <td style=\"text-align:center;\"><span typeof=\"mw:File\"><span title=\"Increase\"><img alt=\"Increase\" class=\"mw-file-element\" data-file-height=\"300\" data-file-width=\"300\" decoding=\"async\" height=\"11\" src=\"//upload.wikimedia.org/wikipedia/commons/thumb/b/b0/Increase2.svg/11px-Increase2.svg.png\" srcset=\"//upload.wikimedia.org/wikipedia/commons/thumb/b/b0/Increase2.svg/17px-Increase2.svg.png 1.5x, //upload.wikimedia.org/wikipedia/commons/thumb/b/b0/Increase2.svg/22px-Increase2.svg.png 2x\" width=\"11\"/></span></span> <span data-sort-value=\"7000300000000000000♠\" style=\"display:none\"></span> 29.0%\n </td>\n <td style=\"text-align:center;\">51,987\n </td>\n <td><a href=\"/wiki/Richmond,_Virginia\" title=\"Richmond, Virginia\">Richmond, Virginia</a>\n </td></tr>,\n <tr>\n <td>92\n </td>\n <td><a href=\"/wiki/Plains_All_American_Pipeline\" title=\"Plains All American Pipeline\">Plains All American Pipeline</a>\n </td>\n <td>Petroleum industry\n </td>\n <td style=\"text-align:center;\">48,712\n </td>\n <td style=\"text-align:center;\"><span typeof=\"mw:File\"><span title=\"Decrease\"><img alt=\"Decrease\" class=\"mw-file-element\" data-file-height=\"300\" data-file-width=\"300\" decoding=\"async\" height=\"11\" src=\"//upload.wikimedia.org/wikipedia/commons/thumb/e/ed/Decrease2.svg/11px-Decrease2.svg.png\" srcset=\"//upload.wikimedia.org/wikipedia/commons/thumb/e/ed/Decrease2.svg/17px-Decrease2.svg.png 1.5x, //upload.wikimedia.org/wikipedia/commons/thumb/e/ed/Decrease2.svg/22px-Decrease2.svg.png 2x\" width=\"11\"/></span></span> <span data-sort-value=\"2999450000000000000♠\" style=\"display:none\"></span> -15.1%\n </td>\n <td style=\"text-align:center;\">4,200\n </td>\n <td><a class=\"mw-redirect\" href=\"/wiki/Houston,_Texas\" title=\"Houston, Texas\">Houston, Texas</a>\n </td></tr>,\n <tr>\n <td>93\n </td>\n <td><a href=\"/wiki/World_Kinect_Corporation\" title=\"World Kinect Corporation\">World Kinect Corporation</a>\n </td>\n <td>Energy trading\n </td>\n <td style=\"text-align:center;\">47,711\n </td>\n <td style=\"text-align:center;\"><span typeof=\"mw:File\"><span title=\"Decrease\"><img alt=\"Decrease\" class=\"mw-file-element\" data-file-height=\"300\" data-file-width=\"300\" decoding=\"async\" height=\"11\" src=\"//upload.wikimedia.org/wikipedia/commons/thumb/e/ed/Decrease2.svg/11px-Decrease2.svg.png\" srcset=\"//upload.wikimedia.org/wikipedia/commons/thumb/e/ed/Decrease2.svg/17px-Decrease2.svg.png 1.5x, //upload.wikimedia.org/wikipedia/commons/thumb/e/ed/Decrease2.svg/22px-Decrease2.svg.png 2x\" width=\"11\"/></span></span> <span data-sort-value=\"2999450000000000000♠\" style=\"display:none\"></span> -19.2%\n </td>\n <td style=\"text-align:center;\">5,289\n </td>\n <td><a href=\"/wiki/Doral,_Florida\" title=\"Doral, Florida\">Doral</a>, <a href=\"/wiki/Florida\" title=\"Florida\">Florida</a>\n </td></tr>,\n <tr>\n <td>94\n </td>\n <td><a class=\"mw-redirect\" href=\"/wiki/AIG\" title=\"AIG\">AIG</a>\n </td>\n <td>Insurance\n </td>\n <td style=\"text-align:center;\">46,802\n </td>\n <td style=\"text-align:center;\"><span typeof=\"mw:File\"><span title=\"Decrease\"><img alt=\"Decrease\" class=\"mw-file-element\" data-file-height=\"300\" data-file-width=\"300\" decoding=\"async\" height=\"11\" src=\"//upload.wikimedia.org/wikipedia/commons/thumb/e/ed/Decrease2.svg/11px-Decrease2.svg.png\" srcset=\"//upload.wikimedia.org/wikipedia/commons/thumb/e/ed/Decrease2.svg/17px-Decrease2.svg.png 1.5x, //upload.wikimedia.org/wikipedia/commons/thumb/e/ed/Decrease2.svg/22px-Decrease2.svg.png 2x\" width=\"11\"/></span></span> <span data-sort-value=\"2999450000000000000♠\" style=\"display:none\"></span> -17.1%\n </td>\n <td style=\"text-align:center;\">25,200\n </td>\n <td><a href=\"/wiki/New_York_City\" title=\"New York City\">New York City, New York</a>\n </td></tr>,\n <tr>\n <td>95\n </td>\n <td><a class=\"mw-redirect\" href=\"/wiki/Coca-Cola_company\" title=\"Coca-Cola company\">Coca-Cola</a>\n </td>\n <td>Beverage\n </td>\n <td style=\"text-align:center;\">45,754\n </td>\n <td style=\"text-align:center;\"><span typeof=\"mw:File\"><span title=\"Increase\"><img alt=\"Increase\" class=\"mw-file-element\" data-file-height=\"300\" data-file-width=\"300\" decoding=\"async\" height=\"11\" src=\"//upload.wikimedia.org/wikipedia/commons/thumb/b/b0/Increase2.svg/11px-Increase2.svg.png\" srcset=\"//upload.wikimedia.org/wikipedia/commons/thumb/b/b0/Increase2.svg/17px-Increase2.svg.png 1.5x, //upload.wikimedia.org/wikipedia/commons/thumb/b/b0/Increase2.svg/22px-Increase2.svg.png 2x\" width=\"11\"/></span></span> <span data-sort-value=\"7000300000000000000♠\" style=\"display:none\"></span> 6.4%\n </td>\n <td style=\"text-align:center;\">79,100\n </td>\n <td><a class=\"mw-redirect\" href=\"/wiki/Atlanta_Georgia\" title=\"Atlanta Georgia\">Atlanta, Georgia</a>\n </td></tr>,\n <tr>\n <td>96\n </td>\n <td><a href=\"/wiki/TIAA\" title=\"TIAA\">TIAA</a>\n </td>\n <td>Financials\n </td>\n <td style=\"text-align:center;\">45,735\n </td>\n <td style=\"text-align:center;\"><span typeof=\"mw:File\"><span title=\"Increase\"><img alt=\"Increase\" class=\"mw-file-element\" data-file-height=\"300\" data-file-width=\"300\" decoding=\"async\" height=\"11\" src=\"//upload.wikimedia.org/wikipedia/commons/thumb/b/b0/Increase2.svg/11px-Increase2.svg.png\" srcset=\"//upload.wikimedia.org/wikipedia/commons/thumb/b/b0/Increase2.svg/17px-Increase2.svg.png 1.5x, //upload.wikimedia.org/wikipedia/commons/thumb/b/b0/Increase2.svg/22px-Increase2.svg.png 2x\" width=\"11\"/></span></span> <span data-sort-value=\"7000300000000000000♠\" style=\"display:none\"></span> 11.8%\n </td>\n <td style=\"text-align:center;\">16,023\n </td>\n <td><a href=\"/wiki/New_York_City\" title=\"New York City\">New York City, New York</a>\n </td></tr>,\n <tr>\n <td>97\n </td>\n <td><a class=\"mw-redirect\" href=\"/wiki/CHS_Inc\" title=\"CHS Inc\">CHS</a>\n </td>\n <td>Agriculture cooperative\n </td>\n <td style=\"text-align:center;\">45,590\n </td>\n <td style=\"text-align:center;\"><span typeof=\"mw:File\"><span title=\"Decrease\"><img alt=\"Decrease\" class=\"mw-file-element\" data-file-height=\"300\" data-file-width=\"300\" decoding=\"async\" height=\"11\" src=\"//upload.wikimedia.org/wikipedia/commons/thumb/e/ed/Decrease2.svg/11px-Decrease2.svg.png\" srcset=\"//upload.wikimedia.org/wikipedia/commons/thumb/e/ed/Decrease2.svg/17px-Decrease2.svg.png 1.5x, //upload.wikimedia.org/wikipedia/commons/thumb/e/ed/Decrease2.svg/22px-Decrease2.svg.png 2x\" width=\"11\"/></span></span> <span data-sort-value=\"2999450000000000000♠\" style=\"display:none\"></span> -4.6%\n </td>\n <td style=\"text-align:center;\">10,609\n </td>\n <td><a class=\"mw-redirect\" href=\"/wiki/Inver_Grove_Heights\" title=\"Inver Grove Heights\">Inver Grove Heights, Minnesota</a>\n </td></tr>,\n <tr>\n <td>98\n </td>\n <td><a class=\"mw-redirect\" href=\"/wiki/Bristol-Myers_Squibb\" title=\"Bristol-Myers Squibb\">Bristol-Myers Squibb</a>\n </td>\n <td>Pharmaceutical industry\n </td>\n <td style=\"text-align:center;\">45,006\n </td>\n <td style=\"text-align:center;\"><span typeof=\"mw:File\"><span title=\"Decrease\"><img alt=\"Decrease\" class=\"mw-file-element\" data-file-height=\"300\" data-file-width=\"300\" decoding=\"async\" height=\"11\" src=\"//upload.wikimedia.org/wikipedia/commons/thumb/e/ed/Decrease2.svg/11px-Decrease2.svg.png\" srcset=\"//upload.wikimedia.org/wikipedia/commons/thumb/e/ed/Decrease2.svg/17px-Decrease2.svg.png 1.5x, //upload.wikimedia.org/wikipedia/commons/thumb/e/ed/Decrease2.svg/22px-Decrease2.svg.png 2x\" width=\"11\"/></span></span> <span data-sort-value=\"2999450000000000000♠\" style=\"display:none\"></span> -2.5%\n </td>\n <td style=\"text-align:center;\">34,100\n </td>\n <td><a href=\"/wiki/New_York_City\" title=\"New York City\">New York City</a>, <a href=\"/wiki/New_York_(state)\" title=\"New York (state)\">New York</a>\n </td></tr>,\n <tr>\n <td>99\n </td>\n <td><a href=\"/wiki/Dow_Chemical_Company\" title=\"Dow Chemical Company\">Dow Chemical Company</a>\n </td>\n <td><a href=\"/wiki/Chemical_industry\" title=\"Chemical industry\">Chemical industry</a>\n </td>\n <td style=\"text-align:center;\">44,622\n </td>\n <td style=\"text-align:center;\"><span typeof=\"mw:File\"><span title=\"Decrease\"><img alt=\"Decrease\" class=\"mw-file-element\" data-file-height=\"300\" data-file-width=\"300\" decoding=\"async\" height=\"11\" src=\"//upload.wikimedia.org/wikipedia/commons/thumb/e/ed/Decrease2.svg/11px-Decrease2.svg.png\" srcset=\"//upload.wikimedia.org/wikipedia/commons/thumb/e/ed/Decrease2.svg/17px-Decrease2.svg.png 1.5x, //upload.wikimedia.org/wikipedia/commons/thumb/e/ed/Decrease2.svg/22px-Decrease2.svg.png 2x\" width=\"11\"/></span></span> <span data-sort-value=\"2999450000000000000♠\" style=\"display:none\"></span> -21.6%\n </td>\n <td style=\"text-align:center;\">35,900\n </td>\n <td><a href=\"/wiki/Midland,_Michigan\" title=\"Midland, Michigan\">Midland, Michigan</a>\n </td></tr>,\n <tr>\n <td>100\n </td>\n <td><a href=\"/wiki/Best_Buy\" title=\"Best Buy\">Best Buy</a>\n </td>\n <td>Retail\n </td>\n <td style=\"text-align:center;\">43,452\n </td>\n <td style=\"text-align:center;\"><span typeof=\"mw:File\"><span title=\"Decrease\"><img alt=\"Decrease\" class=\"mw-file-element\" data-file-height=\"300\" data-file-width=\"300\" decoding=\"async\" height=\"11\" src=\"//upload.wikimedia.org/wikipedia/commons/thumb/e/ed/Decrease2.svg/11px-Decrease2.svg.png\" srcset=\"//upload.wikimedia.org/wikipedia/commons/thumb/e/ed/Decrease2.svg/17px-Decrease2.svg.png 1.5x, //upload.wikimedia.org/wikipedia/commons/thumb/e/ed/Decrease2.svg/22px-Decrease2.svg.png 2x\" width=\"11\"/></span></span> <span data-sort-value=\"2999450000000000000♠\" style=\"display:none\"></span> -6.1%\n </td>\n <td style=\"text-align:center;\">85,000\n </td>\n <td><a href=\"/wiki/Richfield,_Minnesota\" title=\"Richfield, Minnesota\">Richfield, Minnesota</a>\n </td></tr>]"
     ]
    }
   ],
   "source": [
    "table.find_all('tr')"
   ]
  },
  {
   "cell_type": "code",
   "execution_count": 0,
   "metadata": {
    "application/vnd.databricks.v1+cell": {
     "cellMetadata": {
      "byteLimit": 2048000,
      "rowLimit": 10000
     },
     "inputWidgets": {},
     "nuid": "e01f9652-41e2-4fa3-a4e3-e80b7e4b5f7c",
     "showTitle": false,
     "tableResultSettingsMap": {},
     "title": ""
    }
   },
   "outputs": [
    {
     "output_type": "stream",
     "name": "stdout",
     "output_type": "stream",
     "text": [
      "['1', 'Walmart', 'Retail', '648,125', '6.0%', '2,100,000', 'Bentonville, Arkansas']\n100\n['2', 'Amazon', 'Retail and cloud computing', '574,785', '11.9%', '1,525,000', 'Seattle, Washington']\n101\n['3', 'Apple', 'Electronics industry', '383,482', '-2.8%', '161,000', 'Cupertino, California']\n102\n['4', 'UnitedHealth Group', 'Healthcare', '371,622', '14.6%', '440,000', 'Minnetonka, Minnesota']\n103\n['5', 'Berkshire Hathaway', 'Conglomerate', '364,482', '20.7%', '396,500', 'Omaha, Nebraska']\n104\n['6', 'CVS Health', 'Healthcare', '357,776', '10.9%', '259,500', 'Woonsocket, Rhode Island']\n105\n['7', 'ExxonMobil', 'Petroleum industry', '344,582', '-16.7%', '61,500', 'Spring, Texas']\n106\n['8', 'Alphabet', 'Technology and cloud computing', '307,394', '8.7%', '182,502', 'Mountain View, California']\n107\n['9', 'McKesson Corporation', 'Health', '276,711', '4.8%', '48,000', 'Irving, Texas']\n108\n['10', 'Cencora', 'Pharmacy wholesale', '262,173', '9.9%', '44,000', 'Conshohocken, Pennsylvania']\n109\n['11', 'Costco', 'Retail', '242,290', '6.8%', '316,000', 'Issaquah, Washington']\n110\n['12', 'JPMorgan Chase', 'Financial services', '239,425', '54.7%', '309,926', 'New York City, New York']\n111\n['13', 'Microsoft', 'Technology and cloud computing', '211,915', '6.9%', '221,000', 'Redmond, Washington']\n112\n['14', 'Cardinal Health', 'Healthcare', '205,012', '13.0%', '47,520', 'Dublin, Ohio']\n113\n['15', 'Chevron Corporation', 'Petroleum industry', '200,949', '-18.4%', '45,600', 'Houston, Texas']\n114\n['16', 'Cigna', 'Health insurance', '195,265', '8.2%', '71,413', 'Bloomfield, Connecticut']\n115\n['17', 'Ford Motor Company', 'Automotive industry', '176,191', '11.5%', '177,000', 'Dearborn, Michigan']\n116\n['18', 'Bank of America', 'Financials', '171,912', '49.4%', '212,985', 'Charlotte, North Carolina']\n117\n['19', 'General Motors', 'Automotive industry', '171,842', '9.6%', '163,000', 'Detroit, Michigan']\n118\n['20', 'Elevance Health', 'Healthcare', '171,340', '9.4%', '104,900', 'Indianapolis, Indiana']\n119\n['21', 'Citigroup', 'Financials', '156,820', '55.1%', '237,925', 'New York City, New York']\n120\n['22', 'Centene', 'Healthcare', '153,999', '6.5%', '67,700', 'St. Louis, Missouri']\n121\n['23', 'The Home Depot', 'Retail', '152,669', '-3.0%', '463,100', 'Atlanta, Georgia']\n122\n['24', 'Marathon Petroleum', 'Petroleum industry', '150,307', '-16.5%', '18,200', 'Findlay, Ohio']\n123\n['25', 'Kroger', 'Retail', '150,039', '-3.6%', '414,000', 'Cincinnati, Ohio']\n124\n['26', 'Phillips 66', 'Petroleum industry', '149,890', '-14.7%', '14,000', 'Houston, Texas']\n125\n['27', 'Fannie Mae', 'Financials', '141,240', '16.2%', '8,100', 'Washington, D.C.']\n126\n['28', 'Walgreens Boots Alliance', 'Pharmaceutical industry', '139,081', '4.8%', '268,500', 'Deerfield, Illinois']\n127\n['29', 'Valero Energy', 'Petroleum industry', '139,001', '-18.8%', '9,987', 'San Antonio, Texas']\n128\n['30', 'Meta Platforms', 'Technology', '134,902', '15.7%', '67,317', 'Menlo Park, California']\n129\n['31', 'Verizon Communications', 'Telecommunications', '133,974', '-2.1%', '105,400', 'New York City, New York']\n130\n['32', 'AT&T', 'Conglomerate and telecommunications', '122,428', '1.4%', '150,470', 'Dallas, Texas']\n131\n['33', 'Comcast', 'Telecommunications', '121,572', '0.1%', '186,000', 'Philadelphia, Pennsylvania']\n132\n['34', 'Wells Fargo', 'Financials', '115,340', '39.2%', '226,000', 'San Francisco, California']\n133\n['35', 'Goldman Sachs', 'Financials', '108,418', '57.8%', '45,300', 'New York City, New York']\n134\n['36', 'Freddie Mac', 'Financials', '108,050', '24.6%', '8,020', 'McLean, Virginia']\n135\n['37', 'Target Corporation', 'Retail', '107,412', '-1.6%', '415,000', 'Minneapolis, Minnesota']\n136\n['38', 'Humana', 'Health insurance', '106,374', '14.5%', '67,600', 'Louisville, Kentucky']\n137\n['39', 'State Farm', 'Financials', '104,199', '16.6%', '65,054', 'Bloomington, Illinois']\n138\n['40', 'Tesla', 'Automotive and energy', '96,773', '18.8%', '140,473', 'Austin, Texas']\n139\n['41', 'Morgan Stanley', 'Financials', '96,194', '45.9%', '80,006', 'New York City, New York']\n140\n['42', 'Johnson & Johnson', 'Pharmaceutical industry', '95,195', '0.3%', '131,900', 'New Brunswick, New Jersey']\n141\n['43', 'Archer Daniels Midland', 'Food industry', '93,935', '-7.5%', '41,008', 'Chicago, Illinois']\n142\n['44', 'PepsiCo', 'Beverage', '91,471', '5.9%', '318,000', 'Purchase, New York']\n143\n['45', 'United Parcel Service', 'Transportation', '90,958', '-9.3%', '382,550', 'Atlanta, Georgia']\n144\n['46', 'FedEx', 'Transportation', '90,155', '-3.6%', '446,400', 'Memphis, Tennessee']\n145\n['47', 'The Walt Disney Company', 'Media', '88,898', '7.5%', '199,125', 'Burbank, California']\n146\n['48', 'Dell Technologies', 'Technology', '88,425', '-13.6%', '120,000', 'Round Rock, Texas']\n147\n['49', \"Lowe's\", 'Retail', '86,377', '-11.0%', '226,000', 'Mooresville, North Carolina']\n148\n['50', 'Procter & Gamble', 'Consumer products manufacturing', '82,006', '2.3%', '107,000', 'Cincinnati, Ohio']\n149\n['51', 'Energy Transfer Partners', 'Petroleum industry', '78,586', '-12.6%', '13,786', 'Dallas, Texas']\n150\n['52', 'Boeing', 'Aerospace and defense', '77,794', '16.8%', '171,000', 'Arlington County, Virginia']\n151\n['53', 'Albertsons', 'Retail', '77,650', '8.0%', '198,650', 'Boise, Idaho']\n152\n['54', 'Sysco', 'Food service', '76,325', '11.2%', '71,750', 'Houston, Texas']\n153\n['55', 'RTX Corporation', 'Conglomerate', '68,920', '2.8%', '185,000', 'Arlington County, Virginia']\n154\n['56', 'General Electric', 'Conglomerate', '67,954', '-11.2%', '125,000', 'Boston, Massachusetts']\n155\n['57', 'Lockheed Martin', 'Aerospace and defense', '67,571', '2.4%', '122,000', 'Bethesda, Maryland']\n156\n['58', 'American Express', 'Financial', '67,364', '21.1%', '74,600', 'New York City, New York']\n157\n['59', 'Caterpillar', 'Machinery', '67,060', '12.8%', '113,200', 'Irving, Texas']\n158\n['60', 'MetLife', 'Financials', '66,905', '-4.3%', '45,000', 'New York City, New York']\n159\n['61', 'HCA Healthcare', 'Healthcare', '64,968', '7.9%', '265,000', 'Nashville, Tennessee']\n160\n['62', 'Progressive Corporation', 'Insurance', '62,109', '25.2%', '61,432', 'Mayfield Village, Ohio']\n161\n['63', 'IBM', 'Technology and cloud computing', '61,860', '-16.3%', '296,600', 'Armonk, New York']\n162\n['64', 'John Deere', 'Agriculture manufacturing', '61,251', '16.5%', '82,956', 'Moline, Illinois']\n163\n['65', 'Nvidia', 'Technology', '60,922', '125.9%', '29,600', 'Santa Clara, California']\n164\n['66', 'StoneX Group', 'Financials', '60,856', '-7.8%', '4,137', 'New York City, New York']\n165\n['67', 'Merck & Co.', 'Pharmaceutical industry', '60,115', '1.4%', '71,000', 'Kenilworth, New Jersey']\n166\n['68', 'ConocoPhillips', 'Petroleum industry', '58,574', '-28.7%', '9,900', 'Houston, Texas']\n167\n['69', 'Pfizer', 'Pharmaceutical industry', '58,496', '-41.7%', '88,000', 'New York City, New York']\n168\n['70', 'Delta Air Lines', 'Airline', '58,048', '14.8%', '103,000', 'Atlanta, Georgia']\n169\n['71', 'TD Synnex', 'Infotech', '57,555', '-7.7%', '28,000', 'Clearwater, Florida']\n170\n['72', 'Publix', 'Retail', '57,534', '4.7%', '253,000', 'Lakeland, Florida']\n171\n['73', 'Allstate', 'Insurance', '57,094', '11.1%', '53,200', 'Northfield Township, Cook County, Illinois']\n172\n['74', 'Cisco', 'Telecom hardware manufacturing', '56,998', '10.6%', '84,900', 'San Jose, California']\n173\n['75', 'Nationwide Mutual Insurance Company', 'Financial', '54,609', '6.1%', '24,118', 'Columbus, Ohio']\n174\n['76', 'Charter Communications', 'Telecommunications', '54,607', '1.1%', '101,100', 'Stamford, Connecticut']\n175\n['77', 'AbbVie', 'Pharmaceutical industry', '54,317', '-6.4%', '50,000', 'Lake Bluff, Illinois']\n176\n['78', 'New York Life Insurance Company', 'Insurance', '54,317', '14.2%', '15,384', 'New York City, New York']\n177\n['79', 'Intel', 'Technology', '54,228', '-14.0%', '124,800', 'Santa Clara, California']\n178\n['80', 'TJX', 'Retail', '49,936', '2.9%', '329,000', 'Framingham, Massachusetts']\n179\n['81', 'Prudential Financial', 'Financials', '53,979', '-10.1%', '40,366', 'Newark, New Jersey']\n180\n['82', 'HP', 'Technology', '53,718', '-14.5%', '58,000', 'Palo Alto, California']\n181\n['83', 'United Airlines', 'Airline', '53,717', '19.5%', '103,300', 'Chicago, Illinois']\n182\n['84', 'Performance Food Group', 'Food processing', '53,355', '13.1%', '34,825', 'Richmond, Virginia']\n183\n['85', 'Tyson Foods', 'Food processing', '52,788', '-0.8%', '139,000', 'Springdale, Arkansas']\n184\n['86', 'American Airlines', 'Airline', '52,788', '7.8%', '132,100', 'Fort Worth, Texas']\n185\n['87', 'Liberty Mutual', 'Insurance', '52,612', '5.3%', '45,000', 'Boston, Massachusetts']\n186\n['88', 'Nike', 'Apparel', '51,217', '9.6%', '83,700', 'Beaverton, Oregon']\n187\n['89', 'Oracle Corporation', 'Technology', '49,954', '17.7%', '164,000', 'Austin, Texas']\n188\n['90', 'Enterprise Products', 'Petroleum industry', '49,715', '-14.6%', '7,500', 'Houston, Texas']\n189\n['91', 'Capital One Financial', 'Financials', '49,484', '29.0%', '51,987', 'Richmond, Virginia']\n190\n['92', 'Plains All American Pipeline', 'Petroleum industry', '48,712', '-15.1%', '4,200', 'Houston, Texas']\n191\n['93', 'World Kinect Corporation', 'Energy trading', '47,711', '-19.2%', '5,289', 'Doral, Florida']\n192\n['94', 'AIG', 'Insurance', '46,802', '-17.1%', '25,200', 'New York City, New York']\n193\n['95', 'Coca-Cola', 'Beverage', '45,754', '6.4%', '79,100', 'Atlanta, Georgia']\n194\n['96', 'TIAA', 'Financials', '45,735', '11.8%', '16,023', 'New York City, New York']\n195\n['97', 'CHS', 'Agriculture cooperative', '45,590', '-4.6%', '10,609', 'Inver Grove Heights, Minnesota']\n196\n['98', 'Bristol-Myers Squibb', 'Pharmaceutical industry', '45,006', '-2.5%', '34,100', 'New York City, New York']\n197\n['99', 'Dow Chemical Company', 'Chemical industry', '44,622', '-21.6%', '35,900', 'Midland, Michigan']\n198\n['100', 'Best Buy', 'Retail', '43,452', '-6.1%', '85,000', 'Richfield, Minnesota']\n199\n"
     ]
    },
    {
     "output_type": "display_data",
     "data": {
      "text/html": [
       "<div>\n",
       "<style scoped>\n",
       "    .dataframe tbody tr th:only-of-type {\n",
       "        vertical-align: middle;\n",
       "    }\n",
       "\n",
       "    .dataframe tbody tr th {\n",
       "        vertical-align: top;\n",
       "    }\n",
       "\n",
       "    .dataframe thead th {\n",
       "        text-align: right;\n",
       "    }\n",
       "</style>\n",
       "<table border=\"1\" class=\"dataframe\">\n",
       "  <thead>\n",
       "    <tr style=\"text-align: right;\">\n",
       "      <th></th>\n",
       "      <th>Rank</th>\n",
       "      <th>Name</th>\n",
       "      <th>Industry</th>\n",
       "      <th>Revenue (USD millions)</th>\n",
       "      <th>Revenue growth</th>\n",
       "      <th>Employees</th>\n",
       "      <th>Headquarters</th>\n",
       "    </tr>\n",
       "  </thead>\n",
       "  <tbody>\n",
       "    <tr>\n",
       "      <th>0</th>\n",
       "      <td>1</td>\n",
       "      <td>Walmart</td>\n",
       "      <td>Retail</td>\n",
       "      <td>648,125</td>\n",
       "      <td>6.0%</td>\n",
       "      <td>2,100,000</td>\n",
       "      <td>Bentonville, Arkansas</td>\n",
       "    </tr>\n",
       "    <tr>\n",
       "      <th>1</th>\n",
       "      <td>2</td>\n",
       "      <td>Amazon</td>\n",
       "      <td>Retail and cloud computing</td>\n",
       "      <td>574,785</td>\n",
       "      <td>11.9%</td>\n",
       "      <td>1,525,000</td>\n",
       "      <td>Seattle, Washington</td>\n",
       "    </tr>\n",
       "    <tr>\n",
       "      <th>2</th>\n",
       "      <td>3</td>\n",
       "      <td>Apple</td>\n",
       "      <td>Electronics industry</td>\n",
       "      <td>383,482</td>\n",
       "      <td>-2.8%</td>\n",
       "      <td>161,000</td>\n",
       "      <td>Cupertino, California</td>\n",
       "    </tr>\n",
       "    <tr>\n",
       "      <th>3</th>\n",
       "      <td>4</td>\n",
       "      <td>UnitedHealth Group</td>\n",
       "      <td>Healthcare</td>\n",
       "      <td>371,622</td>\n",
       "      <td>14.6%</td>\n",
       "      <td>440,000</td>\n",
       "      <td>Minnetonka, Minnesota</td>\n",
       "    </tr>\n",
       "    <tr>\n",
       "      <th>4</th>\n",
       "      <td>5</td>\n",
       "      <td>Berkshire Hathaway</td>\n",
       "      <td>Conglomerate</td>\n",
       "      <td>364,482</td>\n",
       "      <td>20.7%</td>\n",
       "      <td>396,500</td>\n",
       "      <td>Omaha, Nebraska</td>\n",
       "    </tr>\n",
       "    <tr>\n",
       "      <th>...</th>\n",
       "      <td>...</td>\n",
       "      <td>...</td>\n",
       "      <td>...</td>\n",
       "      <td>...</td>\n",
       "      <td>...</td>\n",
       "      <td>...</td>\n",
       "      <td>...</td>\n",
       "    </tr>\n",
       "    <tr>\n",
       "      <th>195</th>\n",
       "      <td>96</td>\n",
       "      <td>TIAA</td>\n",
       "      <td>Financials</td>\n",
       "      <td>45,735</td>\n",
       "      <td>11.8%</td>\n",
       "      <td>16,023</td>\n",
       "      <td>New York City, New York</td>\n",
       "    </tr>\n",
       "    <tr>\n",
       "      <th>196</th>\n",
       "      <td>97</td>\n",
       "      <td>CHS</td>\n",
       "      <td>Agriculture cooperative</td>\n",
       "      <td>45,590</td>\n",
       "      <td>-4.6%</td>\n",
       "      <td>10,609</td>\n",
       "      <td>Inver Grove Heights, Minnesota</td>\n",
       "    </tr>\n",
       "    <tr>\n",
       "      <th>197</th>\n",
       "      <td>98</td>\n",
       "      <td>Bristol-Myers Squibb</td>\n",
       "      <td>Pharmaceutical industry</td>\n",
       "      <td>45,006</td>\n",
       "      <td>-2.5%</td>\n",
       "      <td>34,100</td>\n",
       "      <td>New York City, New York</td>\n",
       "    </tr>\n",
       "    <tr>\n",
       "      <th>198</th>\n",
       "      <td>99</td>\n",
       "      <td>Dow Chemical Company</td>\n",
       "      <td>Chemical industry</td>\n",
       "      <td>44,622</td>\n",
       "      <td>-21.6%</td>\n",
       "      <td>35,900</td>\n",
       "      <td>Midland, Michigan</td>\n",
       "    </tr>\n",
       "    <tr>\n",
       "      <th>199</th>\n",
       "      <td>100</td>\n",
       "      <td>Best Buy</td>\n",
       "      <td>Retail</td>\n",
       "      <td>43,452</td>\n",
       "      <td>-6.1%</td>\n",
       "      <td>85,000</td>\n",
       "      <td>Richfield, Minnesota</td>\n",
       "    </tr>\n",
       "  </tbody>\n",
       "</table>\n",
       "<p>200 rows × 7 columns</p>\n",
       "</div>"
      ]
     },
     "metadata": {
      "application/vnd.databricks.v1+output": {
       "addedWidgets": {},
       "arguments": {},
       "data": "<div>\n<style scoped>\n    .dataframe tbody tr th:only-of-type {\n        vertical-align: middle;\n    }\n\n    .dataframe tbody tr th {\n        vertical-align: top;\n    }\n\n    .dataframe thead th {\n        text-align: right;\n    }\n</style>\n<table border=\"1\" class=\"dataframe\">\n  <thead>\n    <tr style=\"text-align: right;\">\n      <th></th>\n      <th>Rank</th>\n      <th>Name</th>\n      <th>Industry</th>\n      <th>Revenue (USD millions)</th>\n      <th>Revenue growth</th>\n      <th>Employees</th>\n      <th>Headquarters</th>\n    </tr>\n  </thead>\n  <tbody>\n    <tr>\n      <th>0</th>\n      <td>1</td>\n      <td>Walmart</td>\n      <td>Retail</td>\n      <td>648,125</td>\n      <td>6.0%</td>\n      <td>2,100,000</td>\n      <td>Bentonville, Arkansas</td>\n    </tr>\n    <tr>\n      <th>1</th>\n      <td>2</td>\n      <td>Amazon</td>\n      <td>Retail and cloud computing</td>\n      <td>574,785</td>\n      <td>11.9%</td>\n      <td>1,525,000</td>\n      <td>Seattle, Washington</td>\n    </tr>\n    <tr>\n      <th>2</th>\n      <td>3</td>\n      <td>Apple</td>\n      <td>Electronics industry</td>\n      <td>383,482</td>\n      <td>-2.8%</td>\n      <td>161,000</td>\n      <td>Cupertino, California</td>\n    </tr>\n    <tr>\n      <th>3</th>\n      <td>4</td>\n      <td>UnitedHealth Group</td>\n      <td>Healthcare</td>\n      <td>371,622</td>\n      <td>14.6%</td>\n      <td>440,000</td>\n      <td>Minnetonka, Minnesota</td>\n    </tr>\n    <tr>\n      <th>4</th>\n      <td>5</td>\n      <td>Berkshire Hathaway</td>\n      <td>Conglomerate</td>\n      <td>364,482</td>\n      <td>20.7%</td>\n      <td>396,500</td>\n      <td>Omaha, Nebraska</td>\n    </tr>\n    <tr>\n      <th>...</th>\n      <td>...</td>\n      <td>...</td>\n      <td>...</td>\n      <td>...</td>\n      <td>...</td>\n      <td>...</td>\n      <td>...</td>\n    </tr>\n    <tr>\n      <th>195</th>\n      <td>96</td>\n      <td>TIAA</td>\n      <td>Financials</td>\n      <td>45,735</td>\n      <td>11.8%</td>\n      <td>16,023</td>\n      <td>New York City, New York</td>\n    </tr>\n    <tr>\n      <th>196</th>\n      <td>97</td>\n      <td>CHS</td>\n      <td>Agriculture cooperative</td>\n      <td>45,590</td>\n      <td>-4.6%</td>\n      <td>10,609</td>\n      <td>Inver Grove Heights, Minnesota</td>\n    </tr>\n    <tr>\n      <th>197</th>\n      <td>98</td>\n      <td>Bristol-Myers Squibb</td>\n      <td>Pharmaceutical industry</td>\n      <td>45,006</td>\n      <td>-2.5%</td>\n      <td>34,100</td>\n      <td>New York City, New York</td>\n    </tr>\n    <tr>\n      <th>198</th>\n      <td>99</td>\n      <td>Dow Chemical Company</td>\n      <td>Chemical industry</td>\n      <td>44,622</td>\n      <td>-21.6%</td>\n      <td>35,900</td>\n      <td>Midland, Michigan</td>\n    </tr>\n    <tr>\n      <th>199</th>\n      <td>100</td>\n      <td>Best Buy</td>\n      <td>Retail</td>\n      <td>43,452</td>\n      <td>-6.1%</td>\n      <td>85,000</td>\n      <td>Richfield, Minnesota</td>\n    </tr>\n  </tbody>\n</table>\n<p>200 rows × 7 columns</p>\n</div>",
       "datasetInfos": [],
       "metadata": {},
       "removedWidgets": [],
       "textData": null,
       "type": "htmlSandbox"
      }
     },
     "output_type": "display_data"
    }
   ],
   "source": [
    "column_data = table.find_all('tr')\n",
    "for row in column_data[1:]:\n",
    "    row_data = row.find_all('td')\n",
    "    individual_row_data = [data.text.strip() for data in row_data]\n",
    "    print(individual_row_data)\n",
    "\n",
    "    length = len(df)\n",
    "    print(length)\n",
    "    df.loc[length]=individual_row_data\n",
    "\n",
    "df  "
   ]
  },
  {
   "cell_type": "code",
   "execution_count": 0,
   "metadata": {
    "application/vnd.databricks.v1+cell": {
     "cellMetadata": {
      "byteLimit": 2048000,
      "rowLimit": 10000
     },
     "inputWidgets": {},
     "nuid": "1754c538-d7a0-4eb0-b36e-8e0d79c98e9f",
     "showTitle": false,
     "tableResultSettingsMap": {},
     "title": ""
    }
   },
   "outputs": [
    {
     "output_type": "display_data",
     "data": {
      "text/html": [
       "<style scoped>\n",
       "  .table-result-container {\n",
       "    max-height: 300px;\n",
       "    overflow: auto;\n",
       "  }\n",
       "  table, th, td {\n",
       "    border: 1px solid black;\n",
       "    border-collapse: collapse;\n",
       "  }\n",
       "  th, td {\n",
       "    padding: 5px;\n",
       "  }\n",
       "  th {\n",
       "    text-align: left;\n",
       "  }\n",
       "</style><div class='table-result-container'><table class='table-result'><thead style='background-color: white'><tr><th>Rank</th><th>Name</th><th>Industry</th><th>Revenue (USD millions)</th><th>Revenue growth</th><th>Employees</th><th>Headquarters</th></tr></thead><tbody><tr><td>1</td><td>Walmart</td><td>Retail</td><td>648,125</td><td>6.0%</td><td>2,100,000</td><td>Bentonville, Arkansas</td></tr><tr><td>2</td><td>Amazon</td><td>Retail and cloud computing</td><td>574,785</td><td>11.9%</td><td>1,525,000</td><td>Seattle, Washington</td></tr><tr><td>3</td><td>Apple</td><td>Electronics industry</td><td>383,482</td><td>-2.8%</td><td>161,000</td><td>Cupertino, California</td></tr><tr><td>4</td><td>UnitedHealth Group</td><td>Healthcare</td><td>371,622</td><td>14.6%</td><td>440,000</td><td>Minnetonka, Minnesota</td></tr><tr><td>5</td><td>Berkshire Hathaway</td><td>Conglomerate</td><td>364,482</td><td>20.7%</td><td>396,500</td><td>Omaha, Nebraska</td></tr><tr><td>6</td><td>CVS Health</td><td>Healthcare</td><td>357,776</td><td>10.9%</td><td>259,500</td><td>Woonsocket, Rhode Island</td></tr><tr><td>7</td><td>ExxonMobil</td><td>Petroleum industry</td><td>344,582</td><td>-16.7%</td><td>61,500</td><td>Spring, Texas</td></tr><tr><td>8</td><td>Alphabet</td><td>Technology and cloud computing</td><td>307,394</td><td>8.7%</td><td>182,502</td><td>Mountain View, California</td></tr><tr><td>9</td><td>McKesson Corporation</td><td>Health</td><td>276,711</td><td>4.8%</td><td>48,000</td><td>Irving, Texas</td></tr><tr><td>10</td><td>Cencora</td><td>Pharmacy wholesale</td><td>262,173</td><td>9.9%</td><td>44,000</td><td>Conshohocken, Pennsylvania</td></tr><tr><td>11</td><td>Costco</td><td>Retail</td><td>242,290</td><td>6.8%</td><td>316,000</td><td>Issaquah, Washington</td></tr><tr><td>12</td><td>JPMorgan Chase</td><td>Financial services</td><td>239,425</td><td>54.7%</td><td>309,926</td><td>New York City, New York</td></tr><tr><td>13</td><td>Microsoft</td><td>Technology and cloud computing</td><td>211,915</td><td>6.9%</td><td>221,000</td><td>Redmond, Washington</td></tr><tr><td>14</td><td>Cardinal Health</td><td>Healthcare</td><td>205,012</td><td>13.0%</td><td>47,520</td><td>Dublin, Ohio</td></tr><tr><td>15</td><td>Chevron Corporation</td><td>Petroleum industry</td><td>200,949</td><td>-18.4%</td><td>45,600</td><td>Houston, Texas</td></tr><tr><td>16</td><td>Cigna</td><td>Health insurance</td><td>195,265</td><td>8.2%</td><td>71,413</td><td>Bloomfield, Connecticut</td></tr><tr><td>17</td><td>Ford Motor Company</td><td>Automotive industry</td><td>176,191</td><td>11.5%</td><td>177,000</td><td>Dearborn, Michigan</td></tr><tr><td>18</td><td>Bank of America</td><td>Financials</td><td>171,912</td><td>49.4%</td><td>212,985</td><td>Charlotte, North Carolina</td></tr><tr><td>19</td><td>General Motors</td><td>Automotive industry</td><td>171,842</td><td>9.6%</td><td>163,000</td><td>Detroit, Michigan</td></tr><tr><td>20</td><td>Elevance Health</td><td>Healthcare</td><td>171,340</td><td>9.4%</td><td>104,900</td><td>Indianapolis, Indiana</td></tr><tr><td>21</td><td>Citigroup</td><td>Financials</td><td>156,820</td><td>55.1%</td><td>237,925</td><td>New York City, New York</td></tr><tr><td>22</td><td>Centene</td><td>Healthcare</td><td>153,999</td><td>6.5%</td><td>67,700</td><td>St. Louis, Missouri</td></tr><tr><td>23</td><td>The Home Depot</td><td>Retail</td><td>152,669</td><td>-3.0%</td><td>463,100</td><td>Atlanta, Georgia</td></tr><tr><td>24</td><td>Marathon Petroleum</td><td>Petroleum industry</td><td>150,307</td><td>-16.5%</td><td>18,200</td><td>Findlay, Ohio</td></tr><tr><td>25</td><td>Kroger</td><td>Retail</td><td>150,039</td><td>-3.6%</td><td>414,000</td><td>Cincinnati, Ohio</td></tr><tr><td>26</td><td>Phillips 66</td><td>Petroleum industry</td><td>149,890</td><td>-14.7%</td><td>14,000</td><td>Houston, Texas</td></tr><tr><td>27</td><td>Fannie Mae</td><td>Financials</td><td>141,240</td><td>16.2%</td><td>8,100</td><td>Washington, D.C.</td></tr><tr><td>28</td><td>Walgreens Boots Alliance</td><td>Pharmaceutical industry</td><td>139,081</td><td>4.8%</td><td>268,500</td><td>Deerfield, Illinois</td></tr><tr><td>29</td><td>Valero Energy</td><td>Petroleum industry</td><td>139,001</td><td>-18.8%</td><td>9,987</td><td>San Antonio, Texas</td></tr><tr><td>30</td><td>Meta Platforms</td><td>Technology</td><td>134,902</td><td>15.7%</td><td>67,317</td><td>Menlo Park, California</td></tr><tr><td>31</td><td>Verizon Communications</td><td>Telecommunications</td><td>133,974</td><td>-2.1%</td><td>105,400</td><td>New York City, New York</td></tr><tr><td>32</td><td>AT&T</td><td>Conglomerate and telecommunications</td><td>122,428</td><td>1.4%</td><td>150,470</td><td>Dallas, Texas</td></tr><tr><td>33</td><td>Comcast</td><td>Telecommunications</td><td>121,572</td><td>0.1%</td><td>186,000</td><td>Philadelphia, Pennsylvania</td></tr><tr><td>34</td><td>Wells Fargo</td><td>Financials</td><td>115,340</td><td>39.2%</td><td>226,000</td><td>San Francisco, California</td></tr><tr><td>35</td><td>Goldman Sachs</td><td>Financials</td><td>108,418</td><td>57.8%</td><td>45,300</td><td>New York City, New York</td></tr><tr><td>36</td><td>Freddie Mac</td><td>Financials</td><td>108,050</td><td>24.6%</td><td>8,020</td><td>McLean, Virginia</td></tr><tr><td>37</td><td>Target Corporation</td><td>Retail</td><td>107,412</td><td>-1.6%</td><td>415,000</td><td>Minneapolis, Minnesota</td></tr><tr><td>38</td><td>Humana</td><td>Health insurance</td><td>106,374</td><td>14.5%</td><td>67,600</td><td>Louisville, Kentucky</td></tr><tr><td>39</td><td>State Farm</td><td>Financials</td><td>104,199</td><td>16.6%</td><td>65,054</td><td>Bloomington, Illinois</td></tr><tr><td>40</td><td>Tesla</td><td>Automotive and energy</td><td>96,773</td><td>18.8%</td><td>140,473</td><td>Austin, Texas</td></tr><tr><td>41</td><td>Morgan Stanley</td><td>Financials</td><td>96,194</td><td>45.9%</td><td>80,006</td><td>New York City, New York</td></tr><tr><td>42</td><td>Johnson & Johnson</td><td>Pharmaceutical industry</td><td>95,195</td><td>0.3%</td><td>131,900</td><td>New Brunswick, New Jersey</td></tr><tr><td>43</td><td>Archer Daniels Midland</td><td>Food industry</td><td>93,935</td><td>-7.5%</td><td>41,008</td><td>Chicago, Illinois</td></tr><tr><td>44</td><td>PepsiCo</td><td>Beverage</td><td>91,471</td><td>5.9%</td><td>318,000</td><td>Purchase, New York</td></tr><tr><td>45</td><td>United Parcel Service</td><td>Transportation</td><td>90,958</td><td>-9.3%</td><td>382,550</td><td>Atlanta, Georgia</td></tr><tr><td>46</td><td>FedEx</td><td>Transportation</td><td>90,155</td><td>-3.6%</td><td>446,400</td><td>Memphis, Tennessee</td></tr><tr><td>47</td><td>The Walt Disney Company</td><td>Media</td><td>88,898</td><td>7.5%</td><td>199,125</td><td>Burbank, California</td></tr><tr><td>48</td><td>Dell Technologies</td><td>Technology</td><td>88,425</td><td>-13.6%</td><td>120,000</td><td>Round Rock, Texas</td></tr><tr><td>49</td><td>Lowe's</td><td>Retail</td><td>86,377</td><td>-11.0%</td><td>226,000</td><td>Mooresville, North Carolina</td></tr><tr><td>50</td><td>Procter & Gamble</td><td>Consumer products manufacturing</td><td>82,006</td><td>2.3%</td><td>107,000</td><td>Cincinnati, Ohio</td></tr><tr><td>51</td><td>Energy Transfer Partners</td><td>Petroleum industry</td><td>78,586</td><td>-12.6%</td><td>13,786</td><td>Dallas, Texas</td></tr><tr><td>52</td><td>Boeing</td><td>Aerospace and defense</td><td>77,794</td><td>16.8%</td><td>171,000</td><td>Arlington County, Virginia</td></tr><tr><td>53</td><td>Albertsons</td><td>Retail</td><td>77,650</td><td>8.0%</td><td>198,650</td><td>Boise, Idaho</td></tr><tr><td>54</td><td>Sysco</td><td>Food service</td><td>76,325</td><td>11.2%</td><td>71,750</td><td>Houston, Texas</td></tr><tr><td>55</td><td>RTX Corporation</td><td>Conglomerate</td><td>68,920</td><td>2.8%</td><td>185,000</td><td>Arlington County, Virginia</td></tr><tr><td>56</td><td>General Electric</td><td>Conglomerate</td><td>67,954</td><td>-11.2%</td><td>125,000</td><td>Boston, Massachusetts</td></tr><tr><td>57</td><td>Lockheed Martin</td><td>Aerospace and defense</td><td>67,571</td><td>2.4%</td><td>122,000</td><td>Bethesda, Maryland</td></tr><tr><td>58</td><td>American Express</td><td>Financial</td><td>67,364</td><td>21.1%</td><td>74,600</td><td>New York City, New York</td></tr><tr><td>59</td><td>Caterpillar</td><td>Machinery</td><td>67,060</td><td>12.8%</td><td>113,200</td><td>Irving, Texas</td></tr><tr><td>60</td><td>MetLife</td><td>Financials</td><td>66,905</td><td>-4.3%</td><td>45,000</td><td>New York City, New York</td></tr><tr><td>61</td><td>HCA Healthcare</td><td>Healthcare</td><td>64,968</td><td>7.9%</td><td>265,000</td><td>Nashville, Tennessee</td></tr><tr><td>62</td><td>Progressive Corporation</td><td>Insurance</td><td>62,109</td><td>25.2%</td><td>61,432</td><td>Mayfield Village, Ohio</td></tr><tr><td>63</td><td>IBM</td><td>Technology and cloud computing</td><td>61,860</td><td>-16.3%</td><td>296,600</td><td>Armonk, New York</td></tr><tr><td>64</td><td>John Deere</td><td>Agriculture manufacturing</td><td>61,251</td><td>16.5%</td><td>82,956</td><td>Moline, Illinois</td></tr><tr><td>65</td><td>Nvidia</td><td>Technology</td><td>60,922</td><td>125.9%</td><td>29,600</td><td>Santa Clara, California</td></tr><tr><td>66</td><td>StoneX Group</td><td>Financials</td><td>60,856</td><td>-7.8%</td><td>4,137</td><td>New York City, New York</td></tr><tr><td>67</td><td>Merck & Co.</td><td>Pharmaceutical industry</td><td>60,115</td><td>1.4%</td><td>71,000</td><td>Kenilworth, New Jersey</td></tr><tr><td>68</td><td>ConocoPhillips</td><td>Petroleum industry</td><td>58,574</td><td>-28.7%</td><td>9,900</td><td>Houston, Texas</td></tr><tr><td>69</td><td>Pfizer</td><td>Pharmaceutical industry</td><td>58,496</td><td>-41.7%</td><td>88,000</td><td>New York City, New York</td></tr><tr><td>70</td><td>Delta Air Lines</td><td>Airline</td><td>58,048</td><td>14.8%</td><td>103,000</td><td>Atlanta, Georgia</td></tr><tr><td>71</td><td>TD Synnex</td><td>Infotech</td><td>57,555</td><td>-7.7%</td><td>28,000</td><td>Clearwater, Florida</td></tr><tr><td>72</td><td>Publix</td><td>Retail</td><td>57,534</td><td>4.7%</td><td>253,000</td><td>Lakeland, Florida</td></tr><tr><td>73</td><td>Allstate</td><td>Insurance</td><td>57,094</td><td>11.1%</td><td>53,200</td><td>Northfield Township, Cook County, Illinois</td></tr><tr><td>74</td><td>Cisco</td><td>Telecom hardware manufacturing</td><td>56,998</td><td>10.6%</td><td>84,900</td><td>San Jose, California</td></tr><tr><td>75</td><td>Nationwide Mutual Insurance Company</td><td>Financial</td><td>54,609</td><td>6.1%</td><td>24,118</td><td>Columbus, Ohio</td></tr><tr><td>76</td><td>Charter Communications</td><td>Telecommunications</td><td>54,607</td><td>1.1%</td><td>101,100</td><td>Stamford, Connecticut</td></tr><tr><td>77</td><td>AbbVie</td><td>Pharmaceutical industry</td><td>54,317</td><td>-6.4%</td><td>50,000</td><td>Lake Bluff, Illinois</td></tr><tr><td>78</td><td>New York Life Insurance Company</td><td>Insurance</td><td>54,317</td><td>14.2%</td><td>15,384</td><td>New York City, New York</td></tr><tr><td>79</td><td>Intel</td><td>Technology</td><td>54,228</td><td>-14.0%</td><td>124,800</td><td>Santa Clara, California</td></tr><tr><td>80</td><td>TJX</td><td>Retail</td><td>49,936</td><td>2.9%</td><td>329,000</td><td>Framingham, Massachusetts</td></tr><tr><td>81</td><td>Prudential Financial</td><td>Financials</td><td>53,979</td><td>-10.1%</td><td>40,366</td><td>Newark, New Jersey</td></tr><tr><td>82</td><td>HP</td><td>Technology</td><td>53,718</td><td>-14.5%</td><td>58,000</td><td>Palo Alto, California</td></tr><tr><td>83</td><td>United Airlines</td><td>Airline</td><td>53,717</td><td>19.5%</td><td>103,300</td><td>Chicago, Illinois</td></tr><tr><td>84</td><td>Performance Food Group</td><td>Food processing</td><td>53,355</td><td>13.1%</td><td>34,825</td><td>Richmond, Virginia</td></tr><tr><td>85</td><td>Tyson Foods</td><td>Food processing</td><td>52,788</td><td>-0.8%</td><td>139,000</td><td>Springdale, Arkansas</td></tr><tr><td>86</td><td>American Airlines</td><td>Airline</td><td>52,788</td><td>7.8%</td><td>132,100</td><td>Fort Worth, Texas</td></tr><tr><td>87</td><td>Liberty Mutual</td><td>Insurance</td><td>52,612</td><td>5.3%</td><td>45,000</td><td>Boston, Massachusetts</td></tr><tr><td>88</td><td>Nike</td><td>Apparel</td><td>51,217</td><td>9.6%</td><td>83,700</td><td>Beaverton, Oregon</td></tr><tr><td>89</td><td>Oracle Corporation</td><td>Technology</td><td>49,954</td><td>17.7%</td><td>164,000</td><td>Austin, Texas</td></tr><tr><td>90</td><td>Enterprise Products</td><td>Petroleum industry</td><td>49,715</td><td>-14.6%</td><td>7,500</td><td>Houston, Texas</td></tr><tr><td>91</td><td>Capital One Financial</td><td>Financials</td><td>49,484</td><td>29.0%</td><td>51,987</td><td>Richmond, Virginia</td></tr><tr><td>92</td><td>Plains All American Pipeline</td><td>Petroleum industry</td><td>48,712</td><td>-15.1%</td><td>4,200</td><td>Houston, Texas</td></tr><tr><td>93</td><td>World Kinect Corporation</td><td>Energy trading</td><td>47,711</td><td>-19.2%</td><td>5,289</td><td>Doral, Florida</td></tr><tr><td>94</td><td>AIG</td><td>Insurance</td><td>46,802</td><td>-17.1%</td><td>25,200</td><td>New York City, New York</td></tr><tr><td>95</td><td>Coca-Cola</td><td>Beverage</td><td>45,754</td><td>6.4%</td><td>79,100</td><td>Atlanta, Georgia</td></tr><tr><td>96</td><td>TIAA</td><td>Financials</td><td>45,735</td><td>11.8%</td><td>16,023</td><td>New York City, New York</td></tr><tr><td>97</td><td>CHS</td><td>Agriculture cooperative</td><td>45,590</td><td>-4.6%</td><td>10,609</td><td>Inver Grove Heights, Minnesota</td></tr><tr><td>98</td><td>Bristol-Myers Squibb</td><td>Pharmaceutical industry</td><td>45,006</td><td>-2.5%</td><td>34,100</td><td>New York City, New York</td></tr><tr><td>99</td><td>Dow Chemical Company</td><td>Chemical industry</td><td>44,622</td><td>-21.6%</td><td>35,900</td><td>Midland, Michigan</td></tr><tr><td>100</td><td>Best Buy</td><td>Retail</td><td>43,452</td><td>-6.1%</td><td>85,000</td><td>Richfield, Minnesota</td></tr><tr><td>1</td><td>Walmart</td><td>Retail</td><td>648,125</td><td>6.0%</td><td>2,100,000</td><td>Bentonville, Arkansas</td></tr><tr><td>2</td><td>Amazon</td><td>Retail and cloud computing</td><td>574,785</td><td>11.9%</td><td>1,525,000</td><td>Seattle, Washington</td></tr><tr><td>3</td><td>Apple</td><td>Electronics industry</td><td>383,482</td><td>-2.8%</td><td>161,000</td><td>Cupertino, California</td></tr><tr><td>4</td><td>UnitedHealth Group</td><td>Healthcare</td><td>371,622</td><td>14.6%</td><td>440,000</td><td>Minnetonka, Minnesota</td></tr><tr><td>5</td><td>Berkshire Hathaway</td><td>Conglomerate</td><td>364,482</td><td>20.7%</td><td>396,500</td><td>Omaha, Nebraska</td></tr><tr><td>6</td><td>CVS Health</td><td>Healthcare</td><td>357,776</td><td>10.9%</td><td>259,500</td><td>Woonsocket, Rhode Island</td></tr><tr><td>7</td><td>ExxonMobil</td><td>Petroleum industry</td><td>344,582</td><td>-16.7%</td><td>61,500</td><td>Spring, Texas</td></tr><tr><td>8</td><td>Alphabet</td><td>Technology and cloud computing</td><td>307,394</td><td>8.7%</td><td>182,502</td><td>Mountain View, California</td></tr><tr><td>9</td><td>McKesson Corporation</td><td>Health</td><td>276,711</td><td>4.8%</td><td>48,000</td><td>Irving, Texas</td></tr><tr><td>10</td><td>Cencora</td><td>Pharmacy wholesale</td><td>262,173</td><td>9.9%</td><td>44,000</td><td>Conshohocken, Pennsylvania</td></tr><tr><td>11</td><td>Costco</td><td>Retail</td><td>242,290</td><td>6.8%</td><td>316,000</td><td>Issaquah, Washington</td></tr><tr><td>12</td><td>JPMorgan Chase</td><td>Financial services</td><td>239,425</td><td>54.7%</td><td>309,926</td><td>New York City, New York</td></tr><tr><td>13</td><td>Microsoft</td><td>Technology and cloud computing</td><td>211,915</td><td>6.9%</td><td>221,000</td><td>Redmond, Washington</td></tr><tr><td>14</td><td>Cardinal Health</td><td>Healthcare</td><td>205,012</td><td>13.0%</td><td>47,520</td><td>Dublin, Ohio</td></tr><tr><td>15</td><td>Chevron Corporation</td><td>Petroleum industry</td><td>200,949</td><td>-18.4%</td><td>45,600</td><td>Houston, Texas</td></tr><tr><td>16</td><td>Cigna</td><td>Health insurance</td><td>195,265</td><td>8.2%</td><td>71,413</td><td>Bloomfield, Connecticut</td></tr><tr><td>17</td><td>Ford Motor Company</td><td>Automotive industry</td><td>176,191</td><td>11.5%</td><td>177,000</td><td>Dearborn, Michigan</td></tr><tr><td>18</td><td>Bank of America</td><td>Financials</td><td>171,912</td><td>49.4%</td><td>212,985</td><td>Charlotte, North Carolina</td></tr><tr><td>19</td><td>General Motors</td><td>Automotive industry</td><td>171,842</td><td>9.6%</td><td>163,000</td><td>Detroit, Michigan</td></tr><tr><td>20</td><td>Elevance Health</td><td>Healthcare</td><td>171,340</td><td>9.4%</td><td>104,900</td><td>Indianapolis, Indiana</td></tr><tr><td>21</td><td>Citigroup</td><td>Financials</td><td>156,820</td><td>55.1%</td><td>237,925</td><td>New York City, New York</td></tr><tr><td>22</td><td>Centene</td><td>Healthcare</td><td>153,999</td><td>6.5%</td><td>67,700</td><td>St. Louis, Missouri</td></tr><tr><td>23</td><td>The Home Depot</td><td>Retail</td><td>152,669</td><td>-3.0%</td><td>463,100</td><td>Atlanta, Georgia</td></tr><tr><td>24</td><td>Marathon Petroleum</td><td>Petroleum industry</td><td>150,307</td><td>-16.5%</td><td>18,200</td><td>Findlay, Ohio</td></tr><tr><td>25</td><td>Kroger</td><td>Retail</td><td>150,039</td><td>-3.6%</td><td>414,000</td><td>Cincinnati, Ohio</td></tr><tr><td>26</td><td>Phillips 66</td><td>Petroleum industry</td><td>149,890</td><td>-14.7%</td><td>14,000</td><td>Houston, Texas</td></tr><tr><td>27</td><td>Fannie Mae</td><td>Financials</td><td>141,240</td><td>16.2%</td><td>8,100</td><td>Washington, D.C.</td></tr><tr><td>28</td><td>Walgreens Boots Alliance</td><td>Pharmaceutical industry</td><td>139,081</td><td>4.8%</td><td>268,500</td><td>Deerfield, Illinois</td></tr><tr><td>29</td><td>Valero Energy</td><td>Petroleum industry</td><td>139,001</td><td>-18.8%</td><td>9,987</td><td>San Antonio, Texas</td></tr><tr><td>30</td><td>Meta Platforms</td><td>Technology</td><td>134,902</td><td>15.7%</td><td>67,317</td><td>Menlo Park, California</td></tr><tr><td>31</td><td>Verizon Communications</td><td>Telecommunications</td><td>133,974</td><td>-2.1%</td><td>105,400</td><td>New York City, New York</td></tr><tr><td>32</td><td>AT&T</td><td>Conglomerate and telecommunications</td><td>122,428</td><td>1.4%</td><td>150,470</td><td>Dallas, Texas</td></tr><tr><td>33</td><td>Comcast</td><td>Telecommunications</td><td>121,572</td><td>0.1%</td><td>186,000</td><td>Philadelphia, Pennsylvania</td></tr><tr><td>34</td><td>Wells Fargo</td><td>Financials</td><td>115,340</td><td>39.2%</td><td>226,000</td><td>San Francisco, California</td></tr><tr><td>35</td><td>Goldman Sachs</td><td>Financials</td><td>108,418</td><td>57.8%</td><td>45,300</td><td>New York City, New York</td></tr><tr><td>36</td><td>Freddie Mac</td><td>Financials</td><td>108,050</td><td>24.6%</td><td>8,020</td><td>McLean, Virginia</td></tr><tr><td>37</td><td>Target Corporation</td><td>Retail</td><td>107,412</td><td>-1.6%</td><td>415,000</td><td>Minneapolis, Minnesota</td></tr><tr><td>38</td><td>Humana</td><td>Health insurance</td><td>106,374</td><td>14.5%</td><td>67,600</td><td>Louisville, Kentucky</td></tr><tr><td>39</td><td>State Farm</td><td>Financials</td><td>104,199</td><td>16.6%</td><td>65,054</td><td>Bloomington, Illinois</td></tr><tr><td>40</td><td>Tesla</td><td>Automotive and energy</td><td>96,773</td><td>18.8%</td><td>140,473</td><td>Austin, Texas</td></tr><tr><td>41</td><td>Morgan Stanley</td><td>Financials</td><td>96,194</td><td>45.9%</td><td>80,006</td><td>New York City, New York</td></tr><tr><td>42</td><td>Johnson & Johnson</td><td>Pharmaceutical industry</td><td>95,195</td><td>0.3%</td><td>131,900</td><td>New Brunswick, New Jersey</td></tr><tr><td>43</td><td>Archer Daniels Midland</td><td>Food industry</td><td>93,935</td><td>-7.5%</td><td>41,008</td><td>Chicago, Illinois</td></tr><tr><td>44</td><td>PepsiCo</td><td>Beverage</td><td>91,471</td><td>5.9%</td><td>318,000</td><td>Purchase, New York</td></tr><tr><td>45</td><td>United Parcel Service</td><td>Transportation</td><td>90,958</td><td>-9.3%</td><td>382,550</td><td>Atlanta, Georgia</td></tr><tr><td>46</td><td>FedEx</td><td>Transportation</td><td>90,155</td><td>-3.6%</td><td>446,400</td><td>Memphis, Tennessee</td></tr><tr><td>47</td><td>The Walt Disney Company</td><td>Media</td><td>88,898</td><td>7.5%</td><td>199,125</td><td>Burbank, California</td></tr><tr><td>48</td><td>Dell Technologies</td><td>Technology</td><td>88,425</td><td>-13.6%</td><td>120,000</td><td>Round Rock, Texas</td></tr><tr><td>49</td><td>Lowe's</td><td>Retail</td><td>86,377</td><td>-11.0%</td><td>226,000</td><td>Mooresville, North Carolina</td></tr><tr><td>50</td><td>Procter & Gamble</td><td>Consumer products manufacturing</td><td>82,006</td><td>2.3%</td><td>107,000</td><td>Cincinnati, Ohio</td></tr><tr><td>51</td><td>Energy Transfer Partners</td><td>Petroleum industry</td><td>78,586</td><td>-12.6%</td><td>13,786</td><td>Dallas, Texas</td></tr><tr><td>52</td><td>Boeing</td><td>Aerospace and defense</td><td>77,794</td><td>16.8%</td><td>171,000</td><td>Arlington County, Virginia</td></tr><tr><td>53</td><td>Albertsons</td><td>Retail</td><td>77,650</td><td>8.0%</td><td>198,650</td><td>Boise, Idaho</td></tr><tr><td>54</td><td>Sysco</td><td>Food service</td><td>76,325</td><td>11.2%</td><td>71,750</td><td>Houston, Texas</td></tr><tr><td>55</td><td>RTX Corporation</td><td>Conglomerate</td><td>68,920</td><td>2.8%</td><td>185,000</td><td>Arlington County, Virginia</td></tr><tr><td>56</td><td>General Electric</td><td>Conglomerate</td><td>67,954</td><td>-11.2%</td><td>125,000</td><td>Boston, Massachusetts</td></tr><tr><td>57</td><td>Lockheed Martin</td><td>Aerospace and defense</td><td>67,571</td><td>2.4%</td><td>122,000</td><td>Bethesda, Maryland</td></tr><tr><td>58</td><td>American Express</td><td>Financial</td><td>67,364</td><td>21.1%</td><td>74,600</td><td>New York City, New York</td></tr><tr><td>59</td><td>Caterpillar</td><td>Machinery</td><td>67,060</td><td>12.8%</td><td>113,200</td><td>Irving, Texas</td></tr><tr><td>60</td><td>MetLife</td><td>Financials</td><td>66,905</td><td>-4.3%</td><td>45,000</td><td>New York City, New York</td></tr><tr><td>61</td><td>HCA Healthcare</td><td>Healthcare</td><td>64,968</td><td>7.9%</td><td>265,000</td><td>Nashville, Tennessee</td></tr><tr><td>62</td><td>Progressive Corporation</td><td>Insurance</td><td>62,109</td><td>25.2%</td><td>61,432</td><td>Mayfield Village, Ohio</td></tr><tr><td>63</td><td>IBM</td><td>Technology and cloud computing</td><td>61,860</td><td>-16.3%</td><td>296,600</td><td>Armonk, New York</td></tr><tr><td>64</td><td>John Deere</td><td>Agriculture manufacturing</td><td>61,251</td><td>16.5%</td><td>82,956</td><td>Moline, Illinois</td></tr><tr><td>65</td><td>Nvidia</td><td>Technology</td><td>60,922</td><td>125.9%</td><td>29,600</td><td>Santa Clara, California</td></tr><tr><td>66</td><td>StoneX Group</td><td>Financials</td><td>60,856</td><td>-7.8%</td><td>4,137</td><td>New York City, New York</td></tr><tr><td>67</td><td>Merck & Co.</td><td>Pharmaceutical industry</td><td>60,115</td><td>1.4%</td><td>71,000</td><td>Kenilworth, New Jersey</td></tr><tr><td>68</td><td>ConocoPhillips</td><td>Petroleum industry</td><td>58,574</td><td>-28.7%</td><td>9,900</td><td>Houston, Texas</td></tr><tr><td>69</td><td>Pfizer</td><td>Pharmaceutical industry</td><td>58,496</td><td>-41.7%</td><td>88,000</td><td>New York City, New York</td></tr><tr><td>70</td><td>Delta Air Lines</td><td>Airline</td><td>58,048</td><td>14.8%</td><td>103,000</td><td>Atlanta, Georgia</td></tr><tr><td>71</td><td>TD Synnex</td><td>Infotech</td><td>57,555</td><td>-7.7%</td><td>28,000</td><td>Clearwater, Florida</td></tr><tr><td>72</td><td>Publix</td><td>Retail</td><td>57,534</td><td>4.7%</td><td>253,000</td><td>Lakeland, Florida</td></tr><tr><td>73</td><td>Allstate</td><td>Insurance</td><td>57,094</td><td>11.1%</td><td>53,200</td><td>Northfield Township, Cook County, Illinois</td></tr><tr><td>74</td><td>Cisco</td><td>Telecom hardware manufacturing</td><td>56,998</td><td>10.6%</td><td>84,900</td><td>San Jose, California</td></tr><tr><td>75</td><td>Nationwide Mutual Insurance Company</td><td>Financial</td><td>54,609</td><td>6.1%</td><td>24,118</td><td>Columbus, Ohio</td></tr><tr><td>76</td><td>Charter Communications</td><td>Telecommunications</td><td>54,607</td><td>1.1%</td><td>101,100</td><td>Stamford, Connecticut</td></tr><tr><td>77</td><td>AbbVie</td><td>Pharmaceutical industry</td><td>54,317</td><td>-6.4%</td><td>50,000</td><td>Lake Bluff, Illinois</td></tr><tr><td>78</td><td>New York Life Insurance Company</td><td>Insurance</td><td>54,317</td><td>14.2%</td><td>15,384</td><td>New York City, New York</td></tr><tr><td>79</td><td>Intel</td><td>Technology</td><td>54,228</td><td>-14.0%</td><td>124,800</td><td>Santa Clara, California</td></tr><tr><td>80</td><td>TJX</td><td>Retail</td><td>49,936</td><td>2.9%</td><td>329,000</td><td>Framingham, Massachusetts</td></tr><tr><td>81</td><td>Prudential Financial</td><td>Financials</td><td>53,979</td><td>-10.1%</td><td>40,366</td><td>Newark, New Jersey</td></tr><tr><td>82</td><td>HP</td><td>Technology</td><td>53,718</td><td>-14.5%</td><td>58,000</td><td>Palo Alto, California</td></tr><tr><td>83</td><td>United Airlines</td><td>Airline</td><td>53,717</td><td>19.5%</td><td>103,300</td><td>Chicago, Illinois</td></tr><tr><td>84</td><td>Performance Food Group</td><td>Food processing</td><td>53,355</td><td>13.1%</td><td>34,825</td><td>Richmond, Virginia</td></tr><tr><td>85</td><td>Tyson Foods</td><td>Food processing</td><td>52,788</td><td>-0.8%</td><td>139,000</td><td>Springdale, Arkansas</td></tr><tr><td>86</td><td>American Airlines</td><td>Airline</td><td>52,788</td><td>7.8%</td><td>132,100</td><td>Fort Worth, Texas</td></tr><tr><td>87</td><td>Liberty Mutual</td><td>Insurance</td><td>52,612</td><td>5.3%</td><td>45,000</td><td>Boston, Massachusetts</td></tr><tr><td>88</td><td>Nike</td><td>Apparel</td><td>51,217</td><td>9.6%</td><td>83,700</td><td>Beaverton, Oregon</td></tr><tr><td>89</td><td>Oracle Corporation</td><td>Technology</td><td>49,954</td><td>17.7%</td><td>164,000</td><td>Austin, Texas</td></tr><tr><td>90</td><td>Enterprise Products</td><td>Petroleum industry</td><td>49,715</td><td>-14.6%</td><td>7,500</td><td>Houston, Texas</td></tr><tr><td>91</td><td>Capital One Financial</td><td>Financials</td><td>49,484</td><td>29.0%</td><td>51,987</td><td>Richmond, Virginia</td></tr><tr><td>92</td><td>Plains All American Pipeline</td><td>Petroleum industry</td><td>48,712</td><td>-15.1%</td><td>4,200</td><td>Houston, Texas</td></tr><tr><td>93</td><td>World Kinect Corporation</td><td>Energy trading</td><td>47,711</td><td>-19.2%</td><td>5,289</td><td>Doral, Florida</td></tr><tr><td>94</td><td>AIG</td><td>Insurance</td><td>46,802</td><td>-17.1%</td><td>25,200</td><td>New York City, New York</td></tr><tr><td>95</td><td>Coca-Cola</td><td>Beverage</td><td>45,754</td><td>6.4%</td><td>79,100</td><td>Atlanta, Georgia</td></tr><tr><td>96</td><td>TIAA</td><td>Financials</td><td>45,735</td><td>11.8%</td><td>16,023</td><td>New York City, New York</td></tr><tr><td>97</td><td>CHS</td><td>Agriculture cooperative</td><td>45,590</td><td>-4.6%</td><td>10,609</td><td>Inver Grove Heights, Minnesota</td></tr><tr><td>98</td><td>Bristol-Myers Squibb</td><td>Pharmaceutical industry</td><td>45,006</td><td>-2.5%</td><td>34,100</td><td>New York City, New York</td></tr><tr><td>99</td><td>Dow Chemical Company</td><td>Chemical industry</td><td>44,622</td><td>-21.6%</td><td>35,900</td><td>Midland, Michigan</td></tr><tr><td>100</td><td>Best Buy</td><td>Retail</td><td>43,452</td><td>-6.1%</td><td>85,000</td><td>Richfield, Minnesota</td></tr></tbody></table></div>"
      ]
     },
     "metadata": {
      "application/vnd.databricks.v1+output": {
       "addedWidgets": {},
       "aggData": [],
       "aggError": "",
       "aggOverflow": false,
       "aggSchema": [],
       "aggSeriesLimitReached": false,
       "aggType": "",
       "arguments": {},
       "columnCustomDisplayInfos": {},
       "data": [
        [
         "1",
         "Walmart",
         "Retail",
         "648,125",
         "6.0%",
         "2,100,000",
         "Bentonville, Arkansas"
        ],
        [
         "2",
         "Amazon",
         "Retail and cloud computing",
         "574,785",
         "11.9%",
         "1,525,000",
         "Seattle, Washington"
        ],
        [
         "3",
         "Apple",
         "Electronics industry",
         "383,482",
         "-2.8%",
         "161,000",
         "Cupertino, California"
        ],
        [
         "4",
         "UnitedHealth Group",
         "Healthcare",
         "371,622",
         "14.6%",
         "440,000",
         "Minnetonka, Minnesota"
        ],
        [
         "5",
         "Berkshire Hathaway",
         "Conglomerate",
         "364,482",
         "20.7%",
         "396,500",
         "Omaha, Nebraska"
        ],
        [
         "6",
         "CVS Health",
         "Healthcare",
         "357,776",
         "10.9%",
         "259,500",
         "Woonsocket, Rhode Island"
        ],
        [
         "7",
         "ExxonMobil",
         "Petroleum industry",
         "344,582",
         "-16.7%",
         "61,500",
         "Spring, Texas"
        ],
        [
         "8",
         "Alphabet",
         "Technology and cloud computing",
         "307,394",
         "8.7%",
         "182,502",
         "Mountain View, California"
        ],
        [
         "9",
         "McKesson Corporation",
         "Health",
         "276,711",
         "4.8%",
         "48,000",
         "Irving, Texas"
        ],
        [
         "10",
         "Cencora",
         "Pharmacy wholesale",
         "262,173",
         "9.9%",
         "44,000",
         "Conshohocken, Pennsylvania"
        ],
        [
         "11",
         "Costco",
         "Retail",
         "242,290",
         "6.8%",
         "316,000",
         "Issaquah, Washington"
        ],
        [
         "12",
         "JPMorgan Chase",
         "Financial services",
         "239,425",
         "54.7%",
         "309,926",
         "New York City, New York"
        ],
        [
         "13",
         "Microsoft",
         "Technology and cloud computing",
         "211,915",
         "6.9%",
         "221,000",
         "Redmond, Washington"
        ],
        [
         "14",
         "Cardinal Health",
         "Healthcare",
         "205,012",
         "13.0%",
         "47,520",
         "Dublin, Ohio"
        ],
        [
         "15",
         "Chevron Corporation",
         "Petroleum industry",
         "200,949",
         "-18.4%",
         "45,600",
         "Houston, Texas"
        ],
        [
         "16",
         "Cigna",
         "Health insurance",
         "195,265",
         "8.2%",
         "71,413",
         "Bloomfield, Connecticut"
        ],
        [
         "17",
         "Ford Motor Company",
         "Automotive industry",
         "176,191",
         "11.5%",
         "177,000",
         "Dearborn, Michigan"
        ],
        [
         "18",
         "Bank of America",
         "Financials",
         "171,912",
         "49.4%",
         "212,985",
         "Charlotte, North Carolina"
        ],
        [
         "19",
         "General Motors",
         "Automotive industry",
         "171,842",
         "9.6%",
         "163,000",
         "Detroit, Michigan"
        ],
        [
         "20",
         "Elevance Health",
         "Healthcare",
         "171,340",
         "9.4%",
         "104,900",
         "Indianapolis, Indiana"
        ],
        [
         "21",
         "Citigroup",
         "Financials",
         "156,820",
         "55.1%",
         "237,925",
         "New York City, New York"
        ],
        [
         "22",
         "Centene",
         "Healthcare",
         "153,999",
         "6.5%",
         "67,700",
         "St. Louis, Missouri"
        ],
        [
         "23",
         "The Home Depot",
         "Retail",
         "152,669",
         "-3.0%",
         "463,100",
         "Atlanta, Georgia"
        ],
        [
         "24",
         "Marathon Petroleum",
         "Petroleum industry",
         "150,307",
         "-16.5%",
         "18,200",
         "Findlay, Ohio"
        ],
        [
         "25",
         "Kroger",
         "Retail",
         "150,039",
         "-3.6%",
         "414,000",
         "Cincinnati, Ohio"
        ],
        [
         "26",
         "Phillips 66",
         "Petroleum industry",
         "149,890",
         "-14.7%",
         "14,000",
         "Houston, Texas"
        ],
        [
         "27",
         "Fannie Mae",
         "Financials",
         "141,240",
         "16.2%",
         "8,100",
         "Washington, D.C."
        ],
        [
         "28",
         "Walgreens Boots Alliance",
         "Pharmaceutical industry",
         "139,081",
         "4.8%",
         "268,500",
         "Deerfield, Illinois"
        ],
        [
         "29",
         "Valero Energy",
         "Petroleum industry",
         "139,001",
         "-18.8%",
         "9,987",
         "San Antonio, Texas"
        ],
        [
         "30",
         "Meta Platforms",
         "Technology",
         "134,902",
         "15.7%",
         "67,317",
         "Menlo Park, California"
        ],
        [
         "31",
         "Verizon Communications",
         "Telecommunications",
         "133,974",
         "-2.1%",
         "105,400",
         "New York City, New York"
        ],
        [
         "32",
         "AT&T",
         "Conglomerate and telecommunications",
         "122,428",
         "1.4%",
         "150,470",
         "Dallas, Texas"
        ],
        [
         "33",
         "Comcast",
         "Telecommunications",
         "121,572",
         "0.1%",
         "186,000",
         "Philadelphia, Pennsylvania"
        ],
        [
         "34",
         "Wells Fargo",
         "Financials",
         "115,340",
         "39.2%",
         "226,000",
         "San Francisco, California"
        ],
        [
         "35",
         "Goldman Sachs",
         "Financials",
         "108,418",
         "57.8%",
         "45,300",
         "New York City, New York"
        ],
        [
         "36",
         "Freddie Mac",
         "Financials",
         "108,050",
         "24.6%",
         "8,020",
         "McLean, Virginia"
        ],
        [
         "37",
         "Target Corporation",
         "Retail",
         "107,412",
         "-1.6%",
         "415,000",
         "Minneapolis, Minnesota"
        ],
        [
         "38",
         "Humana",
         "Health insurance",
         "106,374",
         "14.5%",
         "67,600",
         "Louisville, Kentucky"
        ],
        [
         "39",
         "State Farm",
         "Financials",
         "104,199",
         "16.6%",
         "65,054",
         "Bloomington, Illinois"
        ],
        [
         "40",
         "Tesla",
         "Automotive and energy",
         "96,773",
         "18.8%",
         "140,473",
         "Austin, Texas"
        ],
        [
         "41",
         "Morgan Stanley",
         "Financials",
         "96,194",
         "45.9%",
         "80,006",
         "New York City, New York"
        ],
        [
         "42",
         "Johnson & Johnson",
         "Pharmaceutical industry",
         "95,195",
         "0.3%",
         "131,900",
         "New Brunswick, New Jersey"
        ],
        [
         "43",
         "Archer Daniels Midland",
         "Food industry",
         "93,935",
         "-7.5%",
         "41,008",
         "Chicago, Illinois"
        ],
        [
         "44",
         "PepsiCo",
         "Beverage",
         "91,471",
         "5.9%",
         "318,000",
         "Purchase, New York"
        ],
        [
         "45",
         "United Parcel Service",
         "Transportation",
         "90,958",
         "-9.3%",
         "382,550",
         "Atlanta, Georgia"
        ],
        [
         "46",
         "FedEx",
         "Transportation",
         "90,155",
         "-3.6%",
         "446,400",
         "Memphis, Tennessee"
        ],
        [
         "47",
         "The Walt Disney Company",
         "Media",
         "88,898",
         "7.5%",
         "199,125",
         "Burbank, California"
        ],
        [
         "48",
         "Dell Technologies",
         "Technology",
         "88,425",
         "-13.6%",
         "120,000",
         "Round Rock, Texas"
        ],
        [
         "49",
         "Lowe's",
         "Retail",
         "86,377",
         "-11.0%",
         "226,000",
         "Mooresville, North Carolina"
        ],
        [
         "50",
         "Procter & Gamble",
         "Consumer products manufacturing",
         "82,006",
         "2.3%",
         "107,000",
         "Cincinnati, Ohio"
        ],
        [
         "51",
         "Energy Transfer Partners",
         "Petroleum industry",
         "78,586",
         "-12.6%",
         "13,786",
         "Dallas, Texas"
        ],
        [
         "52",
         "Boeing",
         "Aerospace and defense",
         "77,794",
         "16.8%",
         "171,000",
         "Arlington County, Virginia"
        ],
        [
         "53",
         "Albertsons",
         "Retail",
         "77,650",
         "8.0%",
         "198,650",
         "Boise, Idaho"
        ],
        [
         "54",
         "Sysco",
         "Food service",
         "76,325",
         "11.2%",
         "71,750",
         "Houston, Texas"
        ],
        [
         "55",
         "RTX Corporation",
         "Conglomerate",
         "68,920",
         "2.8%",
         "185,000",
         "Arlington County, Virginia"
        ],
        [
         "56",
         "General Electric",
         "Conglomerate",
         "67,954",
         "-11.2%",
         "125,000",
         "Boston, Massachusetts"
        ],
        [
         "57",
         "Lockheed Martin",
         "Aerospace and defense",
         "67,571",
         "2.4%",
         "122,000",
         "Bethesda, Maryland"
        ],
        [
         "58",
         "American Express",
         "Financial",
         "67,364",
         "21.1%",
         "74,600",
         "New York City, New York"
        ],
        [
         "59",
         "Caterpillar",
         "Machinery",
         "67,060",
         "12.8%",
         "113,200",
         "Irving, Texas"
        ],
        [
         "60",
         "MetLife",
         "Financials",
         "66,905",
         "-4.3%",
         "45,000",
         "New York City, New York"
        ],
        [
         "61",
         "HCA Healthcare",
         "Healthcare",
         "64,968",
         "7.9%",
         "265,000",
         "Nashville, Tennessee"
        ],
        [
         "62",
         "Progressive Corporation",
         "Insurance",
         "62,109",
         "25.2%",
         "61,432",
         "Mayfield Village, Ohio"
        ],
        [
         "63",
         "IBM",
         "Technology and cloud computing",
         "61,860",
         "-16.3%",
         "296,600",
         "Armonk, New York"
        ],
        [
         "64",
         "John Deere",
         "Agriculture manufacturing",
         "61,251",
         "16.5%",
         "82,956",
         "Moline, Illinois"
        ],
        [
         "65",
         "Nvidia",
         "Technology",
         "60,922",
         "125.9%",
         "29,600",
         "Santa Clara, California"
        ],
        [
         "66",
         "StoneX Group",
         "Financials",
         "60,856",
         "-7.8%",
         "4,137",
         "New York City, New York"
        ],
        [
         "67",
         "Merck & Co.",
         "Pharmaceutical industry",
         "60,115",
         "1.4%",
         "71,000",
         "Kenilworth, New Jersey"
        ],
        [
         "68",
         "ConocoPhillips",
         "Petroleum industry",
         "58,574",
         "-28.7%",
         "9,900",
         "Houston, Texas"
        ],
        [
         "69",
         "Pfizer",
         "Pharmaceutical industry",
         "58,496",
         "-41.7%",
         "88,000",
         "New York City, New York"
        ],
        [
         "70",
         "Delta Air Lines",
         "Airline",
         "58,048",
         "14.8%",
         "103,000",
         "Atlanta, Georgia"
        ],
        [
         "71",
         "TD Synnex",
         "Infotech",
         "57,555",
         "-7.7%",
         "28,000",
         "Clearwater, Florida"
        ],
        [
         "72",
         "Publix",
         "Retail",
         "57,534",
         "4.7%",
         "253,000",
         "Lakeland, Florida"
        ],
        [
         "73",
         "Allstate",
         "Insurance",
         "57,094",
         "11.1%",
         "53,200",
         "Northfield Township, Cook County, Illinois"
        ],
        [
         "74",
         "Cisco",
         "Telecom hardware manufacturing",
         "56,998",
         "10.6%",
         "84,900",
         "San Jose, California"
        ],
        [
         "75",
         "Nationwide Mutual Insurance Company",
         "Financial",
         "54,609",
         "6.1%",
         "24,118",
         "Columbus, Ohio"
        ],
        [
         "76",
         "Charter Communications",
         "Telecommunications",
         "54,607",
         "1.1%",
         "101,100",
         "Stamford, Connecticut"
        ],
        [
         "77",
         "AbbVie",
         "Pharmaceutical industry",
         "54,317",
         "-6.4%",
         "50,000",
         "Lake Bluff, Illinois"
        ],
        [
         "78",
         "New York Life Insurance Company",
         "Insurance",
         "54,317",
         "14.2%",
         "15,384",
         "New York City, New York"
        ],
        [
         "79",
         "Intel",
         "Technology",
         "54,228",
         "-14.0%",
         "124,800",
         "Santa Clara, California"
        ],
        [
         "80",
         "TJX",
         "Retail",
         "49,936",
         "2.9%",
         "329,000",
         "Framingham, Massachusetts"
        ],
        [
         "81",
         "Prudential Financial",
         "Financials",
         "53,979",
         "-10.1%",
         "40,366",
         "Newark, New Jersey"
        ],
        [
         "82",
         "HP",
         "Technology",
         "53,718",
         "-14.5%",
         "58,000",
         "Palo Alto, California"
        ],
        [
         "83",
         "United Airlines",
         "Airline",
         "53,717",
         "19.5%",
         "103,300",
         "Chicago, Illinois"
        ],
        [
         "84",
         "Performance Food Group",
         "Food processing",
         "53,355",
         "13.1%",
         "34,825",
         "Richmond, Virginia"
        ],
        [
         "85",
         "Tyson Foods",
         "Food processing",
         "52,788",
         "-0.8%",
         "139,000",
         "Springdale, Arkansas"
        ],
        [
         "86",
         "American Airlines",
         "Airline",
         "52,788",
         "7.8%",
         "132,100",
         "Fort Worth, Texas"
        ],
        [
         "87",
         "Liberty Mutual",
         "Insurance",
         "52,612",
         "5.3%",
         "45,000",
         "Boston, Massachusetts"
        ],
        [
         "88",
         "Nike",
         "Apparel",
         "51,217",
         "9.6%",
         "83,700",
         "Beaverton, Oregon"
        ],
        [
         "89",
         "Oracle Corporation",
         "Technology",
         "49,954",
         "17.7%",
         "164,000",
         "Austin, Texas"
        ],
        [
         "90",
         "Enterprise Products",
         "Petroleum industry",
         "49,715",
         "-14.6%",
         "7,500",
         "Houston, Texas"
        ],
        [
         "91",
         "Capital One Financial",
         "Financials",
         "49,484",
         "29.0%",
         "51,987",
         "Richmond, Virginia"
        ],
        [
         "92",
         "Plains All American Pipeline",
         "Petroleum industry",
         "48,712",
         "-15.1%",
         "4,200",
         "Houston, Texas"
        ],
        [
         "93",
         "World Kinect Corporation",
         "Energy trading",
         "47,711",
         "-19.2%",
         "5,289",
         "Doral, Florida"
        ],
        [
         "94",
         "AIG",
         "Insurance",
         "46,802",
         "-17.1%",
         "25,200",
         "New York City, New York"
        ],
        [
         "95",
         "Coca-Cola",
         "Beverage",
         "45,754",
         "6.4%",
         "79,100",
         "Atlanta, Georgia"
        ],
        [
         "96",
         "TIAA",
         "Financials",
         "45,735",
         "11.8%",
         "16,023",
         "New York City, New York"
        ],
        [
         "97",
         "CHS",
         "Agriculture cooperative",
         "45,590",
         "-4.6%",
         "10,609",
         "Inver Grove Heights, Minnesota"
        ],
        [
         "98",
         "Bristol-Myers Squibb",
         "Pharmaceutical industry",
         "45,006",
         "-2.5%",
         "34,100",
         "New York City, New York"
        ],
        [
         "99",
         "Dow Chemical Company",
         "Chemical industry",
         "44,622",
         "-21.6%",
         "35,900",
         "Midland, Michigan"
        ],
        [
         "100",
         "Best Buy",
         "Retail",
         "43,452",
         "-6.1%",
         "85,000",
         "Richfield, Minnesota"
        ],
        [
         "1",
         "Walmart",
         "Retail",
         "648,125",
         "6.0%",
         "2,100,000",
         "Bentonville, Arkansas"
        ],
        [
         "2",
         "Amazon",
         "Retail and cloud computing",
         "574,785",
         "11.9%",
         "1,525,000",
         "Seattle, Washington"
        ],
        [
         "3",
         "Apple",
         "Electronics industry",
         "383,482",
         "-2.8%",
         "161,000",
         "Cupertino, California"
        ],
        [
         "4",
         "UnitedHealth Group",
         "Healthcare",
         "371,622",
         "14.6%",
         "440,000",
         "Minnetonka, Minnesota"
        ],
        [
         "5",
         "Berkshire Hathaway",
         "Conglomerate",
         "364,482",
         "20.7%",
         "396,500",
         "Omaha, Nebraska"
        ],
        [
         "6",
         "CVS Health",
         "Healthcare",
         "357,776",
         "10.9%",
         "259,500",
         "Woonsocket, Rhode Island"
        ],
        [
         "7",
         "ExxonMobil",
         "Petroleum industry",
         "344,582",
         "-16.7%",
         "61,500",
         "Spring, Texas"
        ],
        [
         "8",
         "Alphabet",
         "Technology and cloud computing",
         "307,394",
         "8.7%",
         "182,502",
         "Mountain View, California"
        ],
        [
         "9",
         "McKesson Corporation",
         "Health",
         "276,711",
         "4.8%",
         "48,000",
         "Irving, Texas"
        ],
        [
         "10",
         "Cencora",
         "Pharmacy wholesale",
         "262,173",
         "9.9%",
         "44,000",
         "Conshohocken, Pennsylvania"
        ],
        [
         "11",
         "Costco",
         "Retail",
         "242,290",
         "6.8%",
         "316,000",
         "Issaquah, Washington"
        ],
        [
         "12",
         "JPMorgan Chase",
         "Financial services",
         "239,425",
         "54.7%",
         "309,926",
         "New York City, New York"
        ],
        [
         "13",
         "Microsoft",
         "Technology and cloud computing",
         "211,915",
         "6.9%",
         "221,000",
         "Redmond, Washington"
        ],
        [
         "14",
         "Cardinal Health",
         "Healthcare",
         "205,012",
         "13.0%",
         "47,520",
         "Dublin, Ohio"
        ],
        [
         "15",
         "Chevron Corporation",
         "Petroleum industry",
         "200,949",
         "-18.4%",
         "45,600",
         "Houston, Texas"
        ],
        [
         "16",
         "Cigna",
         "Health insurance",
         "195,265",
         "8.2%",
         "71,413",
         "Bloomfield, Connecticut"
        ],
        [
         "17",
         "Ford Motor Company",
         "Automotive industry",
         "176,191",
         "11.5%",
         "177,000",
         "Dearborn, Michigan"
        ],
        [
         "18",
         "Bank of America",
         "Financials",
         "171,912",
         "49.4%",
         "212,985",
         "Charlotte, North Carolina"
        ],
        [
         "19",
         "General Motors",
         "Automotive industry",
         "171,842",
         "9.6%",
         "163,000",
         "Detroit, Michigan"
        ],
        [
         "20",
         "Elevance Health",
         "Healthcare",
         "171,340",
         "9.4%",
         "104,900",
         "Indianapolis, Indiana"
        ],
        [
         "21",
         "Citigroup",
         "Financials",
         "156,820",
         "55.1%",
         "237,925",
         "New York City, New York"
        ],
        [
         "22",
         "Centene",
         "Healthcare",
         "153,999",
         "6.5%",
         "67,700",
         "St. Louis, Missouri"
        ],
        [
         "23",
         "The Home Depot",
         "Retail",
         "152,669",
         "-3.0%",
         "463,100",
         "Atlanta, Georgia"
        ],
        [
         "24",
         "Marathon Petroleum",
         "Petroleum industry",
         "150,307",
         "-16.5%",
         "18,200",
         "Findlay, Ohio"
        ],
        [
         "25",
         "Kroger",
         "Retail",
         "150,039",
         "-3.6%",
         "414,000",
         "Cincinnati, Ohio"
        ],
        [
         "26",
         "Phillips 66",
         "Petroleum industry",
         "149,890",
         "-14.7%",
         "14,000",
         "Houston, Texas"
        ],
        [
         "27",
         "Fannie Mae",
         "Financials",
         "141,240",
         "16.2%",
         "8,100",
         "Washington, D.C."
        ],
        [
         "28",
         "Walgreens Boots Alliance",
         "Pharmaceutical industry",
         "139,081",
         "4.8%",
         "268,500",
         "Deerfield, Illinois"
        ],
        [
         "29",
         "Valero Energy",
         "Petroleum industry",
         "139,001",
         "-18.8%",
         "9,987",
         "San Antonio, Texas"
        ],
        [
         "30",
         "Meta Platforms",
         "Technology",
         "134,902",
         "15.7%",
         "67,317",
         "Menlo Park, California"
        ],
        [
         "31",
         "Verizon Communications",
         "Telecommunications",
         "133,974",
         "-2.1%",
         "105,400",
         "New York City, New York"
        ],
        [
         "32",
         "AT&T",
         "Conglomerate and telecommunications",
         "122,428",
         "1.4%",
         "150,470",
         "Dallas, Texas"
        ],
        [
         "33",
         "Comcast",
         "Telecommunications",
         "121,572",
         "0.1%",
         "186,000",
         "Philadelphia, Pennsylvania"
        ],
        [
         "34",
         "Wells Fargo",
         "Financials",
         "115,340",
         "39.2%",
         "226,000",
         "San Francisco, California"
        ],
        [
         "35",
         "Goldman Sachs",
         "Financials",
         "108,418",
         "57.8%",
         "45,300",
         "New York City, New York"
        ],
        [
         "36",
         "Freddie Mac",
         "Financials",
         "108,050",
         "24.6%",
         "8,020",
         "McLean, Virginia"
        ],
        [
         "37",
         "Target Corporation",
         "Retail",
         "107,412",
         "-1.6%",
         "415,000",
         "Minneapolis, Minnesota"
        ],
        [
         "38",
         "Humana",
         "Health insurance",
         "106,374",
         "14.5%",
         "67,600",
         "Louisville, Kentucky"
        ],
        [
         "39",
         "State Farm",
         "Financials",
         "104,199",
         "16.6%",
         "65,054",
         "Bloomington, Illinois"
        ],
        [
         "40",
         "Tesla",
         "Automotive and energy",
         "96,773",
         "18.8%",
         "140,473",
         "Austin, Texas"
        ],
        [
         "41",
         "Morgan Stanley",
         "Financials",
         "96,194",
         "45.9%",
         "80,006",
         "New York City, New York"
        ],
        [
         "42",
         "Johnson & Johnson",
         "Pharmaceutical industry",
         "95,195",
         "0.3%",
         "131,900",
         "New Brunswick, New Jersey"
        ],
        [
         "43",
         "Archer Daniels Midland",
         "Food industry",
         "93,935",
         "-7.5%",
         "41,008",
         "Chicago, Illinois"
        ],
        [
         "44",
         "PepsiCo",
         "Beverage",
         "91,471",
         "5.9%",
         "318,000",
         "Purchase, New York"
        ],
        [
         "45",
         "United Parcel Service",
         "Transportation",
         "90,958",
         "-9.3%",
         "382,550",
         "Atlanta, Georgia"
        ],
        [
         "46",
         "FedEx",
         "Transportation",
         "90,155",
         "-3.6%",
         "446,400",
         "Memphis, Tennessee"
        ],
        [
         "47",
         "The Walt Disney Company",
         "Media",
         "88,898",
         "7.5%",
         "199,125",
         "Burbank, California"
        ],
        [
         "48",
         "Dell Technologies",
         "Technology",
         "88,425",
         "-13.6%",
         "120,000",
         "Round Rock, Texas"
        ],
        [
         "49",
         "Lowe's",
         "Retail",
         "86,377",
         "-11.0%",
         "226,000",
         "Mooresville, North Carolina"
        ],
        [
         "50",
         "Procter & Gamble",
         "Consumer products manufacturing",
         "82,006",
         "2.3%",
         "107,000",
         "Cincinnati, Ohio"
        ],
        [
         "51",
         "Energy Transfer Partners",
         "Petroleum industry",
         "78,586",
         "-12.6%",
         "13,786",
         "Dallas, Texas"
        ],
        [
         "52",
         "Boeing",
         "Aerospace and defense",
         "77,794",
         "16.8%",
         "171,000",
         "Arlington County, Virginia"
        ],
        [
         "53",
         "Albertsons",
         "Retail",
         "77,650",
         "8.0%",
         "198,650",
         "Boise, Idaho"
        ],
        [
         "54",
         "Sysco",
         "Food service",
         "76,325",
         "11.2%",
         "71,750",
         "Houston, Texas"
        ],
        [
         "55",
         "RTX Corporation",
         "Conglomerate",
         "68,920",
         "2.8%",
         "185,000",
         "Arlington County, Virginia"
        ],
        [
         "56",
         "General Electric",
         "Conglomerate",
         "67,954",
         "-11.2%",
         "125,000",
         "Boston, Massachusetts"
        ],
        [
         "57",
         "Lockheed Martin",
         "Aerospace and defense",
         "67,571",
         "2.4%",
         "122,000",
         "Bethesda, Maryland"
        ],
        [
         "58",
         "American Express",
         "Financial",
         "67,364",
         "21.1%",
         "74,600",
         "New York City, New York"
        ],
        [
         "59",
         "Caterpillar",
         "Machinery",
         "67,060",
         "12.8%",
         "113,200",
         "Irving, Texas"
        ],
        [
         "60",
         "MetLife",
         "Financials",
         "66,905",
         "-4.3%",
         "45,000",
         "New York City, New York"
        ],
        [
         "61",
         "HCA Healthcare",
         "Healthcare",
         "64,968",
         "7.9%",
         "265,000",
         "Nashville, Tennessee"
        ],
        [
         "62",
         "Progressive Corporation",
         "Insurance",
         "62,109",
         "25.2%",
         "61,432",
         "Mayfield Village, Ohio"
        ],
        [
         "63",
         "IBM",
         "Technology and cloud computing",
         "61,860",
         "-16.3%",
         "296,600",
         "Armonk, New York"
        ],
        [
         "64",
         "John Deere",
         "Agriculture manufacturing",
         "61,251",
         "16.5%",
         "82,956",
         "Moline, Illinois"
        ],
        [
         "65",
         "Nvidia",
         "Technology",
         "60,922",
         "125.9%",
         "29,600",
         "Santa Clara, California"
        ],
        [
         "66",
         "StoneX Group",
         "Financials",
         "60,856",
         "-7.8%",
         "4,137",
         "New York City, New York"
        ],
        [
         "67",
         "Merck & Co.",
         "Pharmaceutical industry",
         "60,115",
         "1.4%",
         "71,000",
         "Kenilworth, New Jersey"
        ],
        [
         "68",
         "ConocoPhillips",
         "Petroleum industry",
         "58,574",
         "-28.7%",
         "9,900",
         "Houston, Texas"
        ],
        [
         "69",
         "Pfizer",
         "Pharmaceutical industry",
         "58,496",
         "-41.7%",
         "88,000",
         "New York City, New York"
        ],
        [
         "70",
         "Delta Air Lines",
         "Airline",
         "58,048",
         "14.8%",
         "103,000",
         "Atlanta, Georgia"
        ],
        [
         "71",
         "TD Synnex",
         "Infotech",
         "57,555",
         "-7.7%",
         "28,000",
         "Clearwater, Florida"
        ],
        [
         "72",
         "Publix",
         "Retail",
         "57,534",
         "4.7%",
         "253,000",
         "Lakeland, Florida"
        ],
        [
         "73",
         "Allstate",
         "Insurance",
         "57,094",
         "11.1%",
         "53,200",
         "Northfield Township, Cook County, Illinois"
        ],
        [
         "74",
         "Cisco",
         "Telecom hardware manufacturing",
         "56,998",
         "10.6%",
         "84,900",
         "San Jose, California"
        ],
        [
         "75",
         "Nationwide Mutual Insurance Company",
         "Financial",
         "54,609",
         "6.1%",
         "24,118",
         "Columbus, Ohio"
        ],
        [
         "76",
         "Charter Communications",
         "Telecommunications",
         "54,607",
         "1.1%",
         "101,100",
         "Stamford, Connecticut"
        ],
        [
         "77",
         "AbbVie",
         "Pharmaceutical industry",
         "54,317",
         "-6.4%",
         "50,000",
         "Lake Bluff, Illinois"
        ],
        [
         "78",
         "New York Life Insurance Company",
         "Insurance",
         "54,317",
         "14.2%",
         "15,384",
         "New York City, New York"
        ],
        [
         "79",
         "Intel",
         "Technology",
         "54,228",
         "-14.0%",
         "124,800",
         "Santa Clara, California"
        ],
        [
         "80",
         "TJX",
         "Retail",
         "49,936",
         "2.9%",
         "329,000",
         "Framingham, Massachusetts"
        ],
        [
         "81",
         "Prudential Financial",
         "Financials",
         "53,979",
         "-10.1%",
         "40,366",
         "Newark, New Jersey"
        ],
        [
         "82",
         "HP",
         "Technology",
         "53,718",
         "-14.5%",
         "58,000",
         "Palo Alto, California"
        ],
        [
         "83",
         "United Airlines",
         "Airline",
         "53,717",
         "19.5%",
         "103,300",
         "Chicago, Illinois"
        ],
        [
         "84",
         "Performance Food Group",
         "Food processing",
         "53,355",
         "13.1%",
         "34,825",
         "Richmond, Virginia"
        ],
        [
         "85",
         "Tyson Foods",
         "Food processing",
         "52,788",
         "-0.8%",
         "139,000",
         "Springdale, Arkansas"
        ],
        [
         "86",
         "American Airlines",
         "Airline",
         "52,788",
         "7.8%",
         "132,100",
         "Fort Worth, Texas"
        ],
        [
         "87",
         "Liberty Mutual",
         "Insurance",
         "52,612",
         "5.3%",
         "45,000",
         "Boston, Massachusetts"
        ],
        [
         "88",
         "Nike",
         "Apparel",
         "51,217",
         "9.6%",
         "83,700",
         "Beaverton, Oregon"
        ],
        [
         "89",
         "Oracle Corporation",
         "Technology",
         "49,954",
         "17.7%",
         "164,000",
         "Austin, Texas"
        ],
        [
         "90",
         "Enterprise Products",
         "Petroleum industry",
         "49,715",
         "-14.6%",
         "7,500",
         "Houston, Texas"
        ],
        [
         "91",
         "Capital One Financial",
         "Financials",
         "49,484",
         "29.0%",
         "51,987",
         "Richmond, Virginia"
        ],
        [
         "92",
         "Plains All American Pipeline",
         "Petroleum industry",
         "48,712",
         "-15.1%",
         "4,200",
         "Houston, Texas"
        ],
        [
         "93",
         "World Kinect Corporation",
         "Energy trading",
         "47,711",
         "-19.2%",
         "5,289",
         "Doral, Florida"
        ],
        [
         "94",
         "AIG",
         "Insurance",
         "46,802",
         "-17.1%",
         "25,200",
         "New York City, New York"
        ],
        [
         "95",
         "Coca-Cola",
         "Beverage",
         "45,754",
         "6.4%",
         "79,100",
         "Atlanta, Georgia"
        ],
        [
         "96",
         "TIAA",
         "Financials",
         "45,735",
         "11.8%",
         "16,023",
         "New York City, New York"
        ],
        [
         "97",
         "CHS",
         "Agriculture cooperative",
         "45,590",
         "-4.6%",
         "10,609",
         "Inver Grove Heights, Minnesota"
        ],
        [
         "98",
         "Bristol-Myers Squibb",
         "Pharmaceutical industry",
         "45,006",
         "-2.5%",
         "34,100",
         "New York City, New York"
        ],
        [
         "99",
         "Dow Chemical Company",
         "Chemical industry",
         "44,622",
         "-21.6%",
         "35,900",
         "Midland, Michigan"
        ],
        [
         "100",
         "Best Buy",
         "Retail",
         "43,452",
         "-6.1%",
         "85,000",
         "Richfield, Minnesota"
        ]
       ],
       "datasetInfos": [],
       "dbfsResultPath": null,
       "isJsonSchema": true,
       "metadata": {},
       "overflow": false,
       "plotOptions": {
        "customPlotOptions": {},
        "displayType": "table",
        "pivotAggregation": null,
        "pivotColumns": null,
        "xColumns": null,
        "yColumns": null
       },
       "removedWidgets": [],
       "schema": [
        {
         "metadata": "{}",
         "name": "Rank",
         "type": "\"string\""
        },
        {
         "metadata": "{}",
         "name": "Name",
         "type": "\"string\""
        },
        {
         "metadata": "{}",
         "name": "Industry",
         "type": "\"string\""
        },
        {
         "metadata": "{}",
         "name": "Revenue (USD millions)",
         "type": "\"string\""
        },
        {
         "metadata": "{}",
         "name": "Revenue growth",
         "type": "\"string\""
        },
        {
         "metadata": "{}",
         "name": "Employees",
         "type": "\"string\""
        },
        {
         "metadata": "{}",
         "name": "Headquarters",
         "type": "\"string\""
        }
       ],
       "type": "table"
      }
     },
     "output_type": "display_data"
    }
   ],
   "source": [
    "spark_df = spark.createDataFrame(df)\n",
    "display(spark_df)"
   ]
  }
 ],
 "metadata": {
  "application/vnd.databricks.v1+notebook": {
   "computePreferences": null,
   "dashboards": [],
   "environmentMetadata": {
    "base_environment": "",
    "client": "1"
   },
   "language": "python",
   "notebookMetadata": {
    "pythonIndentUnit": 4
   },
   "notebookName": "Untitled Notebook 2025-02-27 16:51:37",
   "widgets": {}
  }
 },
 "nbformat": 4,
 "nbformat_minor": 0
}
