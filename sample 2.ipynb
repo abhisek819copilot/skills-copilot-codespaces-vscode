{
 "cells": [
  {
   "cell_type": "markdown",
   "metadata": {},
   "source": [
    "# Import Required Libraries\n",
    "Import the necessary libraries, including PySpark."
   ]
  },
  {
   "cell_type": "code",
   "execution_count": null,
   "metadata": {},
   "outputs": [],
   "source": [
    "# Import Required Libraries\n",
    "from pyspark.sql import SparkSession\n",
    "from pyspark.sql.functions import year, month, dayofmonth, col\n",
    "from datetime import datetime\n",
    "import os\n",
    "\n",
    "# Initialize Spark session\n",
    "spark = SparkSession.builder.appName(\"DataAggregation\").getOrCreate()"
   ]
  },
  {
   "cell_type": "markdown",
   "metadata": {},
   "source": [
    "# Create Widget for Dataset Name\n",
    "Create a Databricks widget to input the dataset name."
   ]
  },
  {
   "cell_type": "code",
   "execution_count": null,
   "metadata": {},
   "outputs": [],
   "source": [
    "# Create Widget for Dataset Name\n",
    "dbutils.widgets.text(\"dataset_name\", \"\", \"Enter Dataset Name\")\n",
    "\n",
    "# Get the dataset name from the widget\n",
    "dataset_name = dbutils.widgets.get(\"dataset_name\")\n",
    "\n",
    "# Define the path to the raw folder\n",
    "raw_folder_path = f\"/dbfs/raw/{dataset_name}.csv\"\n",
    "\n",
    "# Read the CSV file into a DataFrame\n",
    "df = spark.read.csv(raw_folder_path, header=True, inferSchema=True)\n",
    "\n",
    "# Display the first few rows of the DataFrame\n",
    "df.show(5)"
   ]
  },
  {
   "cell_type": "markdown",
   "metadata": {},
   "source": [
    "# Read CSV from Raw Folder\n",
    "Read the CSV file from the raw folder using the dataset name provided by the widget."
   ]
  },
  {
   "cell_type": "code",
   "execution_count": null,
   "metadata": {},
   "outputs": [],
   "source": [
    "# Read CSV from Raw Folder\n",
    "# Read the CSV file from the raw folder using the dataset name provided by the widget.\n",
    "\n",
    "# Define the path to the stage folder\n",
    "stage_folder_path = f\"/dbfs/stage/{dataset_name}.csv\"\n",
    "\n",
    "# Function to aggregate data by year, month, and day\n",
    "def aggregate_data(df):\n",
    "    df = df.withColumn(\"year\", year(col(\"date\"))) \\\n",
    "           .withColumn(\"month\", month(col(\"date\"))) \\\n",
    "           .withColumn(\"day\", dayofmonth(col(\"date\")))\n",
    "    aggregated_df = df.groupBy(\"year\", \"month\", \"day\").sum()\n",
    "    return aggregated_df\n",
    "\n",
    "# Aggregate the data\n",
    "aggregated_df = aggregate_data(df)\n",
    "\n",
    "# Add created_ts column with the current date and time\n",
    "aggregated_df = aggregated_df.withColumn(\"created_ts\", lit(datetime.now()))\n",
    "\n",
    "# Append the aggregated data to the stage folder\n",
    "if os.path.exists(stage_folder_path):\n",
    "    existing_df = spark.read.csv(stage_folder_path, header=True, inferSchema=True)\n",
    "    aggregated_df = existing_df.union(aggregated_df)\n",
    "\n",
    "aggregated_df.write.csv(stage_folder_path, mode=\"overwrite\", header=True)\n",
    "\n",
    "# Display the first few rows of the aggregated DataFrame\n",
    "aggregated_df.show(5)"
   ]
  },
  {
   "cell_type": "markdown",
   "metadata": {},
   "source": [
    "# Define Aggregation Function\n",
    "Define a function that aggregates the data by year, month, and day."
   ]
  },
  {
   "cell_type": "code",
   "execution_count": null,
   "metadata": {},
   "outputs": [],
   "source": [
    "from pyspark.sql.functions import year, month, dayofmonth, col, lit\n",
    "from datetime import datetime\n",
    "\n",
    "# Function to aggregate data by year, month, and day\n",
    "def aggregate_data(df):\n",
    "    df = df.withColumn(\"year\", year(col(\"date\"))) \\\n",
    "           .withColumn(\"month\", month(col(\"date\"))) \\\n",
    "           .withColumn(\"day\", dayofmonth(col(\"date\")))\n",
    "    aggregated_df = df.groupBy(\"year\", \"month\", \"day\").sum()\n",
    "    return aggregated_df"
   ]
  },
  {
   "cell_type": "markdown",
   "metadata": {},
   "source": [
    "# Aggregate Data and Append to Stage Folder\n",
    "Aggregate the data, add a created_ts column with the current date and time, and append the result to the stage folder."
   ]
  },
  {
   "cell_type": "code",
   "execution_count": null,
   "metadata": {},
   "outputs": [],
   "source": [
    "from pyspark.sql.functions import year, month, dayofmonth, col, lit\n",
    "from datetime import datetime\n",
    "\n",
    "# Function to aggregate data by year, month, and day\n",
    "def aggregate_data(df):\n",
    "    df = df.withColumn(\"year\", year(col(\"date\"))) \\\n",
    "           .withColumn(\"month\", month(col(\"date\"))) \\\n",
    "           .withColumn(\"day\", dayofmonth(col(\"date\")))\n",
    "    aggregated_df = df.groupBy(\"year\", \"month\", \"day\").sum()\n",
    "    return aggregated_df\n",
    "\n",
    "# Aggregate the data\n",
    "aggregated_df = aggregate_data(df)\n",
    "\n",
    "# Add created_ts column with the current date and time\n",
    "aggregated_df = aggregated_df.withColumn(\"created_ts\", lit(datetime.now()))\n",
    "\n",
    "# Append the aggregated data to the stage folder\n",
    "if os.path.exists(stage_folder_path):\n",
    "    existing_df = spark.read.csv(stage_folder_path, header=True, inferSchema=True)\n",
    "    aggregated_df = existing_df.union(aggregated_df)\n",
    "\n",
    "aggregated_df.write.csv(stage_folder_path, mode=\"overwrite\", header=True)\n",
    "\n",
    "# Display the first few rows of the aggregated DataFrame\n",
    "aggregated_df.show(5)"
   ]
  }
 ],
 "metadata": {
  "language_info": {
   "name": "python"
  }
 },
 "nbformat": 4,
 "nbformat_minor": 2
}
